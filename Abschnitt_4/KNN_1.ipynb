{
 "cells": [
  {
   "cell_type": "code",
   "execution_count": 102,
   "metadata": {},
   "outputs": [],
   "source": [
    "import numpy as np\r\n",
    "np.random.seed(42)"
   ]
  },
  {
   "cell_type": "code",
   "execution_count": 103,
   "metadata": {},
   "outputs": [],
   "source": [
    "def generate_dataset():\r\n",
    "    num_samples_class1 = 10\r\n",
    "    num_samples_class2 = 6\r\n",
    "    num_samples_class3 = 13\r\n",
    "    cov = np.array([[1,0],[0,1]]) # Covarianz-Matrix\r\n",
    "    # Mehrdimensionale Normalverteilung mit unterschiedlichen Zentren\r\n",
    "    data1 = np.random.multivariate_normal(np.array([0,0]), cov, num_samples_class1)\r\n",
    "    data2 = np.random.multivariate_normal(np.array([-10,4]), cov, num_samples_class2)\r\n",
    "    data3 = np.random.multivariate_normal(np.array([10,10]), cov, num_samples_class3)\r\n",
    "    data = np.concatenate((data1,data2,data3), axis = 0)\r\n",
    "    classes = np.array(\r\n",
    "        [0 for i in range(num_samples_class1)] + \r\n",
    "        [1 for i in range(num_samples_class2)] +\r\n",
    "        [2 for i in range(num_samples_class3)]\r\n",
    "    )\r\n",
    "    return data, classes"
   ]
  },
  {
   "cell_type": "code",
   "execution_count": 104,
   "metadata": {},
   "outputs": [],
   "source": [
    "x, y = generate_dataset()\r\n",
    "#print(f\"x-shape: {x.shape}\")\r\n",
    "#print(f\"y-shape {y.shape}\")\r\n",
    "#print(f\"x:\\n{x}\")\r\n",
    "#print(f\"y:\\n{y}\")"
   ]
  },
  {
   "cell_type": "code",
   "execution_count": 105,
   "metadata": {},
   "outputs": [],
   "source": [
    "import matplotlib.pyplot as plt\r\n",
    "def plot_data(x,y):\r\n",
    "    colors = [\"red\",  \"blue\", \"green\"]\r\n",
    "    for index, point in enumerate(x):\r\n",
    "        plt.scatter(point[0],point[1], color = colors[y[index]])\r\n",
    "    plt.show()"
   ]
  },
  {
   "cell_type": "code",
   "execution_count": 106,
   "metadata": {},
   "outputs": [
    {
     "data": {
      "image/png": "[encoded data removed]",
      "text/plain": "<Figure size 432x288 with 1 Axes>"
     },
     "metadata": {
      "needs_background": "light"
     },
     "output_type": "display_data"
    }
   ],
   "source": [
    "plot_data(x,y)"
   ]
  },
  {
   "cell_type": "markdown",
   "metadata": {},
   "source": [
    "## KNN Implementation"
   ]
  },
  {
   "cell_type": "code",
   "execution_count": 107,
   "metadata": {},
   "outputs": [],
   "source": [
    "class KNeighborClassifier:\r\n",
    "    def __init__(self, n_neighbors: int=5):\r\n",
    "        self.n_neighbors = n_neighbors\r\n",
    "        self.X: np.ndarray\r\n",
    "        self.y: np.ndarray\r\n",
    "        self.num_classes: int\r\n",
    "\r\n",
    "    def _distance(self, p1:np.ndarray, p2:np.ndarray):\r\n",
    "        return np.linalg.norm(p1-p2)\r\n",
    "\r\n",
    "    def kneighbors(self, X:np.ndarray):\r\n",
    "        distances = np.array([[self._distance(sample, x_i) for x_i in self.X] for sample in X])\r\n",
    "        # Für jeden Punkt/jedes Sample wird in dieser Schleife die Distanz zu jedem anderen Punkt ermittelt\r\n",
    "        sorted_distances_idxs = np.argsort(distances[:])\r\n",
    "        kneighbor_idxs = sorted_distances_idxs[:, :self.n_neighbors]\r\n",
    "        return kneighbor_idxs\r\n",
    "\r\n",
    "    def fit(self, X:np.ndarray, Y:np.ndarray):\r\n",
    "        self.X = X\r\n",
    "        self.y = y\r\n",
    "        self.num_classes = len(np.unique(self.y))\r\n",
    "\r\n",
    "    def _vote_class(self, kneighbors_idxs: np.ndarray):\r\n",
    "        votes = np.zeros(shape=(self.num_classes))\r\n",
    "        neighbors_classes = self.y[kneighbors_idxs]\r\n",
    "        for neighbor_class in neighbors_classes:\r\n",
    "            votes[neighbor_class] += 1\r\n",
    "        voted_class = np.argmax(votes) # Index der Klasse mit dem Maximum\r\n",
    "        return voted_class\r\n",
    "\r\n",
    "    def predict(self, X:np.ndarray):\r\n",
    "        kneighbors_idxs = self.kneighbors(X)\r\n",
    "        y_pred = np.array([self._vote_class(kneighbor_idxs) for kneighbor_idxs in kneighbors_idxs])\r\n",
    "        return y_pred\r\n",
    "\r\n",
    "    def score(self, X:np.ndarray, Y:np.ndarray):\r\n",
    "        y_pred = self.predict(X)\r\n",
    "        accuracy = np.mean(y_pred == y)\r\n",
    "        return accuracy\r\n"
   ]
  },
  {
   "cell_type": "code",
   "execution_count": 108,
   "metadata": {},
   "outputs": [
    {
     "name": "stdout",
     "output_type": "stream",
     "text": [
      "x_test:\n",
      " [[ 0.  4.]\n",
      " [-5.  4.]]\n",
      "y_test:\n",
      " [0 1]\n",
      "y_pred:\n",
      " [0 1]\n",
      "score: 0.0\n"
     ]
    },
    {
     "name": "stderr",
     "output_type": "stream",
     "text": [
      "ipykernel_launcher:38: DeprecationWarning: elementwise comparison failed; this will raise an error in the future.\n"
     ]
    }
   ],
   "source": [
    "x_test = np.array(\r\n",
    "    [[0.0, 4.0],\r\n",
    "    [-5.0, 4.0]]\r\n",
    ")\r\n",
    "y_test = np.array(\r\n",
    "    [0, 1]\r\n",
    ")\r\n",
    "\r\n",
    "clf = KNeighborClassifier(n_neighbors=3)\r\n",
    "clf.fit(x,y)\r\n",
    "\r\n",
    "y_pred = clf.predict(x_test)\r\n",
    "accuracy = clf.score(x_test, y_test)\r\n",
    "\r\n",
    "print(f\"x_test:\\n {x_test}\")\r\n",
    "print(f\"y_test:\\n {y_test}\")\r\n",
    "print(f\"y_pred:\\n {y_pred}\")\r\n",
    "print(f\"score: {accuracy}\")"
   ]
  },
  {
   "cell_type": "code",
   "execution_count": 140,
   "metadata": {},
   "outputs": [],
   "source": [
    "def plot_knn_prediction(clf: KNeighborClassifier, X_samples: np.ndarray, y_pred: np.ndarray, X: np.ndarray, y: np.ndarray):\r\n",
    "    colors = [\"red\",  \"blue\", \"green\"]\r\n",
    "    for index, point in enumerate(x):\r\n",
    "        plt.scatter(point[0],point[1], color = colors[y[index]])\r\n",
    "    neighbors_idxs = clf.kneighbors(X_samples)\r\n",
    "    for index, point in enumerate(X_samples):\r\n",
    "        neighbors_pts = clf.X[neighbors_idxs][index]\r\n",
    "        neighbors_classes = clf.y[neighbors_idxs][index]\r\n",
    "        plt.scatter(point[0], point[1], color = colors[y_pred[index]], marker = \"*\", s = 120)\r\n",
    "        for neighbor_point, neighbor_class in zip(neighbors_pts, neighbors_classes):\r\n",
    "            plt.plot((neighbor_point[0], point[0]), (neighbor_point[1], point[1]), color = colors[neighbor_class])\r\n",
    "    plt.show()"
   ]
  },
  {
   "cell_type": "code",
   "execution_count": 141,
   "metadata": {},
   "outputs": [
    {
     "data": {
      "image/png": "[encoded data removed]",
      "text/plain": "<Figure size 432x288 with 1 Axes>"
     },
     "metadata": {
      "needs_background": "light"
     },
     "output_type": "display_data"
    }
   ],
   "source": [
    "plot_knn_prediction(clf, x_test, y_pred, x, y)"
   ]
  }
 ],
 "metadata": {
  "kernelspec": {
   "display_name": "Python 3.7.2 64-bit",
   "metadata": {
    "interpreter": {
     "hash": "eb5e4990910e14dd45c435c2968b5a5f5ce800b4f8a2bb72e1f77e313f787063"
    }
   },
   "name": "python3"
  },
  "language_info": {
   "codemirror_mode": {
    "name": "ipython",
    "version": 3
   },
   "file_extension": ".py",
   "mimetype": "text/x-python",
   "name": "python",
   "nbconvert_exporter": "python",
   "pygments_lexer": "ipython3",
   "version": "3.7.2"
  },
  "orig_nbformat": 2
 },
 "nbformat": 4,
 "nbformat_minor": 2
}
