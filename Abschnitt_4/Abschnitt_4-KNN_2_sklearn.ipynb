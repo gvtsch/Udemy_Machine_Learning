{
 "cells": [
  {
   "cell_type": "code",
   "execution_count": 27,
   "metadata": {},
   "outputs": [],
   "source": [
    "import numpy as np\n",
    "np.random.seed(42)\n",
    "from sklearn import datasets"
   ]
  },
  {
   "cell_type": "markdown",
   "metadata": {},
   "source": [
    "### Dataset preparation"
   ]
  },
  {
   "cell_type": "code",
   "execution_count": 28,
   "metadata": {},
   "outputs": [],
   "source": [
    "iris = datasets.load_iris() # Iris wird im Dataset von sklearn mitgeliefert\r\n",
    "\r\n",
    "x = iris.data[:, :2] # [:, [0, 1]] --> [Jede Zeile, bis nicht einschließlich Spalte 2]\r\n",
    "y = iris.target\r\n",
    "\r\n",
    "class_names = iris.target_names\r\n",
    "discription = iris.DESCR"
   ]
  },
  {
   "cell_type": "code",
   "execution_count": 29,
   "metadata": {},
   "outputs": [],
   "source": [
    "#print(f\"class_names:\\n{class_names}\")\r\n",
    "#print(f\"discription:\\n{discription}\")"
   ]
  },
  {
   "cell_type": "code",
   "execution_count": 30,
   "metadata": {},
   "outputs": [],
   "source": [
    "#print(f\"x shape:\\n{x.shape}\")\r\n",
    "#print(f\"y shape:\\n{y.shape}\")\r\n",
    "\r\n",
    "#print(f\"x:\\n{x}\")\r\n",
    "#print(f\"y:\\n{y}\")"
   ]
  },
  {
   "cell_type": "markdown",
   "metadata": {},
   "source": [
    "### Dataset Split"
   ]
  },
  {
   "cell_type": "code",
   "execution_count": 31,
   "metadata": {
    "scrolled": true
   },
   "outputs": [
    {
     "name": "stdout",
     "output_type": "stream",
     "text": [
      "num_samples: 150\n",
      "num_features: 2\n",
      "num_classes: 150\n"
     ]
    }
   ],
   "source": [
    "num_samples = x.shape[0]\n",
    "num_features = x.shape[1]\n",
    "num_classes = y.shape[0]\n",
    "\n",
    "print(f\"num_samples: {num_samples}\")\n",
    "print(f\"num_features: {num_features}\")\n",
    "print(f\"num_classes: {num_classes}\")"
   ]
  },
  {
   "cell_type": "code",
   "execution_count": 32,
   "metadata": {},
   "outputs": [
    {
     "name": "stdout",
     "output_type": "stream",
     "text": [
      "[ 73  18 118  78  76  31  64 141  68  82 110  12  36   9  19  56 104  69\n",
      "  55 132  29 127  26 128 131 145 108 143  45  30  22  15  65  11  42 146\n",
      "  51  27   4  32 142  85  86  16  10  81 133 137  75 109  96 105  66   0\n",
      " 122  67  28  40  44  60 123  24  25  23  94  39  95 117  47  97 113  33\n",
      " 138 101  62  84 148  53   5  93 111  49  35  80  77  34 114   7  43  70\n",
      "  98 120  83 134 135  89   8  13 119 125   3  17  38  72 136   6 112 100\n",
      "   2  63  54 126  50 115  46 139  61 147  79  59  91  41  58  90  48  88\n",
      " 107 124  21  57 144 129  37 140   1  52 130 103  99 116  87  74 121 149\n",
      "  20  71 106  14  92 102]\n"
     ]
    }
   ],
   "source": [
    "test_size = num_samples // 3 # // Bedeutet Integer-Division. Ansonsten liefert / immer einen Float. Wir brauchen hier aber Integer\r\n",
    "random_idxs = np.random.permutation(num_samples) # es wird eine zufällige Permutation der Indizes durchgeführt\r\n",
    "# Eine Variation (von lateinisch variatio „Veränderung“) oder geordnete Stichprobe ist in der Kombinatorik eine Auswahl von Objekten \r\n",
    "# aus einer Menge in einer bestimmten Reihenfolge.\r\n",
    "print(random_idxs)\r\n",
    "\r\n",
    "x_train = x[random_idxs[:-test_size]] # Jede Index, bis ausschließlich \"Letzter-test_size\", also [0:99]\r\n",
    "y_train = y[random_idxs[:-test_size]]\r\n",
    "\r\n",
    "x_test = x[random_idxs[-test_size:]] # Indizes [100:149]\r\n",
    "y_test = y[random_idxs[-test_size:]]"
   ]
  },
  {
   "cell_type": "code",
   "execution_count": 33,
   "metadata": {
    "scrolled": true
   },
   "outputs": [],
   "source": [
    "#print(f\"x_train shape:\\n{x_train.shape}\")\r\n",
    "#print(f\"y_train shape:\\n{y_train.shape}\")\r\n",
    "\r\n",
    "#print(f\"x_test shape:\\n{x_test.shape}\")\r\n",
    "#print(f\"y_test shape:\\n{y_test.shape}\")"
   ]
  },
  {
   "cell_type": "markdown",
   "metadata": {},
   "source": [
    "### KNN Model"
   ]
  },
  {
   "cell_type": "code",
   "execution_count": 34,
   "metadata": {},
   "outputs": [
    {
     "name": "stdout",
     "output_type": "stream",
     "text": [
      "accuracy: 58.0%\n",
      "y_pred:\n",
      "[0 0 0 2 1 0 1 1 0 1 2 1 2 2 0 2 2 2 2 1 2 1 2 1 0 1 2 1 0 1 1 2 0 1 0 2 2\n",
      " 2 1 2 2 2 1 2 0 1 1 0 2 2]\n"
     ]
    }
   ],
   "source": [
    "from sklearn.neighbors import KNeighborsClassifier\n",
    "\n",
    "clf = KNeighborsClassifier(n_neighbors=3)\n",
    "clf.fit(x_train, y_train)\n",
    "\n",
    "accuracy = clf.score(x_test, y_test)\n",
    "print(f\"accuracy: {accuracy*100.0:.4}%\")\n",
    "\n",
    "y_pred = clf.predict(x_test)\n",
    "print(f\"y_pred:\\n{y_pred}\")"
   ]
  },
  {
   "cell_type": "markdown",
   "metadata": {},
   "source": [
    "Eine Genauigkeit von 58% ist für 3 Klassen wirklich schlecht"
   ]
  },
  {
   "cell_type": "markdown",
   "metadata": {},
   "source": [
    "### Try different hyperparameters\r\n",
    "Hyperparameter sind die Stellschrauben, die man beim Modell vertrimmen kann. Hier wären das die n_neighbors und die weights (Gewichtung gegenüber der Nacharn. Je näher der Punkt, desto das Gewicht) Parameter.\r\n"
   ]
  },
  {
   "cell_type": "code",
   "execution_count": 35,
   "metadata": {
    "scrolled": true
   },
   "outputs": [
    {
     "name": "stdout",
     "output_type": "stream",
     "text": [
      "Neighbors: 1  Weight: uniform  Score: 0.68\n",
      "Neighbors: 1  Weight: distance  Score: 0.68\n",
      "Neighbors: 2  Weight: uniform  Score: 0.54\n",
      "Neighbors: 2  Weight: distance  Score: 0.68\n",
      "Neighbors: 3  Weight: uniform  Score: 0.58\n",
      "Neighbors: 3  Weight: distance  Score: 0.56\n",
      "Neighbors: 4  Weight: uniform  Score: 0.64\n",
      "Neighbors: 4  Weight: distance  Score: 0.66\n",
      "Neighbors: 5  Weight: uniform  Score: 0.68\n",
      "Neighbors: 5  Weight: distance  Score: 0.62\n",
      "Neighbors: 6  Weight: uniform  Score: 0.68\n",
      "Neighbors: 6  Weight: distance  Score: 0.62\n",
      "Neighbors: 7  Weight: uniform  Score: 0.72\n",
      "Neighbors: 7  Weight: distance  Score: 0.66\n",
      "Neighbors: 8  Weight: uniform  Score: 0.74\n",
      "Neighbors: 8  Weight: distance  Score: 0.68\n",
      "Neighbors: 9  Weight: uniform  Score: 0.74\n",
      "Neighbors: 9  Weight: distance  Score: 0.72\n",
      "Neighbors: 10  Weight: uniform  Score: 0.66\n",
      "Neighbors: 10  Weight: distance  Score: 0.72\n"
     ]
    }
   ],
   "source": [
    "n_neighbors = [n_neighbor for n_neighbor in range(1, 11)] # [1, 2, ..., 10]\n",
    "weight_modes = ['uniform', 'distance']\n",
    "\n",
    "# 10 x 2 = 20 Models\n",
    "for n_neighbor in n_neighbors:\n",
    "    for weight_mode in weight_modes:\n",
    "        clf = KNeighborsClassifier(\n",
    "            n_neighbors=n_neighbor,\n",
    "            weights=weight_mode\n",
    "        )\n",
    "        clf.fit(x_train, y_train)\n",
    "        accuracy = clf.score(x_test, y_test)\n",
    "        print(f\"Neighbors: {n_neighbor}  Weight: {weight_mode}  Score: {accuracy:.4}\")"
   ]
  },
  {
   "cell_type": "markdown",
   "metadata": {},
   "source": [
    "### Best KNN Model\r\n",
    "Aus obiger Betrachtung gewinnt man die Info, dass die Hyperparameter n_neighbors = 8 und weights = uniform die beste Wahl ist."
   ]
  },
  {
   "cell_type": "code",
   "execution_count": 36,
   "metadata": {
    "scrolled": true
   },
   "outputs": [
    {
     "name": "stdout",
     "output_type": "stream",
     "text": [
      "accuracy: 74.0%\n",
      "y_pred:\n",
      "[0 0 0 2 1 0 1 2 0 1 2 2 2 1 0 2 1 2 1 1 1 0 1 1 0 1 2 2 0 1 2 2 0 1 0 2 2\n",
      " 2 1 2 2 2 1 1 0 1 0 0 1 2]\n",
      "y_pred_proba:\n",
      "[[1.    0.    0.   ]\n",
      " [1.    0.    0.   ]\n",
      " [1.    0.    0.   ]\n",
      " [0.    0.125 0.875]\n",
      " [0.    0.5   0.5  ]\n",
      " [1.    0.    0.   ]\n",
      " [0.    0.625 0.375]\n",
      " [0.    0.375 0.625]\n",
      " [1.    0.    0.   ]\n",
      " [0.    0.5   0.5  ]\n",
      " [0.    0.125 0.875]\n",
      " [0.    0.375 0.625]\n",
      " [0.    0.375 0.625]\n",
      " [0.    0.5   0.5  ]\n",
      " [1.    0.    0.   ]\n",
      " [0.    0.375 0.625]\n",
      " [0.    0.625 0.375]\n",
      " [0.    0.375 0.625]\n",
      " [0.    0.625 0.375]\n",
      " [0.125 0.875 0.   ]\n",
      " [0.    0.625 0.375]\n",
      " [0.625 0.375 0.   ]\n",
      " [0.    0.5   0.5  ]\n",
      " [0.    0.875 0.125]\n",
      " [1.    0.    0.   ]\n",
      " [0.    0.875 0.125]\n",
      " [0.    0.125 0.875]\n",
      " [0.    0.375 0.625]\n",
      " [1.    0.    0.   ]\n",
      " [0.125 0.875 0.   ]\n",
      " [0.    0.375 0.625]\n",
      " [0.    0.25  0.75 ]\n",
      " [1.    0.    0.   ]\n",
      " [0.    0.5   0.5  ]\n",
      " [1.    0.    0.   ]\n",
      " [0.    0.375 0.625]\n",
      " [0.    0.125 0.875]\n",
      " [0.    0.125 0.875]\n",
      " [0.    0.625 0.375]\n",
      " [0.    0.375 0.625]\n",
      " [0.    0.25  0.75 ]\n",
      " [0.    0.25  0.75 ]\n",
      " [0.    0.75  0.25 ]\n",
      " [0.    0.625 0.375]\n",
      " [1.    0.    0.   ]\n",
      " [0.    0.5   0.5  ]\n",
      " [0.5   0.5   0.   ]\n",
      " [1.    0.    0.   ]\n",
      " [0.    0.5   0.5  ]\n",
      " [0.    0.375 0.625]]\n"
     ]
    }
   ],
   "source": [
    "clf = KNeighborsClassifier(\r\n",
    "    n_neighbors=8,\r\n",
    "    weights=\"uniform\"\r\n",
    ")\r\n",
    "clf.fit(x_train, y_train)\r\n",
    "\r\n",
    "accuracy = clf.score(x_test, y_test)\r\n",
    "print(f\"accuracy: {accuracy*100.0:.4}%\")\r\n",
    "\r\n",
    "y_pred = clf.predict(x_test)\r\n",
    "print(f\"y_pred:\\n{y_pred}\")\r\n",
    "\r\n",
    "y_pred_proba = clf.predict_proba(x_test) # Liefert ein Output Array mit 50 (Test-Samples) x 3 (Klassen) Einträgen und enthält die Wahrscheinlichkeit,\r\n",
    "# dass das Test-Sample zu Klasse xy passt. Zeile 4: 1 von 8 Nachbar, gehört zu Klasse 2 --> 12.5% und 7 von 8 Nachbarn gehören zu Klasse 3 --> 87.5% Wahrscheinlichkeit, \r\n",
    "# dass das Sample zu Klasse 3 gehört\r\n",
    "print(f\"y_pred_proba:\\n{y_pred_proba}\")"
   ]
  },
  {
   "cell_type": "markdown",
   "metadata": {},
   "source": [
    "### Decision Border Plot\r\n",
    "Wo liegt die Entscheidungsebene zum Trennen der Samples? Wo wird Sample xy Klasse yx zugewiesen?"
   ]
  },
  {
   "cell_type": "code",
   "execution_count": 37,
   "metadata": {},
   "outputs": [],
   "source": [
    "import matplotlib.pyplot as plt\n",
    "from matplotlib.colors import ListedColormap\n",
    "\n",
    "cmap_background = ListedColormap([\n",
    "    '#FFAAAA',\n",
    "    '#AAAAFF',\n",
    "    '#AAFFAA'\n",
    "])\n",
    "cmap_points = [\n",
    "    'red',\n",
    "    'blue', \n",
    "    'green'\n",
    "]\n",
    "\n",
    "def make_meshgrid(x: np.ndarray, y: np.ndarray):\n",
    "    x = np.arange(\n",
    "        np.min(x) - 1, np.max(x) + 1, 0.01\n",
    "    ) # [4.0, 4.01, 4.02, .... 8.0]\n",
    "    y = np.arange(\n",
    "        np.min(y) - 1, np.max(y) + 1, 0.01\n",
    "    ) # [2.0, 2.01, 2.02, .... 4.5]\n",
    "    xx, yy = np.meshgrid(x, y)\n",
    "    return xx, yy\n",
    "\n",
    "def plot_contours(\n",
    "    ax: plt.Axes,\n",
    "    clf: KNeighborsClassifier,\n",
    "    xx: np.ndarray,\n",
    "    yy: np.ndarray,\n",
    "    **params\n",
    ") -> None:\n",
    "    z = clf.predict(np.c_[xx.ravel(), yy.ravel()])\n",
    "    z = np.reshape(z, (xx.shape))\n",
    "    ax.contourf(xx, yy, z, **params)\n",
    "\n",
    "def plot_decision_border(\n",
    "    clf: KNeighborsClassifier,\n",
    "    x_train: np.ndarray,\n",
    "    y_train: np.ndarray,\n",
    "    x_test: np.ndarray,\n",
    "    y_test: np.ndarray\n",
    ") -> None:\n",
    "    fig, ax = plt.subplots()\n",
    "    X0 = x_train[:, 0]\n",
    "    X1 = x_train[:, 1]\n",
    "    xx, yy = make_meshgrid(X0, X1)\n",
    "    plot_contours(\n",
    "        ax, clf, xx, yy, cmap=cmap_background, alpha=0.5\n",
    "    )\n",
    "    for idx, point in enumerate(x_train):\n",
    "        plt.scatter(\n",
    "            point[0], point[1],\n",
    "            color=cmap_points[y_train[idx]],\n",
    "            s=20.0, marker=\"o\"\n",
    "        )\n",
    "    for idx, point in enumerate(x_test):\n",
    "        plt.scatter(\n",
    "            point[0], point[1],\n",
    "            color=cmap_points[y_test[idx]],\n",
    "            s=30.0, marker=\"*\"\n",
    "        )\n",
    "    plt.show()"
   ]
  },
  {
   "cell_type": "code",
   "execution_count": 38,
   "metadata": {},
   "outputs": [
    {
     "data": {
      "image/png": "[encoded data removed]",
      "text/plain": "<Figure size 432x288 with 1 Axes>"
     },
     "metadata": {
      "needs_background": "light"
     },
     "output_type": "display_data"
    }
   ],
   "source": [
    "plot_decision_border(clf, x_train, y_train, x_test, y_test)"
   ]
  },
  {
   "cell_type": "markdown",
   "metadata": {},
   "source": [
    "## Fragen\r\n",
    "\r\n",
    "1. Was ist das Kreuzprodukt?\r\n",
    "   1. Wozu brauche ich es?\r\n",
    "2. Was sind xx und yy?\r\n",
    "3. Meshgrid?"
   ]
  }
 ],
 "metadata": {
  "kernelspec": {
   "display_name": "Python 3.7.2 64-bit",
   "metadata": {
    "interpreter": {
     "hash": "eb5e4990910e14dd45c435c2968b5a5f5ce800b4f8a2bb72e1f77e313f787063"
    }
   },
   "name": "python3"
  },
  "language_info": {
   "codemirror_mode": {
    "name": "ipython",
    "version": 3
   },
   "file_extension": ".py",
   "mimetype": "text/x-python",
   "name": "python",
   "nbconvert_exporter": "python",
   "pygments_lexer": "ipython3",
   "version": "3.7.2"
  }
 },
 "nbformat": 4,
 "nbformat_minor": 4
}
