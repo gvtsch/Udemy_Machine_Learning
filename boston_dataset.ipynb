{
 "cells": [
  {
   "cell_type": "markdown",
   "metadata": {},
   "source": [
    "# Beispiel mit Boston Dataset"
   ]
  },
  {
   "cell_type": "code",
   "execution_count": 128,
   "metadata": {},
   "outputs": [],
   "source": [
    "import numpy as np\r\n",
    "import matplotlib.pyplot as plt\r\n",
    "np.random.seed(42)\r\n",
    "from sklearn.datasets import load_boston\r\n",
    "from sklearn.metrics import r2_score\r\n",
    "from sklearn.model_selection import train_test_split"
   ]
  },
  {
   "cell_type": "code",
   "execution_count": 129,
   "metadata": {},
   "outputs": [],
   "source": [
    "dataset = load_boston()"
   ]
  },
  {
   "cell_type": "code",
   "execution_count": 130,
   "metadata": {},
   "outputs": [],
   "source": [
    "class SimpleLinearRegression:\r\n",
    "    def __init__(self):\r\n",
    "    # Modellparameter bzw. Gewichte w:\r\n",
    "    # Den Gewichten wurde in diesem Fall richtige Namen gegeben\r\n",
    "        self.coef_: np.ndarray = None\r\n",
    "        self.intercept_: np.ndarray = None\r\n",
    "\r\n",
    "    def _compute_coef(self, x: np.ndarray, y: np.ndarray):\r\n",
    "        # Bei der linearen Regression geht es um die ordinary least square Methode\r\n",
    "        # Hier werden einfach nur die Formeln aus der Doku programmiert\r\n",
    "        x_mean = np.mean(x, axis = 0) # 2D-Array --> axis = 0 berechnet den Mittelwert für jedes Feature/\"jede Spalte\"\r\n",
    "        y_mean = np.mean(y, axis = 0)\r\n",
    "        #numerator = np.sum([(x[i] - x_mean) * (y[i] - y_mean) for i in range(len(x))])\r\n",
    "        numerator = np.sum((x - x_mean) * (y - y_mean)) # Gleiches Ergebnis, wie mit List-Comprehension\r\n",
    "        denumerator = np.sum((x - x_mean)**2)\r\n",
    "        self.coef_ = numerator/denumerator\r\n",
    "\r\n",
    "    def _compute_intercept(self, x: np.ndarray, y: np.ndarray):\r\n",
    "        x_mean = np.mean(x, axis = 0) \r\n",
    "        y_mean = np.mean(y, axis = 0)\r\n",
    "        self.intercept_ = y_mean - self.coef_ * x_mean\r\n",
    "    \r\n",
    "    def fit(self, x: np.ndarray, y: np.ndarray): # In Supervised Algorithmen gibt man sowohl x und y mit\r\n",
    "        self._compute_coef(x, y)\r\n",
    "        self._compute_intercept(x, y)\r\n",
    "\r\n",
    "    def predict(self, x: np.ndarray):\r\n",
    "        # y = m * x + b bzw. hier y = coef_ * i + intercept_\r\n",
    "        # y_pred = np.array([np.dot(self.coef_.T, x[i] + self.intercept_) for i in range(len(x))])\r\n",
    "        # np.dot wird gebraucht, falls wir ein Problem mit 2 Features hätten. Dann wäre coef eben auch 2D.\r\n",
    "        return (self.coef_ * x + self.intercept_)# So nur, falls es wirklich nur ein einzelnes Feature gibt\r\n",
    "\r\n",
    "    def score(self, x: np.ndarray, y: np.ndarray): # R²\r\n",
    "        y_mean = np.mean(y, axis = 0)\r\n",
    "        y_pred = self.predict(x)\r\n",
    "        numerator = np.sum((y - y_pred)**2)\r\n",
    "        denumerator = np.sum((y - y_mean)**2)\r\n",
    "        return (1 - (numerator/denumerator))\r\n",
    "\r\n",
    "    \r\n"
   ]
  },
  {
   "cell_type": "code",
   "execution_count": 131,
   "metadata": {},
   "outputs": [],
   "source": [
    "x = dataset.data[:, 5] # Nur das fünfte Feature nutzen (als Beispiel)\r\n",
    "y = dataset.target\r\n",
    "\r\n",
    "x_train, x_test, y_train, y_test = train_test_split(x, y, test_size = 0.3)"
   ]
  },
  {
   "cell_type": "code",
   "execution_count": 132,
   "metadata": {},
   "outputs": [
    {
     "name": "stdout",
     "output_type": "stream",
     "text": [
      "Coef: 9.118102197303783\n",
      "Intercept: -34.66230743840676\n",
      "R2: 0.4584649934303069 # Entspricht nicht etwa einem Prozentwert, kann aber Werte [0 1]] annehmen\n",
      "R2: 0.4584649934303069\n"
     ]
    }
   ],
   "source": [
    "regr = SimpleLinearRegression()\r\n",
    "regr.fit(x_train, y_train)\r\n",
    "y_pred = regr.predict(x_test)\r\n",
    "r2_own = regr.score(x_test, y_test)\r\n",
    "r2_sklearn = r2_score(y_test, y_pred)\r\n",
    "\r\n",
    "print(f\"Coef: {regr.coef_}\")\r\n",
    "print(f\"Intercept: {regr.intercept_}\")\r\n",
    "print(f\"R2_own: {r2_own} # Entspricht nicht etwa einem Prozentwert, kann aber Werte [0 1]] annehmen\")\r\n",
    "print(f\"R2_sklearn: {r2_sklearn}\")"
   ]
  },
  {
   "cell_type": "code",
   "execution_count": 133,
   "metadata": {},
   "outputs": [
    {
     "data": {
      "image/png": "[encoded data removed]",
      "text/plain": "<Figure size 432x288 with 1 Axes>"
     },
     "metadata": {
      "needs_background": "light"
     },
     "output_type": "display_data"
    }
   ],
   "source": [
    "x_arange = np.arange(start = 3.0, stop = 10.0, step = 0.05)\r\n",
    "y_arange = regr.predict(x_arange)\r\n",
    "\r\n",
    "plt.scatter(x_train, y_train)\r\n",
    "plt.plot(x_arange, y_arange, color = \"red\")\r\n",
    "plt.show()"
   ]
  }
 ],
 "metadata": {
  "kernelspec": {
   "display_name": "Python 3.7.2 64-bit",
   "metadata": {
    "interpreter": {
     "hash": "eb5e4990910e14dd45c435c2968b5a5f5ce800b4f8a2bb72e1f77e313f787063"
    }
   },
   "name": "python3"
  },
  "language_info": {
   "codemirror_mode": {
    "name": "ipython",
    "version": 3
   },
   "file_extension": ".py",
   "mimetype": "text/x-python",
   "name": "python",
   "nbconvert_exporter": "python",
   "pygments_lexer": "ipython3",
   "version": "3.7.2"
  },
  "orig_nbformat": 2
 },
 "nbformat": 4,
 "nbformat_minor": 2
}