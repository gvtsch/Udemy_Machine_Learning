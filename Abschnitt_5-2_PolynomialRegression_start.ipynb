{
 "cells": [
  {
   "cell_type": "code",
   "execution_count": 94,
   "metadata": {},
   "outputs": [],
   "source": [
    "import numpy as np\r\n",
    "import pandas as pd\r\n",
    "np.random.seed(42)"
   ]
  },
  {
   "cell_type": "code",
   "execution_count": 95,
   "metadata": {},
   "outputs": [],
   "source": [
    "from sklearn.datasets import load_boston\n",
    "from sklearn.model_selection import train_test_split\n",
    "from sklearn.linear_model import LinearRegression\n",
    "import matplotlib.pyplot as plt"
   ]
  },
  {
   "cell_type": "code",
   "execution_count": 96,
   "metadata": {},
   "outputs": [],
   "source": [
    "dataset = load_boston()"
   ]
  },
  {
   "cell_type": "code",
   "execution_count": 97,
   "metadata": {},
   "outputs": [],
   "source": [
    "x = dataset.data[:, 5:6] # Wenn ich nur Feature 6 haben will, dann 5:6 ---> Warum?\r\n",
    "y = dataset.target\r\n",
    "\r\n",
    "x_train, x_test, y_train, y_test = train_test_split(x, y, test_size=0.3)"
   ]
  },
  {
   "cell_type": "code",
   "execution_count": 98,
   "metadata": {},
   "outputs": [
    {
     "name": "stdout",
     "output_type": "stream",
     "text": [
      "Coef: [9.1181022]\n",
      "Intercept: -34.662307438406785\n",
      "R2-Score: 0.4584649934303068\n"
     ]
    }
   ],
   "source": [
    "regr = LinearRegression()\n",
    "regr.fit(x_train, y_train)\n",
    "r2_score = regr.score(x_test, y_test)\n",
    "\n",
    "print(f\"Coef: {regr.coef_}\")\n",
    "print(f\"Intercept: {regr.intercept_}\")\n",
    "print(f\"R2-Score: {r2_score}\")"
   ]
  },
  {
   "cell_type": "markdown",
   "metadata": {},
   "source": [
    "### Non-linear Transformation:\n",
    "\n",
    "$\\vec{x} =\\left(\\!\n",
    "    \\begin{array}{c}\n",
    "      x_1 \\\\\n",
    "      x_2\n",
    "    \\end{array}\n",
    "  \\!\\right) $ Wir haben Datenpunkte mit z.B. 2 Features.  \n",
    "  \n",
    "$\\vec{z} = \\phi(\\vec{x})$   Wir wollen dann eine Transformation mit dem Grad=2 ausführen.  \n",
    "\n",
    "$\\vec{z} =\\left(\\!\n",
    "    \\begin{array}{c}\n",
    "      z_1 \\\\\n",
    "      \\vdots \\\\\n",
    "      z_9\n",
    "    \\end{array}\n",
    "  \\!\\right) $ Daraus resultierenden dann (in dem Beispiel) 6 Features.  "
   ]
  },
  {
   "cell_type": "code",
   "execution_count": 99,
   "metadata": {},
   "outputs": [],
   "source": [
    "from sklearn.preprocessing import PolynomialFeatures\r\n",
    "\r\n",
    "degree = 2\r\n",
    "pf = PolynomialFeatures(degree = degree)\r\n",
    "pf.fit(x_train) # Hier wird nur auf den x-Daten gefittet\r\n",
    "# In der Fit-Methode wird nur evaluiert auf welchee Koeffizienten wir die Features mappen wollen\r\n",
    "# Die Features werden ist der Transform-Methode verändert\r\n",
    "x_train_transformed = pf.transform(x_train)\r\n",
    "x_test_transformed = pf.transform(x_test)\r\n"
   ]
  },
  {
   "cell_type": "code",
   "execution_count": 100,
   "metadata": {},
   "outputs": [
    {
     "name": "stdout",
     "output_type": "stream",
     "text": [
      "(354, 1) (354, 3)\n",
      "(152, 1) (152, 3)\n"
     ]
    }
   ],
   "source": [
    "print(x_train.shape, x_train_transformed.shape)\r\n",
    "print(x_test.shape, x_test_transformed.shape)\r\n",
    "# Die Anzahl der Samples hat sich nicht verändert, die der Features hingegen schon\r\n",
    "# Grundidee der PN-Regression: 2-D-Feature-Raum transformieren in einen höher-dimensionalen Raum (hier 2-D --> 6-D). \r\n",
    "# Im 6-D-Raum wird dann wieder die lineare Regression wieder angewendet"
   ]
  },
  {
   "cell_type": "code",
   "execution_count": 101,
   "metadata": {},
   "outputs": [
    {
     "name": "stdout",
     "output_type": "stream",
     "text": [
      "Old number of features: 1\n",
      "New number of feautres: 3\n",
      "Old Feature Names: ['x0', 'x1']\n",
      "New Feature Names: ['1', 'x0', 'x0^2']\n"
     ]
    }
   ],
   "source": [
    "# Hier kann man sehen, wie aus 2-D 6-D wird\r\n",
    "print(f\"Old number of features: {pf.n_input_features_}\")\r\n",
    "print(f\"New number of feautres: {pf.n_output_features_}\")\r\n",
    "print(\"Old Feature Names: ['x0', 'x1']\")\r\n",
    "print(f\"New Feature Names: {pf.get_feature_names()}\")"
   ]
  },
  {
   "cell_type": "markdown",
   "metadata": {},
   "source": [
    "#### Polynomial Regression:\n",
    "\n",
    "$\\vec{y} = \\mathbf{Z}\\vec{\\beta} + \\vec{\\epsilon}$  \n",
    "$\\mathbf{Z}$ ist hier dann der Datensatz nach der Transformation."
   ]
  },
  {
   "cell_type": "code",
   "execution_count": 102,
   "metadata": {
    "scrolled": true
   },
   "outputs": [
    {
     "name": "stdout",
     "output_type": "stream",
     "text": [
      "Coef: [9.1181022]\n",
      "Intercept: -34.662307438406785\n",
      "R2-Score: 0.5685094410898874\n"
     ]
    }
   ],
   "source": [
    "poly_regr = LinearRegression()\r\n",
    "poly_regr.fit(x_train_transformed, y_train)\r\n",
    "# Die y-Daten dürgen nicht verändert werden. Damit würde man die Problemstellung invalide machen!\r\n",
    "# Es geht nur darum die x-Daten in einen anderen Feature-Raum zu heben\r\n",
    "r2_score = poly_regr.score(x_test_transformed, y_test)\r\n",
    "\r\n",
    "print(f\"Coef: {regr.coef_}\")\r\n",
    "print(f\"Intercept: {regr.intercept_}\")\r\n",
    "print(f\"R2-Score: {r2_score}\")"
   ]
  },
  {
   "cell_type": "markdown",
   "metadata": {},
   "source": [
    "#### Visualization"
   ]
  },
  {
   "cell_type": "code",
   "execution_count": 103,
   "metadata": {},
   "outputs": [],
   "source": [
    "def plot_residuals(regr, x_train, y_train, x_test, y_test):\n",
    "    y_pred_train = regr.predict(x_train)\n",
    "    y_pred_test = regr.predict(x_test)\n",
    "\n",
    "    min_val = min(np.min(y_pred_train), np.min(y_pred_test))\n",
    "    max_val = max(np.max(y_pred_train), np.max(y_pred_test))\n",
    "\n",
    "    plt.scatter(y_pred_train, y_pred_train - y_train, color=\"blue\")\n",
    "    plt.scatter(y_pred_test, y_pred_test - y_test, color=\"red\")\n",
    "    plt.hlines(y=0, xmin=min_val, xmax=max_val)\n",
    "    plt.legend([\"Train\", \"Test\"])\n",
    "    plt.show()"
   ]
  },
  {
   "cell_type": "code",
   "execution_count": 104,
   "metadata": {},
   "outputs": [
    {
     "data": {
      "image/png": "[encoded data removed]",
      "text/plain": "<Figure size 432x288 with 1 Axes>"
     },
     "metadata": {
      "needs_background": "light"
     },
     "output_type": "display_data"
    }
   ],
   "source": [
    "plot_residuals(regr, x_train, y_train, x_test, y_test)"
   ]
  },
  {
   "cell_type": "code",
   "execution_count": 105,
   "metadata": {},
   "outputs": [
    {
     "data": {
      "image/png": "[encoded data removed]",
      "text/plain": "<Figure size 432x288 with 1 Axes>"
     },
     "metadata": {
      "needs_background": "light"
     },
     "output_type": "display_data"
    }
   ],
   "source": [
    "plot_residuals(poly_regr, x_train_transformed, y_train, x_test_transformed, y_test)"
   ]
  }
 ],
 "metadata": {
  "kernelspec": {
   "display_name": "Python 3",
   "language": "python",
   "name": "python3"
  },
  "language_info": {
   "codemirror_mode": {
    "name": "ipython",
    "version": 3
   },
   "file_extension": ".py",
   "mimetype": "text/x-python",
   "name": "python",
   "nbconvert_exporter": "python",
   "pygments_lexer": "ipython3",
   "version": "3.8.8"
  }
 },
 "nbformat": 4,
 "nbformat_minor": 2
}
