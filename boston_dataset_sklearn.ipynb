{
 "cells": [
  {
   "cell_type": "markdown",
   "metadata": {},
   "source": [
    "# Beispiel mit Boston Dataset"
   ]
  },
  {
   "cell_type": "code",
   "execution_count": 12,
   "metadata": {},
   "outputs": [],
   "source": [
    "import numpy as np\r\n",
    "import pandas as pd\r\n",
    "import matplotlib.pyplot as plt\r\n",
    "from sklearn.datasets import load_boston\r\n",
    "from sklearn.model_selection import train_test_split\r\n",
    "from sklearn.linear_model import LinearRegression"
   ]
  },
  {
   "cell_type": "code",
   "execution_count": 13,
   "metadata": {},
   "outputs": [],
   "source": [
    "dataset = load_boston()\r\n",
    "df = pd.DataFrame(dataset.data, columns = dataset.feature_names)"
   ]
  },
  {
   "cell_type": "code",
   "execution_count": 14,
   "metadata": {},
   "outputs": [],
   "source": [
    "np.random.seed(42)\r\n",
    "\r\n",
    "x = dataset.data[:, :] # Alle Features nutzen\r\n",
    "y = dataset.target\r\n",
    "\r\n",
    "x_train, x_test, y_train, y_test = train_test_split(x, y, test_size = 0.3)"
   ]
  },
  {
   "cell_type": "code",
   "execution_count": 15,
   "metadata": {},
   "outputs": [
    {
     "name": "stdout",
     "output_type": "stream",
     "text": [
      "Coef: [-1.33470103e-01  3.58089136e-02  4.95226452e-02  3.11983512e+00\n",
      " -1.54170609e+01  4.05719923e+00 -1.08208352e-02 -1.38599824e+00\n",
      "  2.42727340e-01 -8.70223437e-03 -9.10685208e-01  1.17941159e-02\n",
      " -5.47113313e-01]\n",
      "Intercept: 31.63108403569312\n",
      "R2_own: 0.7112260057484909\n"
     ]
    }
   ],
   "source": [
    "regr = LinearRegression()\r\n",
    "regr.fit(x_train, y_train)\r\n",
    "y_pred = regr.predict(x_test)\r\n",
    "r2_score = regr.score(x_test, y_test)\r\n",
    "\r\n",
    "print(f\"Coef: {regr.coef_}\")\r\n",
    "print(f\"Intercept: {regr.intercept_}\")\r\n",
    "print(f\"R2_own: {r2_score}\")"
   ]
  },
  {
   "cell_type": "code",
   "execution_count": 16,
   "metadata": {},
   "outputs": [],
   "source": [
    "def plot_residual(regr, x_train, y_train, x_test, y_test): \r\n",
    "    y_pred_train = regr.predict(x_train)\r\n",
    "    y_pred_test = regr.predict(x_test)\r\n",
    "\r\n",
    "    min_val = min(np.min(y_pred_train), np.min(y_pred_test))   \r\n",
    "    max_val = max(np.max(y_pred_train), np.max(y_pred_test))\r\n",
    "\r\n",
    "    plt.scatter(y_pred_train, y_pred_train - y_train, color = \"blue\")\r\n",
    "    plt.scatter(y_pred_test, y_pred_test - y_test, color = \"red\")\r\n",
    "    plt.hlines(y = 0, xmin = min_val, xmax = max_val)\r\n",
    "    plt.legend([\"Train\", \"Test\"])\r\n",
    "    plt.show()\r\n"
   ]
  },
  {
   "cell_type": "code",
   "execution_count": 17,
   "metadata": {},
   "outputs": [
    {
     "data": {
      "image/png": "[encoded data removed]",
      "text/plain": "<Figure size 432x288 with 1 Axes>"
     },
     "metadata": {
      "needs_background": "light"
     },
     "output_type": "display_data"
    }
   ],
   "source": [
    "plot_residual(regr, x_train, y_train, x_test, y_test)"
   ]
  }
 ],
 "metadata": {
  "kernelspec": {
   "display_name": "Python 3.7.2 64-bit",
   "metadata": {
    "interpreter": {
     "hash": "eb5e4990910e14dd45c435c2968b5a5f5ce800b4f8a2bb72e1f77e313f787063"
    }
   },
   "name": "python3"
  },
  "language_info": {
   "codemirror_mode": {
    "name": "ipython",
    "version": 3
   },
   "file_extension": ".py",
   "mimetype": "text/x-python",
   "name": "python",
   "nbconvert_exporter": "python",
   "pygments_lexer": "ipython3",
   "version": "3.7.2"
  },
  "orig_nbformat": 2
 },
 "nbformat": 4,
 "nbformat_minor": 2
}