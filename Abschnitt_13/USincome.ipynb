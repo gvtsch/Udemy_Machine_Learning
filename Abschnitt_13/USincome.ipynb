{
 "cells": [
  {
   "cell_type": "code",
   "execution_count": 4,
   "metadata": {},
   "outputs": [],
   "source": [
    "import os\n",
    "import numpy as np\n",
    "np.random.seed(0)\n",
    "import pandas as pd\n",
    "# print(pd.__version__)\n",
    "import matplotlib.pyplot as plt\n",
    "from sklearn import set_config\n",
    "set_config(display='diagram')"
   ]
  },
  {
   "cell_type": "code",
   "execution_count": 5,
   "metadata": {},
   "outputs": [],
   "source": [
    "DATA_PATH = os.path.abspath(\n",
    "    r'C:\\Selbststudium\\Udemy\\Udemy_Machine_Learning\\Abschnitt_13\\adult_XLS.xls')\n",
    "    "
   ]
  },
  {
   "cell_type": "code",
   "execution_count": 6,
   "metadata": {},
   "outputs": [],
   "source": [
    "df = pd.read_excel(DATA_PATH)"
   ]
  },
  {
   "cell_type": "code",
   "execution_count": 7,
   "metadata": {},
   "outputs": [],
   "source": [
    "idx = np.where(df['native-country']=='Holand-Netherlands')[0]"
   ]
  },
  {
   "cell_type": "code",
   "execution_count": 8,
   "metadata": {},
   "outputs": [
    {
     "name": "stdout",
     "output_type": "stream",
     "text": [
      "x-Shape: (48841, 10)\n",
      "y-Shape: (48841,)\n"
     ]
    }
   ],
   "source": [
    "data = df.to_numpy()\n",
    "x = data[:, :-1] # Letzte Spalte sind die y-Werte\n",
    "x = np.delete(x, idx, axis = 0)\n",
    "y = data[:, -1]\n",
    "y = np.delete(y, idx, axis = 0)\n",
    "\n",
    "print(f'x-Shape: {x.shape}\\ny-Shape: {y.shape}')"
   ]
  },
  {
   "cell_type": "code",
   "execution_count": 9,
   "metadata": {},
   "outputs": [],
   "source": [
    "# y-Daten aufbereiten\n",
    "def one_hot(y):\n",
    "    return np.array([0 if val == \"<=50K\" else 1 for val in y], dtype=np.int32)"
   ]
  },
  {
   "cell_type": "code",
   "execution_count": 10,
   "metadata": {},
   "outputs": [
    {
     "name": "stdout",
     "output_type": "stream",
     "text": [
      "['<=50K' '<=50K' '>50K' ... '<=50K' '<=50K' '>50K']\n",
      "[0 0 1 ... 0 0 1]\n"
     ]
    }
   ],
   "source": [
    "print(y)\n",
    "y = one_hot(y)\n",
    "print(y)"
   ]
  },
  {
   "cell_type": "code",
   "execution_count": 11,
   "metadata": {},
   "outputs": [],
   "source": [
    "# GridSearch Helper\n",
    "def print_grid_cv_results(grid_result):\n",
    "    print(\n",
    "        f'Best model score: {grid_result.best_score_}'\n",
    "        f'Best model params: {grid_result.best_params_}'\n",
    "    )\n",
    "    means = grid_result.cv_results_['mean_test_score']\n",
    "    stds = grid_result.cv_results_['std_test_score']\n",
    "    params = grid_result.cv_results_['params']\n",
    "\n",
    "    for mean, std, param in zip(means, stds, params):\n",
    "        mean = round(mean, 4)\n",
    "        std = round(std, 4)\n",
    "        print(f'{mean} (+/- {2 * std}) with: {param}')"
   ]
  },
  {
   "cell_type": "code",
   "execution_count": 12,
   "metadata": {},
   "outputs": [],
   "source": [
    "from sklearn.compose import ColumnTransformer\n",
    "from sklearn.preprocessing import OrdinalEncoder\n",
    "from sklearn.preprocessing import OneHotEncoder\n",
    "from sklearn.preprocessing import StandardScaler\n",
    "from sklearn.model_selection import train_test_split\n",
    "from sklearn.ensemble import RandomForestClassifier\n",
    "from sklearn.pipeline import Pipeline\n",
    "from sklearn.model_selection import GridSearchCV"
   ]
  },
  {
   "cell_type": "code",
   "execution_count": 13,
   "metadata": {},
   "outputs": [],
   "source": [
    "x_train, x_test, y_train, y_test = train_test_split(x, y, test_size=0.3)"
   ]
  },
  {
   "cell_type": "code",
   "execution_count": 14,
   "metadata": {},
   "outputs": [],
   "source": [
    "params = {\n",
    "    'classifier__n_estimators': [50, 100, 200],\n",
    "    'classifier__max_depth': [None, 100, 200]\n",
    "}\n",
    "\n",
    "clf = RandomForestClassifier()"
   ]
  },
  {
   "cell_type": "markdown",
   "metadata": {},
   "source": [
    "# Ordinal Features"
   ]
  },
  {
   "cell_type": "code",
   "execution_count": 15,
   "metadata": {},
   "outputs": [],
   "source": [
    "categorical_features = [1, 2, 3, 4, 5, 6, 7, 9]\n",
    "numerical_features = [0, 8]\n",
    "\n",
    "numeric_transformer = Pipeline(\n",
    "    steps = [\n",
    "        ('scaler', StandardScaler())\n",
    "    ]\n",
    ")\n",
    "\n",
    "categorical_transformer = Pipeline(\n",
    "    steps = [\n",
    "        ('oridnal', OrdinalEncoder())\n",
    "    ]\n",
    ")\n",
    "\n",
    "preprocessor_ordinal = ColumnTransformer(\n",
    "    transformers = [\n",
    "        ('numeric', numeric_transformer, numerical_features),\n",
    "        ('categorical', categorical_transformer, categorical_features)\n",
    "    ]\n",
    ")"
   ]
  },
  {
   "cell_type": "code",
   "execution_count": 16,
   "metadata": {},
   "outputs": [
    {
     "data": {
      "text/html": [
       "<style>#sk-ab5579b1-16ac-4cf3-8495-7885f47f60d2 {color: black;background-color: white;}#sk-ab5579b1-16ac-4cf3-8495-7885f47f60d2 pre{padding: 0;}#sk-ab5579b1-16ac-4cf3-8495-7885f47f60d2 div.sk-toggleable {background-color: white;}#sk-ab5579b1-16ac-4cf3-8495-7885f47f60d2 label.sk-toggleable__label {cursor: pointer;display: block;width: 100%;margin-bottom: 0;padding: 0.2em 0.3em;box-sizing: border-box;text-align: center;}#sk-ab5579b1-16ac-4cf3-8495-7885f47f60d2 div.sk-toggleable__content {max-height: 0;max-width: 0;overflow: hidden;text-align: left;background-color: #f0f8ff;}#sk-ab5579b1-16ac-4cf3-8495-7885f47f60d2 div.sk-toggleable__content pre {margin: 0.2em;color: black;border-radius: 0.25em;background-color: #f0f8ff;}#sk-ab5579b1-16ac-4cf3-8495-7885f47f60d2 input.sk-toggleable__control:checked~div.sk-toggleable__content {max-height: 200px;max-width: 100%;overflow: auto;}#sk-ab5579b1-16ac-4cf3-8495-7885f47f60d2 div.sk-estimator input.sk-toggleable__control:checked~label.sk-toggleable__label {background-color: #d4ebff;}#sk-ab5579b1-16ac-4cf3-8495-7885f47f60d2 div.sk-label input.sk-toggleable__control:checked~label.sk-toggleable__label {background-color: #d4ebff;}#sk-ab5579b1-16ac-4cf3-8495-7885f47f60d2 input.sk-hidden--visually {border: 0;clip: rect(1px 1px 1px 1px);clip: rect(1px, 1px, 1px, 1px);height: 1px;margin: -1px;overflow: hidden;padding: 0;position: absolute;width: 1px;}#sk-ab5579b1-16ac-4cf3-8495-7885f47f60d2 div.sk-estimator {font-family: monospace;background-color: #f0f8ff;margin: 0.25em 0.25em;border: 1px dotted black;border-radius: 0.25em;box-sizing: border-box;}#sk-ab5579b1-16ac-4cf3-8495-7885f47f60d2 div.sk-estimator:hover {background-color: #d4ebff;}#sk-ab5579b1-16ac-4cf3-8495-7885f47f60d2 div.sk-parallel-item::after {content: \"\";width: 100%;border-bottom: 1px solid gray;flex-grow: 1;}#sk-ab5579b1-16ac-4cf3-8495-7885f47f60d2 div.sk-label:hover label.sk-toggleable__label {background-color: #d4ebff;}#sk-ab5579b1-16ac-4cf3-8495-7885f47f60d2 div.sk-serial::before {content: \"\";position: absolute;border-left: 1px solid gray;box-sizing: border-box;top: 2em;bottom: 0;left: 50%;}#sk-ab5579b1-16ac-4cf3-8495-7885f47f60d2 div.sk-serial {display: flex;flex-direction: column;align-items: center;background-color: white;}#sk-ab5579b1-16ac-4cf3-8495-7885f47f60d2 div.sk-item {z-index: 1;}#sk-ab5579b1-16ac-4cf3-8495-7885f47f60d2 div.sk-parallel {display: flex;align-items: stretch;justify-content: center;background-color: white;}#sk-ab5579b1-16ac-4cf3-8495-7885f47f60d2 div.sk-parallel-item {display: flex;flex-direction: column;position: relative;background-color: white;}#sk-ab5579b1-16ac-4cf3-8495-7885f47f60d2 div.sk-parallel-item:first-child::after {align-self: flex-end;width: 50%;}#sk-ab5579b1-16ac-4cf3-8495-7885f47f60d2 div.sk-parallel-item:last-child::after {align-self: flex-start;width: 50%;}#sk-ab5579b1-16ac-4cf3-8495-7885f47f60d2 div.sk-parallel-item:only-child::after {width: 0;}#sk-ab5579b1-16ac-4cf3-8495-7885f47f60d2 div.sk-dashed-wrapped {border: 1px dashed gray;margin: 0.2em;box-sizing: border-box;padding-bottom: 0.1em;background-color: white;position: relative;}#sk-ab5579b1-16ac-4cf3-8495-7885f47f60d2 div.sk-label label {font-family: monospace;font-weight: bold;background-color: white;display: inline-block;line-height: 1.2em;}#sk-ab5579b1-16ac-4cf3-8495-7885f47f60d2 div.sk-label-container {position: relative;z-index: 2;text-align: center;}#sk-ab5579b1-16ac-4cf3-8495-7885f47f60d2 div.sk-container {display: inline-block;position: relative;}</style><div id=\"sk-ab5579b1-16ac-4cf3-8495-7885f47f60d2\" class\"sk-top-container\"><div class=\"sk-container\"><div class=\"sk-item sk-dashed-wrapped\"><div class=\"sk-label-container\"><div class=\"sk-label sk-toggleable\"><input class=\"sk-toggleable__control sk-hidden--visually\" id=\"ec9f54ef-7c55-41c3-a3f4-b12e690600d1\" type=\"checkbox\" ><label class=\"sk-toggleable__label\" for=\"ec9f54ef-7c55-41c3-a3f4-b12e690600d1\">ColumnTransformer</label><div class=\"sk-toggleable__content\"><pre>ColumnTransformer(transformers=[('numeric',\n",
       "                                 Pipeline(steps=[('scaler', StandardScaler())]),\n",
       "                                 [0, 8]),\n",
       "                                ('categorical',\n",
       "                                 Pipeline(steps=[('oridnal',\n",
       "                                                  OrdinalEncoder())]),\n",
       "                                 [1, 2, 3, 4, 5, 6, 7, 9])])</pre></div></div></div><div class=\"sk-parallel\"><div class=\"sk-parallel-item\"><div class=\"sk-item\"><div class=\"sk-label-container\"><div class=\"sk-label sk-toggleable\"><input class=\"sk-toggleable__control sk-hidden--visually\" id=\"0e1bfab0-08fc-4bfd-87a8-f4e517d3b57b\" type=\"checkbox\" ><label class=\"sk-toggleable__label\" for=\"0e1bfab0-08fc-4bfd-87a8-f4e517d3b57b\">numeric</label><div class=\"sk-toggleable__content\"><pre>[0, 8]</pre></div></div></div><div class=\"sk-serial\"><div class=\"sk-item\"><div class=\"sk-serial\"><div class=\"sk-item\"><div class=\"sk-estimator sk-toggleable\"><input class=\"sk-toggleable__control sk-hidden--visually\" id=\"5b20a7dd-cc84-429a-9a8e-4286454c6977\" type=\"checkbox\" ><label class=\"sk-toggleable__label\" for=\"5b20a7dd-cc84-429a-9a8e-4286454c6977\">StandardScaler</label><div class=\"sk-toggleable__content\"><pre>StandardScaler()</pre></div></div></div></div></div></div></div></div><div class=\"sk-parallel-item\"><div class=\"sk-item\"><div class=\"sk-label-container\"><div class=\"sk-label sk-toggleable\"><input class=\"sk-toggleable__control sk-hidden--visually\" id=\"1ab2b9d8-e99a-4d40-b50c-ae23af0287f8\" type=\"checkbox\" ><label class=\"sk-toggleable__label\" for=\"1ab2b9d8-e99a-4d40-b50c-ae23af0287f8\">categorical</label><div class=\"sk-toggleable__content\"><pre>[1, 2, 3, 4, 5, 6, 7, 9]</pre></div></div></div><div class=\"sk-serial\"><div class=\"sk-item\"><div class=\"sk-serial\"><div class=\"sk-item\"><div class=\"sk-estimator sk-toggleable\"><input class=\"sk-toggleable__control sk-hidden--visually\" id=\"a839bc39-1d28-4f3b-98cd-ab72485c672f\" type=\"checkbox\" ><label class=\"sk-toggleable__label\" for=\"a839bc39-1d28-4f3b-98cd-ab72485c672f\">OrdinalEncoder</label><div class=\"sk-toggleable__content\"><pre>OrdinalEncoder()</pre></div></div></div></div></div></div></div></div></div></div></div></div>"
      ],
      "text/plain": [
       "ColumnTransformer(transformers=[('numeric',\n",
       "                                 Pipeline(steps=[('scaler', StandardScaler())]),\n",
       "                                 [0, 8]),\n",
       "                                ('categorical',\n",
       "                                 Pipeline(steps=[('oridnal',\n",
       "                                                  OrdinalEncoder())]),\n",
       "                                 [1, 2, 3, 4, 5, 6, 7, 9])])"
      ]
     },
     "execution_count": 16,
     "metadata": {},
     "output_type": "execute_result"
    }
   ],
   "source": [
    "preprocessor_ordinal"
   ]
  },
  {
   "cell_type": "code",
   "execution_count": 17,
   "metadata": {},
   "outputs": [
    {
     "name": "stdout",
     "output_type": "stream",
     "text": [
      "x_train_ord: (34188, 10)\n",
      "y_train_ord: (14653, 10)\n"
     ]
    }
   ],
   "source": [
    "preprocessor_ordinal.fit(x_train)\n",
    "x_train_ordinal = preprocessor_ordinal.transform(x_train)\n",
    "x_test_ordinal = preprocessor_ordinal.transform(x_test)\n",
    "print(f'x_train_ord: {x_train_ordinal.shape}\\ny_train_ord: {x_test_ordinal.shape}')"
   ]
  },
  {
   "cell_type": "code",
   "execution_count": 18,
   "metadata": {},
   "outputs": [],
   "source": [
    "pipe_ordinal = Pipeline(\n",
    "    steps = [\n",
    "        ('preprocessor_ordinal', preprocessor_ordinal),\n",
    "        ('classifier', clf) # Dieses \"Classifier\" muss in den Params angegeben werden\n",
    "    ]\n",
    ")"
   ]
  },
  {
   "cell_type": "code",
   "execution_count": 19,
   "metadata": {},
   "outputs": [
    {
     "data": {
      "text/html": [
       "<style>#sk-07e98af2-ff1d-4230-b776-14f3da1ef602 {color: black;background-color: white;}#sk-07e98af2-ff1d-4230-b776-14f3da1ef602 pre{padding: 0;}#sk-07e98af2-ff1d-4230-b776-14f3da1ef602 div.sk-toggleable {background-color: white;}#sk-07e98af2-ff1d-4230-b776-14f3da1ef602 label.sk-toggleable__label {cursor: pointer;display: block;width: 100%;margin-bottom: 0;padding: 0.2em 0.3em;box-sizing: border-box;text-align: center;}#sk-07e98af2-ff1d-4230-b776-14f3da1ef602 div.sk-toggleable__content {max-height: 0;max-width: 0;overflow: hidden;text-align: left;background-color: #f0f8ff;}#sk-07e98af2-ff1d-4230-b776-14f3da1ef602 div.sk-toggleable__content pre {margin: 0.2em;color: black;border-radius: 0.25em;background-color: #f0f8ff;}#sk-07e98af2-ff1d-4230-b776-14f3da1ef602 input.sk-toggleable__control:checked~div.sk-toggleable__content {max-height: 200px;max-width: 100%;overflow: auto;}#sk-07e98af2-ff1d-4230-b776-14f3da1ef602 div.sk-estimator input.sk-toggleable__control:checked~label.sk-toggleable__label {background-color: #d4ebff;}#sk-07e98af2-ff1d-4230-b776-14f3da1ef602 div.sk-label input.sk-toggleable__control:checked~label.sk-toggleable__label {background-color: #d4ebff;}#sk-07e98af2-ff1d-4230-b776-14f3da1ef602 input.sk-hidden--visually {border: 0;clip: rect(1px 1px 1px 1px);clip: rect(1px, 1px, 1px, 1px);height: 1px;margin: -1px;overflow: hidden;padding: 0;position: absolute;width: 1px;}#sk-07e98af2-ff1d-4230-b776-14f3da1ef602 div.sk-estimator {font-family: monospace;background-color: #f0f8ff;margin: 0.25em 0.25em;border: 1px dotted black;border-radius: 0.25em;box-sizing: border-box;}#sk-07e98af2-ff1d-4230-b776-14f3da1ef602 div.sk-estimator:hover {background-color: #d4ebff;}#sk-07e98af2-ff1d-4230-b776-14f3da1ef602 div.sk-parallel-item::after {content: \"\";width: 100%;border-bottom: 1px solid gray;flex-grow: 1;}#sk-07e98af2-ff1d-4230-b776-14f3da1ef602 div.sk-label:hover label.sk-toggleable__label {background-color: #d4ebff;}#sk-07e98af2-ff1d-4230-b776-14f3da1ef602 div.sk-serial::before {content: \"\";position: absolute;border-left: 1px solid gray;box-sizing: border-box;top: 2em;bottom: 0;left: 50%;}#sk-07e98af2-ff1d-4230-b776-14f3da1ef602 div.sk-serial {display: flex;flex-direction: column;align-items: center;background-color: white;}#sk-07e98af2-ff1d-4230-b776-14f3da1ef602 div.sk-item {z-index: 1;}#sk-07e98af2-ff1d-4230-b776-14f3da1ef602 div.sk-parallel {display: flex;align-items: stretch;justify-content: center;background-color: white;}#sk-07e98af2-ff1d-4230-b776-14f3da1ef602 div.sk-parallel-item {display: flex;flex-direction: column;position: relative;background-color: white;}#sk-07e98af2-ff1d-4230-b776-14f3da1ef602 div.sk-parallel-item:first-child::after {align-self: flex-end;width: 50%;}#sk-07e98af2-ff1d-4230-b776-14f3da1ef602 div.sk-parallel-item:last-child::after {align-self: flex-start;width: 50%;}#sk-07e98af2-ff1d-4230-b776-14f3da1ef602 div.sk-parallel-item:only-child::after {width: 0;}#sk-07e98af2-ff1d-4230-b776-14f3da1ef602 div.sk-dashed-wrapped {border: 1px dashed gray;margin: 0.2em;box-sizing: border-box;padding-bottom: 0.1em;background-color: white;position: relative;}#sk-07e98af2-ff1d-4230-b776-14f3da1ef602 div.sk-label label {font-family: monospace;font-weight: bold;background-color: white;display: inline-block;line-height: 1.2em;}#sk-07e98af2-ff1d-4230-b776-14f3da1ef602 div.sk-label-container {position: relative;z-index: 2;text-align: center;}#sk-07e98af2-ff1d-4230-b776-14f3da1ef602 div.sk-container {display: inline-block;position: relative;}</style><div id=\"sk-07e98af2-ff1d-4230-b776-14f3da1ef602\" class\"sk-top-container\"><div class=\"sk-container\"><div class=\"sk-item sk-dashed-wrapped\"><div class=\"sk-label-container\"><div class=\"sk-label sk-toggleable\"><input class=\"sk-toggleable__control sk-hidden--visually\" id=\"f01d941d-580b-443f-9bab-83045410a920\" type=\"checkbox\" ><label class=\"sk-toggleable__label\" for=\"f01d941d-580b-443f-9bab-83045410a920\">Pipeline</label><div class=\"sk-toggleable__content\"><pre>Pipeline(steps=[('preprocessor_ordinal',\n",
       "                 ColumnTransformer(transformers=[('numeric',\n",
       "                                                  Pipeline(steps=[('scaler',\n",
       "                                                                   StandardScaler())]),\n",
       "                                                  [0, 8]),\n",
       "                                                 ('categorical',\n",
       "                                                  Pipeline(steps=[('oridnal',\n",
       "                                                                   OrdinalEncoder())]),\n",
       "                                                  [1, 2, 3, 4, 5, 6, 7, 9])])),\n",
       "                ('classifier', RandomForestClassifier())])</pre></div></div></div><div class=\"sk-serial\"><div class=\"sk-item sk-dashed-wrapped\"><div class=\"sk-label-container\"><div class=\"sk-label sk-toggleable\"><input class=\"sk-toggleable__control sk-hidden--visually\" id=\"a25a102a-3638-44f9-92bc-cba323a3f802\" type=\"checkbox\" ><label class=\"sk-toggleable__label\" for=\"a25a102a-3638-44f9-92bc-cba323a3f802\">preprocessor_ordinal: ColumnTransformer</label><div class=\"sk-toggleable__content\"><pre>ColumnTransformer(transformers=[('numeric',\n",
       "                                 Pipeline(steps=[('scaler', StandardScaler())]),\n",
       "                                 [0, 8]),\n",
       "                                ('categorical',\n",
       "                                 Pipeline(steps=[('oridnal',\n",
       "                                                  OrdinalEncoder())]),\n",
       "                                 [1, 2, 3, 4, 5, 6, 7, 9])])</pre></div></div></div><div class=\"sk-parallel\"><div class=\"sk-parallel-item\"><div class=\"sk-item\"><div class=\"sk-label-container\"><div class=\"sk-label sk-toggleable\"><input class=\"sk-toggleable__control sk-hidden--visually\" id=\"d91f9a07-180d-4370-9431-259131098ef8\" type=\"checkbox\" ><label class=\"sk-toggleable__label\" for=\"d91f9a07-180d-4370-9431-259131098ef8\">numeric</label><div class=\"sk-toggleable__content\"><pre>[0, 8]</pre></div></div></div><div class=\"sk-serial\"><div class=\"sk-item\"><div class=\"sk-serial\"><div class=\"sk-item\"><div class=\"sk-estimator sk-toggleable\"><input class=\"sk-toggleable__control sk-hidden--visually\" id=\"49003b55-d9b1-4ec0-9510-193cba70f973\" type=\"checkbox\" ><label class=\"sk-toggleable__label\" for=\"49003b55-d9b1-4ec0-9510-193cba70f973\">StandardScaler</label><div class=\"sk-toggleable__content\"><pre>StandardScaler()</pre></div></div></div></div></div></div></div></div><div class=\"sk-parallel-item\"><div class=\"sk-item\"><div class=\"sk-label-container\"><div class=\"sk-label sk-toggleable\"><input class=\"sk-toggleable__control sk-hidden--visually\" id=\"5fd63972-9fc8-40bb-b266-152d253c126e\" type=\"checkbox\" ><label class=\"sk-toggleable__label\" for=\"5fd63972-9fc8-40bb-b266-152d253c126e\">categorical</label><div class=\"sk-toggleable__content\"><pre>[1, 2, 3, 4, 5, 6, 7, 9]</pre></div></div></div><div class=\"sk-serial\"><div class=\"sk-item\"><div class=\"sk-serial\"><div class=\"sk-item\"><div class=\"sk-estimator sk-toggleable\"><input class=\"sk-toggleable__control sk-hidden--visually\" id=\"2e519fe1-67dd-4609-bb25-21506a1432a3\" type=\"checkbox\" ><label class=\"sk-toggleable__label\" for=\"2e519fe1-67dd-4609-bb25-21506a1432a3\">OrdinalEncoder</label><div class=\"sk-toggleable__content\"><pre>OrdinalEncoder()</pre></div></div></div></div></div></div></div></div></div></div><div class=\"sk-item\"><div class=\"sk-estimator sk-toggleable\"><input class=\"sk-toggleable__control sk-hidden--visually\" id=\"e94a9d9d-b012-4f81-9e13-05e4ffa9b607\" type=\"checkbox\" ><label class=\"sk-toggleable__label\" for=\"e94a9d9d-b012-4f81-9e13-05e4ffa9b607\">RandomForestClassifier</label><div class=\"sk-toggleable__content\"><pre>RandomForestClassifier()</pre></div></div></div></div></div></div></div>"
      ],
      "text/plain": [
       "Pipeline(steps=[('preprocessor_ordinal',\n",
       "                 ColumnTransformer(transformers=[('numeric',\n",
       "                                                  Pipeline(steps=[('scaler',\n",
       "                                                                   StandardScaler())]),\n",
       "                                                  [0, 8]),\n",
       "                                                 ('categorical',\n",
       "                                                  Pipeline(steps=[('oridnal',\n",
       "                                                                   OrdinalEncoder())]),\n",
       "                                                  [1, 2, 3, 4, 5, 6, 7, 9])])),\n",
       "                ('classifier', RandomForestClassifier())])"
      ]
     },
     "execution_count": 19,
     "metadata": {},
     "output_type": "execute_result"
    }
   ],
   "source": [
    "pipe_ordinal"
   ]
  },
  {
   "cell_type": "code",
   "execution_count": 20,
   "metadata": {},
   "outputs": [
    {
     "name": "stdout",
     "output_type": "stream",
     "text": [
      "Best model score: 0.817947817947818Best model params: {'classifier__max_depth': 200, 'classifier__n_estimators': 200}\n",
      "0.8169 (+/- 0.0022) with: {'classifier__max_depth': None, 'classifier__n_estimators': 50}\n",
      "0.8173 (+/- 0.002) with: {'classifier__max_depth': None, 'classifier__n_estimators': 100}\n",
      "0.8178 (+/- 0.0016) with: {'classifier__max_depth': None, 'classifier__n_estimators': 200}\n",
      "0.8174 (+/- 0.0024) with: {'classifier__max_depth': 100, 'classifier__n_estimators': 50}\n",
      "0.8179 (+/- 0.002) with: {'classifier__max_depth': 100, 'classifier__n_estimators': 100}\n",
      "0.8179 (+/- 0.0036) with: {'classifier__max_depth': 100, 'classifier__n_estimators': 200}\n",
      "0.8169 (+/- 0.001) with: {'classifier__max_depth': 200, 'classifier__n_estimators': 50}\n",
      "0.8174 (+/- 0.0034) with: {'classifier__max_depth': 200, 'classifier__n_estimators': 100}\n",
      "0.8179 (+/- 0.0012) with: {'classifier__max_depth': 200, 'classifier__n_estimators': 200}\n"
     ]
    }
   ],
   "source": [
    "grid_ordinal = GridSearchCV(pipe_ordinal, params, cv=3)\n",
    "grid_results_oridnal = grid_ordinal.fit(x_train, y_train)\n",
    "print_grid_cv_results(grid_results_oridnal)"
   ]
  },
  {
   "cell_type": "markdown",
   "metadata": {},
   "source": [
    "# OneHot Features"
   ]
  },
  {
   "cell_type": "code",
   "execution_count": 21,
   "metadata": {},
   "outputs": [],
   "source": [
    "categorical_features = [1, 2, 3, 4, 5, 6, 7, 9]\n",
    "numerical_features = [0, 8]\n",
    "\n",
    "numeric_transformer = Pipeline(\n",
    "    steps = [\n",
    "        ('scaler', StandardScaler())\n",
    "    ]\n",
    ")\n",
    "\n",
    "categorical_transformer = Pipeline(\n",
    "    steps = [\n",
    "        ('onehot', OneHotEncoder(handle_unknown='ignore', sparse=False))\n",
    "    ]\n",
    ")\n",
    "\n",
    "preprocessor_onehot = ColumnTransformer(\n",
    "    transformers = [ \n",
    "        ('numeric', numeric_transformer, numerical_features),\n",
    "        ('categorical', categorical_transformer, categorical_features)\n",
    "    ]\n",
    ")"
   ]
  },
  {
   "cell_type": "code",
   "execution_count": 22,
   "metadata": {},
   "outputs": [
    {
     "data": {
      "text/html": [
       "<style>#sk-7db7418c-da39-4522-a867-0a87aaf92a30 {color: black;background-color: white;}#sk-7db7418c-da39-4522-a867-0a87aaf92a30 pre{padding: 0;}#sk-7db7418c-da39-4522-a867-0a87aaf92a30 div.sk-toggleable {background-color: white;}#sk-7db7418c-da39-4522-a867-0a87aaf92a30 label.sk-toggleable__label {cursor: pointer;display: block;width: 100%;margin-bottom: 0;padding: 0.2em 0.3em;box-sizing: border-box;text-align: center;}#sk-7db7418c-da39-4522-a867-0a87aaf92a30 div.sk-toggleable__content {max-height: 0;max-width: 0;overflow: hidden;text-align: left;background-color: #f0f8ff;}#sk-7db7418c-da39-4522-a867-0a87aaf92a30 div.sk-toggleable__content pre {margin: 0.2em;color: black;border-radius: 0.25em;background-color: #f0f8ff;}#sk-7db7418c-da39-4522-a867-0a87aaf92a30 input.sk-toggleable__control:checked~div.sk-toggleable__content {max-height: 200px;max-width: 100%;overflow: auto;}#sk-7db7418c-da39-4522-a867-0a87aaf92a30 div.sk-estimator input.sk-toggleable__control:checked~label.sk-toggleable__label {background-color: #d4ebff;}#sk-7db7418c-da39-4522-a867-0a87aaf92a30 div.sk-label input.sk-toggleable__control:checked~label.sk-toggleable__label {background-color: #d4ebff;}#sk-7db7418c-da39-4522-a867-0a87aaf92a30 input.sk-hidden--visually {border: 0;clip: rect(1px 1px 1px 1px);clip: rect(1px, 1px, 1px, 1px);height: 1px;margin: -1px;overflow: hidden;padding: 0;position: absolute;width: 1px;}#sk-7db7418c-da39-4522-a867-0a87aaf92a30 div.sk-estimator {font-family: monospace;background-color: #f0f8ff;margin: 0.25em 0.25em;border: 1px dotted black;border-radius: 0.25em;box-sizing: border-box;}#sk-7db7418c-da39-4522-a867-0a87aaf92a30 div.sk-estimator:hover {background-color: #d4ebff;}#sk-7db7418c-da39-4522-a867-0a87aaf92a30 div.sk-parallel-item::after {content: \"\";width: 100%;border-bottom: 1px solid gray;flex-grow: 1;}#sk-7db7418c-da39-4522-a867-0a87aaf92a30 div.sk-label:hover label.sk-toggleable__label {background-color: #d4ebff;}#sk-7db7418c-da39-4522-a867-0a87aaf92a30 div.sk-serial::before {content: \"\";position: absolute;border-left: 1px solid gray;box-sizing: border-box;top: 2em;bottom: 0;left: 50%;}#sk-7db7418c-da39-4522-a867-0a87aaf92a30 div.sk-serial {display: flex;flex-direction: column;align-items: center;background-color: white;}#sk-7db7418c-da39-4522-a867-0a87aaf92a30 div.sk-item {z-index: 1;}#sk-7db7418c-da39-4522-a867-0a87aaf92a30 div.sk-parallel {display: flex;align-items: stretch;justify-content: center;background-color: white;}#sk-7db7418c-da39-4522-a867-0a87aaf92a30 div.sk-parallel-item {display: flex;flex-direction: column;position: relative;background-color: white;}#sk-7db7418c-da39-4522-a867-0a87aaf92a30 div.sk-parallel-item:first-child::after {align-self: flex-end;width: 50%;}#sk-7db7418c-da39-4522-a867-0a87aaf92a30 div.sk-parallel-item:last-child::after {align-self: flex-start;width: 50%;}#sk-7db7418c-da39-4522-a867-0a87aaf92a30 div.sk-parallel-item:only-child::after {width: 0;}#sk-7db7418c-da39-4522-a867-0a87aaf92a30 div.sk-dashed-wrapped {border: 1px dashed gray;margin: 0.2em;box-sizing: border-box;padding-bottom: 0.1em;background-color: white;position: relative;}#sk-7db7418c-da39-4522-a867-0a87aaf92a30 div.sk-label label {font-family: monospace;font-weight: bold;background-color: white;display: inline-block;line-height: 1.2em;}#sk-7db7418c-da39-4522-a867-0a87aaf92a30 div.sk-label-container {position: relative;z-index: 2;text-align: center;}#sk-7db7418c-da39-4522-a867-0a87aaf92a30 div.sk-container {display: inline-block;position: relative;}</style><div id=\"sk-7db7418c-da39-4522-a867-0a87aaf92a30\" class\"sk-top-container\"><div class=\"sk-container\"><div class=\"sk-item sk-dashed-wrapped\"><div class=\"sk-label-container\"><div class=\"sk-label sk-toggleable\"><input class=\"sk-toggleable__control sk-hidden--visually\" id=\"3da86098-1692-4f87-8582-e12af33a345d\" type=\"checkbox\" ><label class=\"sk-toggleable__label\" for=\"3da86098-1692-4f87-8582-e12af33a345d\">ColumnTransformer</label><div class=\"sk-toggleable__content\"><pre>ColumnTransformer(transformers=[('numeric',\n",
       "                                 Pipeline(steps=[('scaler', StandardScaler())]),\n",
       "                                 [0, 8]),\n",
       "                                ('categorical',\n",
       "                                 Pipeline(steps=[('onehot',\n",
       "                                                  OneHotEncoder(handle_unknown='ignore',\n",
       "                                                                sparse=False))]),\n",
       "                                 [1, 2, 3, 4, 5, 6, 7, 9])])</pre></div></div></div><div class=\"sk-parallel\"><div class=\"sk-parallel-item\"><div class=\"sk-item\"><div class=\"sk-label-container\"><div class=\"sk-label sk-toggleable\"><input class=\"sk-toggleable__control sk-hidden--visually\" id=\"f5811fb7-f9d4-416e-929b-af198a05906a\" type=\"checkbox\" ><label class=\"sk-toggleable__label\" for=\"f5811fb7-f9d4-416e-929b-af198a05906a\">numeric</label><div class=\"sk-toggleable__content\"><pre>[0, 8]</pre></div></div></div><div class=\"sk-serial\"><div class=\"sk-item\"><div class=\"sk-serial\"><div class=\"sk-item\"><div class=\"sk-estimator sk-toggleable\"><input class=\"sk-toggleable__control sk-hidden--visually\" id=\"3c4d6751-e3e7-4a9d-9110-a64a99ed1463\" type=\"checkbox\" ><label class=\"sk-toggleable__label\" for=\"3c4d6751-e3e7-4a9d-9110-a64a99ed1463\">StandardScaler</label><div class=\"sk-toggleable__content\"><pre>StandardScaler()</pre></div></div></div></div></div></div></div></div><div class=\"sk-parallel-item\"><div class=\"sk-item\"><div class=\"sk-label-container\"><div class=\"sk-label sk-toggleable\"><input class=\"sk-toggleable__control sk-hidden--visually\" id=\"1e36b9ce-8dc4-4475-9581-c12023b9e5be\" type=\"checkbox\" ><label class=\"sk-toggleable__label\" for=\"1e36b9ce-8dc4-4475-9581-c12023b9e5be\">categorical</label><div class=\"sk-toggleable__content\"><pre>[1, 2, 3, 4, 5, 6, 7, 9]</pre></div></div></div><div class=\"sk-serial\"><div class=\"sk-item\"><div class=\"sk-serial\"><div class=\"sk-item\"><div class=\"sk-estimator sk-toggleable\"><input class=\"sk-toggleable__control sk-hidden--visually\" id=\"21afae92-bb1a-4bcd-b33c-b020dac1f1b1\" type=\"checkbox\" ><label class=\"sk-toggleable__label\" for=\"21afae92-bb1a-4bcd-b33c-b020dac1f1b1\">OneHotEncoder</label><div class=\"sk-toggleable__content\"><pre>OneHotEncoder(handle_unknown='ignore', sparse=False)</pre></div></div></div></div></div></div></div></div></div></div></div></div>"
      ],
      "text/plain": [
       "ColumnTransformer(transformers=[('numeric',\n",
       "                                 Pipeline(steps=[('scaler', StandardScaler())]),\n",
       "                                 [0, 8]),\n",
       "                                ('categorical',\n",
       "                                 Pipeline(steps=[('onehot',\n",
       "                                                  OneHotEncoder(handle_unknown='ignore',\n",
       "                                                                sparse=False))]),\n",
       "                                 [1, 2, 3, 4, 5, 6, 7, 9])])"
      ]
     },
     "execution_count": 22,
     "metadata": {},
     "output_type": "execute_result"
    }
   ],
   "source": [
    "preprocessor_onehot"
   ]
  },
  {
   "cell_type": "code",
   "execution_count": 23,
   "metadata": {},
   "outputs": [
    {
     "name": "stdout",
     "output_type": "stream",
     "text": [
      "x_train_onehot: (34188, 103)\n",
      "x_test_onehot: (14653, 103)\n"
     ]
    }
   ],
   "source": [
    "preprocessor_onehot.fit(x_train)\n",
    "x_train_onehot = preprocessor_onehot.transform(x_train)\n",
    "x_test_onehot = preprocessor_onehot.transform(x_test)\n",
    "\n",
    "print(f'x_train_onehot: {x_train_onehot.shape}\\nx_test_onehot: {x_test_onehot.shape}')\n"
   ]
  },
  {
   "cell_type": "code",
   "execution_count": 24,
   "metadata": {},
   "outputs": [],
   "source": [
    "pipe_onehot = Pipeline(\n",
    "    steps = [\n",
    "        ('preprocessor_onehot', preprocessor_ordinal),\n",
    "        ('classifier', clf) # Dieses \"Classifier\" muss in den Params angegeben werden\n",
    "    ]\n",
    ")"
   ]
  },
  {
   "cell_type": "code",
   "execution_count": 25,
   "metadata": {},
   "outputs": [
    {
     "data": {
      "text/html": [
       "<style>#sk-9c8ff15b-1962-4ca0-a6e5-c2a5005189cc {color: black;background-color: white;}#sk-9c8ff15b-1962-4ca0-a6e5-c2a5005189cc pre{padding: 0;}#sk-9c8ff15b-1962-4ca0-a6e5-c2a5005189cc div.sk-toggleable {background-color: white;}#sk-9c8ff15b-1962-4ca0-a6e5-c2a5005189cc label.sk-toggleable__label {cursor: pointer;display: block;width: 100%;margin-bottom: 0;padding: 0.2em 0.3em;box-sizing: border-box;text-align: center;}#sk-9c8ff15b-1962-4ca0-a6e5-c2a5005189cc div.sk-toggleable__content {max-height: 0;max-width: 0;overflow: hidden;text-align: left;background-color: #f0f8ff;}#sk-9c8ff15b-1962-4ca0-a6e5-c2a5005189cc div.sk-toggleable__content pre {margin: 0.2em;color: black;border-radius: 0.25em;background-color: #f0f8ff;}#sk-9c8ff15b-1962-4ca0-a6e5-c2a5005189cc input.sk-toggleable__control:checked~div.sk-toggleable__content {max-height: 200px;max-width: 100%;overflow: auto;}#sk-9c8ff15b-1962-4ca0-a6e5-c2a5005189cc div.sk-estimator input.sk-toggleable__control:checked~label.sk-toggleable__label {background-color: #d4ebff;}#sk-9c8ff15b-1962-4ca0-a6e5-c2a5005189cc div.sk-label input.sk-toggleable__control:checked~label.sk-toggleable__label {background-color: #d4ebff;}#sk-9c8ff15b-1962-4ca0-a6e5-c2a5005189cc input.sk-hidden--visually {border: 0;clip: rect(1px 1px 1px 1px);clip: rect(1px, 1px, 1px, 1px);height: 1px;margin: -1px;overflow: hidden;padding: 0;position: absolute;width: 1px;}#sk-9c8ff15b-1962-4ca0-a6e5-c2a5005189cc div.sk-estimator {font-family: monospace;background-color: #f0f8ff;margin: 0.25em 0.25em;border: 1px dotted black;border-radius: 0.25em;box-sizing: border-box;}#sk-9c8ff15b-1962-4ca0-a6e5-c2a5005189cc div.sk-estimator:hover {background-color: #d4ebff;}#sk-9c8ff15b-1962-4ca0-a6e5-c2a5005189cc div.sk-parallel-item::after {content: \"\";width: 100%;border-bottom: 1px solid gray;flex-grow: 1;}#sk-9c8ff15b-1962-4ca0-a6e5-c2a5005189cc div.sk-label:hover label.sk-toggleable__label {background-color: #d4ebff;}#sk-9c8ff15b-1962-4ca0-a6e5-c2a5005189cc div.sk-serial::before {content: \"\";position: absolute;border-left: 1px solid gray;box-sizing: border-box;top: 2em;bottom: 0;left: 50%;}#sk-9c8ff15b-1962-4ca0-a6e5-c2a5005189cc div.sk-serial {display: flex;flex-direction: column;align-items: center;background-color: white;}#sk-9c8ff15b-1962-4ca0-a6e5-c2a5005189cc div.sk-item {z-index: 1;}#sk-9c8ff15b-1962-4ca0-a6e5-c2a5005189cc div.sk-parallel {display: flex;align-items: stretch;justify-content: center;background-color: white;}#sk-9c8ff15b-1962-4ca0-a6e5-c2a5005189cc div.sk-parallel-item {display: flex;flex-direction: column;position: relative;background-color: white;}#sk-9c8ff15b-1962-4ca0-a6e5-c2a5005189cc div.sk-parallel-item:first-child::after {align-self: flex-end;width: 50%;}#sk-9c8ff15b-1962-4ca0-a6e5-c2a5005189cc div.sk-parallel-item:last-child::after {align-self: flex-start;width: 50%;}#sk-9c8ff15b-1962-4ca0-a6e5-c2a5005189cc div.sk-parallel-item:only-child::after {width: 0;}#sk-9c8ff15b-1962-4ca0-a6e5-c2a5005189cc div.sk-dashed-wrapped {border: 1px dashed gray;margin: 0.2em;box-sizing: border-box;padding-bottom: 0.1em;background-color: white;position: relative;}#sk-9c8ff15b-1962-4ca0-a6e5-c2a5005189cc div.sk-label label {font-family: monospace;font-weight: bold;background-color: white;display: inline-block;line-height: 1.2em;}#sk-9c8ff15b-1962-4ca0-a6e5-c2a5005189cc div.sk-label-container {position: relative;z-index: 2;text-align: center;}#sk-9c8ff15b-1962-4ca0-a6e5-c2a5005189cc div.sk-container {display: inline-block;position: relative;}</style><div id=\"sk-9c8ff15b-1962-4ca0-a6e5-c2a5005189cc\" class\"sk-top-container\"><div class=\"sk-container\"><div class=\"sk-item sk-dashed-wrapped\"><div class=\"sk-label-container\"><div class=\"sk-label sk-toggleable\"><input class=\"sk-toggleable__control sk-hidden--visually\" id=\"ad365cbb-5924-42dc-8c52-7d5d2eeff6eb\" type=\"checkbox\" ><label class=\"sk-toggleable__label\" for=\"ad365cbb-5924-42dc-8c52-7d5d2eeff6eb\">Pipeline</label><div class=\"sk-toggleable__content\"><pre>Pipeline(steps=[('preprocessor_onehot',\n",
       "                 ColumnTransformer(transformers=[('numeric',\n",
       "                                                  Pipeline(steps=[('scaler',\n",
       "                                                                   StandardScaler())]),\n",
       "                                                  [0, 8]),\n",
       "                                                 ('categorical',\n",
       "                                                  Pipeline(steps=[('oridnal',\n",
       "                                                                   OrdinalEncoder())]),\n",
       "                                                  [1, 2, 3, 4, 5, 6, 7, 9])])),\n",
       "                ('classifier', RandomForestClassifier())])</pre></div></div></div><div class=\"sk-serial\"><div class=\"sk-item sk-dashed-wrapped\"><div class=\"sk-label-container\"><div class=\"sk-label sk-toggleable\"><input class=\"sk-toggleable__control sk-hidden--visually\" id=\"b44e8ddd-ade5-43e1-ac32-0e72b8ee848d\" type=\"checkbox\" ><label class=\"sk-toggleable__label\" for=\"b44e8ddd-ade5-43e1-ac32-0e72b8ee848d\">preprocessor_onehot: ColumnTransformer</label><div class=\"sk-toggleable__content\"><pre>ColumnTransformer(transformers=[('numeric',\n",
       "                                 Pipeline(steps=[('scaler', StandardScaler())]),\n",
       "                                 [0, 8]),\n",
       "                                ('categorical',\n",
       "                                 Pipeline(steps=[('oridnal',\n",
       "                                                  OrdinalEncoder())]),\n",
       "                                 [1, 2, 3, 4, 5, 6, 7, 9])])</pre></div></div></div><div class=\"sk-parallel\"><div class=\"sk-parallel-item\"><div class=\"sk-item\"><div class=\"sk-label-container\"><div class=\"sk-label sk-toggleable\"><input class=\"sk-toggleable__control sk-hidden--visually\" id=\"14e71b44-ba18-43cf-9723-22221eb1835a\" type=\"checkbox\" ><label class=\"sk-toggleable__label\" for=\"14e71b44-ba18-43cf-9723-22221eb1835a\">numeric</label><div class=\"sk-toggleable__content\"><pre>[0, 8]</pre></div></div></div><div class=\"sk-serial\"><div class=\"sk-item\"><div class=\"sk-serial\"><div class=\"sk-item\"><div class=\"sk-estimator sk-toggleable\"><input class=\"sk-toggleable__control sk-hidden--visually\" id=\"8c283454-0812-4912-a83b-5d64e6280d6b\" type=\"checkbox\" ><label class=\"sk-toggleable__label\" for=\"8c283454-0812-4912-a83b-5d64e6280d6b\">StandardScaler</label><div class=\"sk-toggleable__content\"><pre>StandardScaler()</pre></div></div></div></div></div></div></div></div><div class=\"sk-parallel-item\"><div class=\"sk-item\"><div class=\"sk-label-container\"><div class=\"sk-label sk-toggleable\"><input class=\"sk-toggleable__control sk-hidden--visually\" id=\"5103fde6-1620-4ade-8dc8-391ce112ea0f\" type=\"checkbox\" ><label class=\"sk-toggleable__label\" for=\"5103fde6-1620-4ade-8dc8-391ce112ea0f\">categorical</label><div class=\"sk-toggleable__content\"><pre>[1, 2, 3, 4, 5, 6, 7, 9]</pre></div></div></div><div class=\"sk-serial\"><div class=\"sk-item\"><div class=\"sk-serial\"><div class=\"sk-item\"><div class=\"sk-estimator sk-toggleable\"><input class=\"sk-toggleable__control sk-hidden--visually\" id=\"e576cb65-bc7b-4583-9582-f606bb352b4e\" type=\"checkbox\" ><label class=\"sk-toggleable__label\" for=\"e576cb65-bc7b-4583-9582-f606bb352b4e\">OrdinalEncoder</label><div class=\"sk-toggleable__content\"><pre>OrdinalEncoder()</pre></div></div></div></div></div></div></div></div></div></div><div class=\"sk-item\"><div class=\"sk-estimator sk-toggleable\"><input class=\"sk-toggleable__control sk-hidden--visually\" id=\"3d222acf-61e9-45d9-a26a-e6a47339895c\" type=\"checkbox\" ><label class=\"sk-toggleable__label\" for=\"3d222acf-61e9-45d9-a26a-e6a47339895c\">RandomForestClassifier</label><div class=\"sk-toggleable__content\"><pre>RandomForestClassifier()</pre></div></div></div></div></div></div></div>"
      ],
      "text/plain": [
       "Pipeline(steps=[('preprocessor_onehot',\n",
       "                 ColumnTransformer(transformers=[('numeric',\n",
       "                                                  Pipeline(steps=[('scaler',\n",
       "                                                                   StandardScaler())]),\n",
       "                                                  [0, 8]),\n",
       "                                                 ('categorical',\n",
       "                                                  Pipeline(steps=[('oridnal',\n",
       "                                                                   OrdinalEncoder())]),\n",
       "                                                  [1, 2, 3, 4, 5, 6, 7, 9])])),\n",
       "                ('classifier', RandomForestClassifier())])"
      ]
     },
     "execution_count": 25,
     "metadata": {},
     "output_type": "execute_result"
    }
   ],
   "source": [
    "pipe_onehot"
   ]
  },
  {
   "cell_type": "code",
   "execution_count": 26,
   "metadata": {},
   "outputs": [
    {
     "name": "stdout",
     "output_type": "stream",
     "text": [
      "Best model score: 0.818094068094068Best model params: {'classifier__max_depth': 100, 'classifier__n_estimators': 200}\n",
      "0.8173 (+/- 0.0016) with: {'classifier__max_depth': None, 'classifier__n_estimators': 50}\n",
      "0.8167 (+/- 0.0016) with: {'classifier__max_depth': None, 'classifier__n_estimators': 100}\n",
      "0.8173 (+/- 0.0038) with: {'classifier__max_depth': None, 'classifier__n_estimators': 200}\n",
      "0.818 (+/- 0.0024) with: {'classifier__max_depth': 100, 'classifier__n_estimators': 50}\n",
      "0.8177 (+/- 0.005) with: {'classifier__max_depth': 100, 'classifier__n_estimators': 100}\n",
      "0.8181 (+/- 0.0016) with: {'classifier__max_depth': 100, 'classifier__n_estimators': 200}\n",
      "0.8163 (+/- 0.002) with: {'classifier__max_depth': 200, 'classifier__n_estimators': 50}\n",
      "0.8179 (+/- 0.003) with: {'classifier__max_depth': 200, 'classifier__n_estimators': 100}\n",
      "0.8175 (+/- 0.002) with: {'classifier__max_depth': 200, 'classifier__n_estimators': 200}\n"
     ]
    }
   ],
   "source": [
    "grid_ordinal = GridSearchCV(pipe_onehot, params, cv=3)\n",
    "grid_results_onehot = grid_ordinal.fit(x_train, y_train)\n",
    "print_grid_cv_results(grid_results_onehot)"
   ]
  },
  {
   "cell_type": "markdown",
   "metadata": {},
   "source": [
    "# TensorFlow Model"
   ]
  },
  {
   "cell_type": "code",
   "execution_count": 27,
   "metadata": {},
   "outputs": [],
   "source": [
    "from tensorflow.keras.layers import Activation\n",
    "from tensorflow.keras.layers import Dense\n",
    "from tensorflow.keras.models import Sequential\n",
    "from tensorflow.keras.optimizers import SGD"
   ]
  },
  {
   "cell_type": "code",
   "execution_count": 28,
   "metadata": {},
   "outputs": [],
   "source": [
    "y_train = y_train.reshape(-1, 1)\n",
    "y_test = y_test.reshape(-1, 1)"
   ]
  },
  {
   "cell_type": "code",
   "execution_count": 29,
   "metadata": {},
   "outputs": [],
   "source": [
    "def build_model(input_dim, output_dim):\n",
    "    model = Sequential()\n",
    "    model.add(Dense(units=128, input_dim=input_dim))\n",
    "    model.add(Activation('relu'))\n",
    "    model.add(Dense(units=64))\n",
    "    model.add(Activation('relu'))\n",
    "    model.add(Dense(units=output_dim))\n",
    "    model.add(Activation('sigmoid'))\n",
    "    return model"
   ]
  },
  {
   "cell_type": "markdown",
   "metadata": {},
   "source": [
    "## NN with ordinal features"
   ]
  },
  {
   "cell_type": "code",
   "execution_count": 30,
   "metadata": {},
   "outputs": [
    {
     "name": "stdout",
     "output_type": "stream",
     "text": [
      "Epoch 1/20\n",
      "1069/1069 [==============================] - 1s 918us/step - loss: 0.5099 - binary_accuracy: 0.7580 - val_loss: 0.4911 - val_binary_accuracy: 0.7600\n",
      "Epoch 2/20\n",
      "1069/1069 [==============================] - 1s 675us/step - loss: 0.4825 - binary_accuracy: 0.7590 - val_loss: 0.4745 - val_binary_accuracy: 0.7594\n",
      "Epoch 3/20\n",
      "1069/1069 [==============================] - 1s 712us/step - loss: 0.4744 - binary_accuracy: 0.7636 - val_loss: 0.5350 - val_binary_accuracy: 0.7601\n",
      "Epoch 4/20\n",
      "1069/1069 [==============================] - 1s 654us/step - loss: 0.4702 - binary_accuracy: 0.7650 - val_loss: 0.4640 - val_binary_accuracy: 0.7681\n",
      "Epoch 5/20\n",
      "1069/1069 [==============================] - 1s 659us/step - loss: 0.4670 - binary_accuracy: 0.7657 - val_loss: 0.4621 - val_binary_accuracy: 0.7709\n",
      "Epoch 6/20\n",
      "1069/1069 [==============================] - 1s 714us/step - loss: 0.4638 - binary_accuracy: 0.7683 - val_loss: 0.4766 - val_binary_accuracy: 0.7695\n",
      "Epoch 7/20\n",
      "1069/1069 [==============================] - 1s 686us/step - loss: 0.4619 - binary_accuracy: 0.7680 - val_loss: 0.4607 - val_binary_accuracy: 0.7640\n",
      "Epoch 8/20\n",
      "1069/1069 [==============================] - 1s 680us/step - loss: 0.4590 - binary_accuracy: 0.7703 - val_loss: 0.4849 - val_binary_accuracy: 0.7587\n",
      "Epoch 9/20\n",
      "1069/1069 [==============================] - 1s 651us/step - loss: 0.4566 - binary_accuracy: 0.7700 - val_loss: 0.4661 - val_binary_accuracy: 0.7619\n",
      "Epoch 10/20\n",
      "1069/1069 [==============================] - 1s 707us/step - loss: 0.4549 - binary_accuracy: 0.7721 - val_loss: 0.4557 - val_binary_accuracy: 0.7796\n",
      "Epoch 11/20\n",
      "1069/1069 [==============================] - 1s 678us/step - loss: 0.4523 - binary_accuracy: 0.7737 - val_loss: 0.4903 - val_binary_accuracy: 0.7511\n",
      "Epoch 12/20\n",
      "1069/1069 [==============================] - 1s 707us/step - loss: 0.4502 - binary_accuracy: 0.7744 - val_loss: 0.4489 - val_binary_accuracy: 0.7694\n",
      "Epoch 13/20\n",
      "1069/1069 [==============================] - 1s 706us/step - loss: 0.4476 - binary_accuracy: 0.7759 - val_loss: 0.4552 - val_binary_accuracy: 0.7638\n",
      "Epoch 14/20\n",
      "1069/1069 [==============================] - 1s 709us/step - loss: 0.4449 - binary_accuracy: 0.7773 - val_loss: 0.4414 - val_binary_accuracy: 0.7725\n",
      "Epoch 15/20\n",
      "1069/1069 [==============================] - 1s 654us/step - loss: 0.4418 - binary_accuracy: 0.7773 - val_loss: 0.4400 - val_binary_accuracy: 0.7721\n",
      "Epoch 16/20\n",
      "1069/1069 [==============================] - 1s 674us/step - loss: 0.4397 - binary_accuracy: 0.7797 - val_loss: 0.4360 - val_binary_accuracy: 0.7748\n",
      "Epoch 17/20\n",
      "1069/1069 [==============================] - 1s 727us/step - loss: 0.4369 - binary_accuracy: 0.7794 - val_loss: 0.4425 - val_binary_accuracy: 0.7686\n",
      "Epoch 18/20\n",
      "1069/1069 [==============================] - 1s 696us/step - loss: 0.4337 - binary_accuracy: 0.7819 - val_loss: 0.4311 - val_binary_accuracy: 0.7881\n",
      "Epoch 19/20\n",
      "1069/1069 [==============================] - 1s 669us/step - loss: 0.4321 - binary_accuracy: 0.7828 - val_loss: 0.4349 - val_binary_accuracy: 0.7916\n",
      "Epoch 20/20\n",
      "1069/1069 [==============================] - 1s 661us/step - loss: 0.4294 - binary_accuracy: 0.7836 - val_loss: 0.4253 - val_binary_accuracy: 0.7882\n"
     ]
    }
   ],
   "source": [
    "model = build_model(\n",
    "    input_dim=x_train_ordinal.shape[1],\n",
    "    output_dim=y_train.shape[1]\n",
    ")\n",
    "\n",
    "model.compile(\n",
    "    loss='binary_crossentropy',\n",
    "    optimizer=SGD(learning_rate=0.001),\n",
    "    metrics=['binary_accuracy']\n",
    ")\n",
    "\n",
    "history_ordinal = model.fit(\n",
    "    x=x_train_ordinal,\n",
    "    y=y_train,\n",
    "    epochs=20,\n",
    "    validation_data=(x_test_ordinal, y_test)\n",
    ")"
   ]
  },
  {
   "cell_type": "code",
   "execution_count": 31,
   "metadata": {},
   "outputs": [
    {
     "data": {
      "image/png": "[encoded data removed]",
      "text/plain": [
       "<Figure size 432x288 with 1 Axes>"
      ]
     },
     "metadata": {
      "needs_background": "light"
     },
     "output_type": "display_data"
    }
   ],
   "source": [
    "val_binary_accuracy = history_ordinal.history['val_binary_accuracy']\n",
    "plt.plot(range(len(val_binary_accuracy)), val_binary_accuracy)\n",
    "plt.show()"
   ]
  },
  {
   "cell_type": "markdown",
   "metadata": {},
   "source": [
    "## NN with onehot features"
   ]
  },
  {
   "cell_type": "code",
   "execution_count": 32,
   "metadata": {},
   "outputs": [
    {
     "name": "stdout",
     "output_type": "stream",
     "text": [
      "Epoch 1/20\n",
      "1069/1069 [==============================] - 1s 853us/step - loss: 0.6015 - binary_accuracy: 0.7045 - val_loss: 0.5293 - val_binary_accuracy: 0.7603\n",
      "Epoch 2/20\n",
      "1069/1069 [==============================] - 1s 708us/step - loss: 0.5025 - binary_accuracy: 0.7609 - val_loss: 0.4809 - val_binary_accuracy: 0.7603\n",
      "Epoch 3/20\n",
      "1069/1069 [==============================] - 1s 706us/step - loss: 0.4641 - binary_accuracy: 0.7633 - val_loss: 0.4490 - val_binary_accuracy: 0.7674\n",
      "Epoch 4/20\n",
      "1069/1069 [==============================] - 1s 715us/step - loss: 0.4373 - binary_accuracy: 0.7773 - val_loss: 0.4266 - val_binary_accuracy: 0.7837\n",
      "Epoch 5/20\n",
      "1069/1069 [==============================] - 1s 818us/step - loss: 0.4190 - binary_accuracy: 0.7947 - val_loss: 0.4114 - val_binary_accuracy: 0.7998\n",
      "Epoch 6/20\n",
      "1069/1069 [==============================] - 1s 744us/step - loss: 0.4067 - binary_accuracy: 0.8053 - val_loss: 0.4011 - val_binary_accuracy: 0.8100\n",
      "Epoch 7/20\n",
      "1069/1069 [==============================] - 1s 735us/step - loss: 0.3981 - binary_accuracy: 0.8104 - val_loss: 0.3935 - val_binary_accuracy: 0.8170\n",
      "Epoch 8/20\n",
      "1069/1069 [==============================] - 1s 697us/step - loss: 0.3915 - binary_accuracy: 0.8146 - val_loss: 0.3875 - val_binary_accuracy: 0.8209\n",
      "Epoch 9/20\n",
      "1069/1069 [==============================] - 1s 890us/step - loss: 0.3862 - binary_accuracy: 0.8181 - val_loss: 0.3825 - val_binary_accuracy: 0.8235\n",
      "Epoch 10/20\n",
      "1069/1069 [==============================] - 1s 1ms/step - loss: 0.3818 - binary_accuracy: 0.8209 - val_loss: 0.3783 - val_binary_accuracy: 0.8255\n",
      "Epoch 11/20\n",
      "1069/1069 [==============================] - 1s 1ms/step - loss: 0.3779 - binary_accuracy: 0.8225 - val_loss: 0.3747 - val_binary_accuracy: 0.8273\n",
      "Epoch 12/20\n",
      "1069/1069 [==============================] - 1s 1ms/step - loss: 0.3746 - binary_accuracy: 0.8240 - val_loss: 0.3716 - val_binary_accuracy: 0.8299\n",
      "Epoch 13/20\n",
      "1069/1069 [==============================] - 1s 1ms/step - loss: 0.3718 - binary_accuracy: 0.8259 - val_loss: 0.3688 - val_binary_accuracy: 0.8308\n",
      "Epoch 14/20\n",
      "1069/1069 [==============================] - 1s 1ms/step - loss: 0.3693 - binary_accuracy: 0.8273 - val_loss: 0.3664 - val_binary_accuracy: 0.8321\n",
      "Epoch 15/20\n",
      "1069/1069 [==============================] - 1s 1ms/step - loss: 0.3671 - binary_accuracy: 0.8289 - val_loss: 0.3643 - val_binary_accuracy: 0.8328\n",
      "Epoch 16/20\n",
      "1069/1069 [==============================] - 1s 1ms/step - loss: 0.3652 - binary_accuracy: 0.8292 - val_loss: 0.3624 - val_binary_accuracy: 0.8334\n",
      "Epoch 17/20\n",
      "1069/1069 [==============================] - 1s 1ms/step - loss: 0.3634 - binary_accuracy: 0.8300 - val_loss: 0.3608 - val_binary_accuracy: 0.8339\n",
      "Epoch 18/20\n",
      "1069/1069 [==============================] - 1s 1ms/step - loss: 0.3619 - binary_accuracy: 0.8310 - val_loss: 0.3593 - val_binary_accuracy: 0.8344\n",
      "Epoch 19/20\n",
      "1069/1069 [==============================] - 1s 981us/step - loss: 0.3604 - binary_accuracy: 0.8318 - val_loss: 0.3579 - val_binary_accuracy: 0.8351\n",
      "Epoch 20/20\n",
      "1069/1069 [==============================] - 1s 1ms/step - loss: 0.3592 - binary_accuracy: 0.8326 - val_loss: 0.3567 - val_binary_accuracy: 0.8357\n"
     ]
    }
   ],
   "source": [
    "model = build_model(\n",
    "    input_dim=x_train_onehot.shape[1],\n",
    "    output_dim=y_train.shape[1]\n",
    ")\n",
    "\n",
    "model.compile(\n",
    "    loss='binary_crossentropy',\n",
    "    optimizer=SGD(learning_rate=0.001),\n",
    "    metrics=['binary_accuracy']\n",
    ")\n",
    "\n",
    "history_onehot = model.fit(\n",
    "    x=x_train_onehot,\n",
    "    y=y_train,\n",
    "    epochs=20,\n",
    "    validation_data=(x_test_onehot, y_test)\n",
    ")"
   ]
  },
  {
   "cell_type": "code",
   "execution_count": 33,
   "metadata": {},
   "outputs": [
    {
     "data": {
      "image/png": "[encoded data removed]",
      "text/plain": [
       "<Figure size 432x288 with 1 Axes>"
      ]
     },
     "metadata": {
      "needs_background": "light"
     },
     "output_type": "display_data"
    }
   ],
   "source": [
    "val_binary_accuracy = history_onehot.history['val_binary_accuracy']\n",
    "plt.plot(range(len(val_binary_accuracy)), val_binary_accuracy)\n",
    "plt.show()"
   ]
  },
  {
   "cell_type": "markdown",
   "metadata": {},
   "source": [
    "## Pass in user-data"
   ]
  },
  {
   "cell_type": "code",
   "execution_count": 34,
   "metadata": {},
   "outputs": [
    {
     "name": "stderr",
     "output_type": "stream",
     "text": [
      "C:\\Users\\gutsc\\anaconda3\\envs\\tensor_gpu\\lib\\site-packages\\sklearn\\pipeline.py:346: DataConversionWarning: A column-vector y was passed when a 1d array was expected. Please change the shape of y to (n_samples,), for example using ravel().\n",
      "  self._final_estimator.fit(Xt, y, **fit_params_last_step)\n"
     ]
    },
    {
     "name": "stdout",
     "output_type": "stream",
     "text": [
      "score: 0.8188084351327374\n"
     ]
    }
   ],
   "source": [
    "pipe_ordinal.fit(x_train, y_train)\n",
    "score = pipe_ordinal.score(x_test, y_test)\n",
    "\n",
    "print(f'score: {score}')"
   ]
  },
  {
   "cell_type": "code",
   "execution_count": 35,
   "metadata": {},
   "outputs": [
    {
     "name": "stdout",
     "output_type": "stream",
     "text": [
      "y_sample: 0\n",
      "y_pred: [0]\n"
     ]
    }
   ],
   "source": [
    "x_sample = [\n",
    "    25,\n",
    "    'Private',\n",
    "    '11th',\n",
    "    'Never-married',\n",
    "    'Machine-op-inspct',\n",
    "    'Own-child',\n",
    "    'Black',\n",
    "    'Male',\n",
    "    40,\n",
    "    'United-States'\n",
    "]\n",
    "y_sample = 0\n",
    "\n",
    "y_pred_sample = pipe_ordinal.predict([x_sample])\n",
    "print(f'y_sample: {y_sample}\\ny_pred: {y_pred_sample}')"
   ]
  }
 ],
 "metadata": {
  "kernelspec": {
   "display_name": "Python 3.7.2 64-bit",
   "metadata": {
    "interpreter": {
     "hash": "eb5e4990910e14dd45c435c2968b5a5f5ce800b4f8a2bb72e1f77e313f787063"
    }
   },
   "name": "python3"
  },
  "language_info": {
   "codemirror_mode": {
    "name": "ipython",
    "version": 3
   },
   "file_extension": ".py",
   "mimetype": "text/x-python",
   "name": "python",
   "nbconvert_exporter": "python",
   "pygments_lexer": "ipython3",
   "version": "3.8.12"
  },
  "orig_nbformat": 2
 },
 "nbformat": 4,
 "nbformat_minor": 2
}
