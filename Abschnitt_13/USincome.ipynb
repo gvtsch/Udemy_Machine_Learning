{
 "cells": [
  {
   "cell_type": "code",
   "execution_count": null,
   "metadata": {},
   "outputs": [],
   "source": [
    "import os\r\n",
    "import numpy as np\r\n",
    "np.random.seed(0)\r\n",
    "import pandas as pd\r\n",
    "# print(pd.__version__)\r\n",
    "import matplotlib.pyplot as plt\r\n",
    "from sklearn import set_config\r\n",
    "set_config(display='diagram')"
   ]
  },
  {
   "cell_type": "code",
   "execution_count": null,
   "metadata": {},
   "outputs": [],
   "source": [
    "DATA_PATH = os.path.abspath(\r\n",
    "    r'C:\\Users\\christoph.Kempkes\\OneDrive - Magna\\01_Fortbildungen\\04_Udemy\\Machine Learning mit Python\\Chapter13_CaseStudies\\adult_XLS.xls')"
   ]
  },
  {
   "cell_type": "code",
   "execution_count": null,
   "metadata": {},
   "outputs": [],
   "source": [
    "df = pd.read_excel(DATA_PATH)"
   ]
  },
  {
   "cell_type": "code",
   "execution_count": null,
   "metadata": {},
   "outputs": [],
   "source": [
    "idx = np.where(df['native-country']=='Holand-Netherlands')[0]"
   ]
  },
  {
   "cell_type": "code",
   "execution_count": null,
   "metadata": {},
   "outputs": [],
   "source": [
    "data = df.to_numpy()\r\n",
    "x = data[:, :-1] # Letzte Spalte sind die y-Werte\r\n",
    "x = np.delete(x, idx, axis = 0)\r\n",
    "y = data[:, -1]\r\n",
    "y = np.delete(y, idx, axis = 0)\r\n",
    "\r\n",
    "print(f'x-Shape: {x.shape}\\ny-Shape: {y.shape}')"
   ]
  },
  {
   "cell_type": "code",
   "execution_count": null,
   "metadata": {},
   "outputs": [],
   "source": [
    "# y-Daten aufbereiten\r\n",
    "def one_hot(y):\r\n",
    "    return np.array([0 if val == \"<=50K\" else 1 for val in y], dtype=np.int32)"
   ]
  },
  {
   "cell_type": "code",
   "execution_count": null,
   "metadata": {},
   "outputs": [],
   "source": [
    "print(y)\r\n",
    "y = one_hot(y)\r\n",
    "print(y)"
   ]
  },
  {
   "cell_type": "code",
   "execution_count": null,
   "metadata": {},
   "outputs": [],
   "source": [
    "# GridSearch Helper\r\n",
    "def print_grid_cv_results(grid_result):\r\n",
    "    print(\r\n",
    "        f'Best model score: {grid_result.best_score_}'\r\n",
    "        f'Best model params: {grid_result.best_params_}'\r\n",
    "    )\r\n",
    "    means = grid_result.cv_results_['mean_test_score']\r\n",
    "    stds = grid_result.cv_results_['std_test_score']\r\n",
    "    params = grid_result.cv_results_['params']\r\n",
    "\r\n",
    "    for mean, std, param in zip(means, stds, params):\r\n",
    "        mean = round(mean, 4)\r\n",
    "        std = round(std, 4)\r\n",
    "        print(f'{mean} (+/- {2 * std}) with: {param}')"
   ]
  },
  {
   "cell_type": "code",
   "execution_count": null,
   "metadata": {},
   "outputs": [],
   "source": [
    "from sklearn.compose import ColumnTransformer\r\n",
    "from sklearn.preprocessing import OrdinalEncoder\r\n",
    "from sklearn.preprocessing import OneHotEncoder\r\n",
    "from sklearn.preprocessing import StandardScaler\r\n",
    "from sklearn.model_selection import train_test_split\r\n",
    "from sklearn.ensemble import RandomForestClassifier\r\n",
    "from sklearn.pipeline import Pipeline\r\n",
    "from sklearn.model_selection import GridSearchCV"
   ]
  },
  {
   "cell_type": "code",
   "execution_count": null,
   "metadata": {},
   "outputs": [],
   "source": [
    "x_train, x_test, y_train, y_test = train_test_split(x, y, test_size=0.3)"
   ]
  },
  {
   "cell_type": "code",
   "execution_count": null,
   "metadata": {},
   "outputs": [],
   "source": [
    "params = {\r\n",
    "    'classifier__n_estimators': [50, 100, 200],\r\n",
    "    'classifier__max_depth': [None, 100, 200]\r\n",
    "}\r\n",
    "\r\n",
    "clf = RandomForestClassifier()"
   ]
  },
  {
   "cell_type": "markdown",
   "metadata": {},
   "source": [
    "# Ordinal Features"
   ]
  },
  {
   "cell_type": "code",
   "execution_count": null,
   "metadata": {},
   "outputs": [],
   "source": [
    "categorical_features = [1, 2, 3, 4, 5, 6, 7, 9]\r\n",
    "numerical_features = [0, 8]\r\n",
    "\r\n",
    "numeric_transformer = Pipeline(\r\n",
    "    steps = [\r\n",
    "        ('scaler', StandardScaler())\r\n",
    "    ]\r\n",
    ")\r\n",
    "\r\n",
    "categorical_transformer = Pipeline(\r\n",
    "    steps = [\r\n",
    "        ('oridnal', OrdinalEncoder())\r\n",
    "    ]\r\n",
    ")\r\n",
    "\r\n",
    "preprocessor_ordinal = ColumnTransformer(\r\n",
    "    transformers = [\r\n",
    "        ('numeric', numeric_transformer, numerical_features),\r\n",
    "        ('categorical', categorical_transformer, categorical_features)\r\n",
    "    ]\r\n",
    ")"
   ]
  },
  {
   "cell_type": "code",
   "execution_count": null,
   "metadata": {},
   "outputs": [],
   "source": [
    "preprocessor_ordinal"
   ]
  },
  {
   "cell_type": "code",
   "execution_count": null,
   "metadata": {},
   "outputs": [],
   "source": [
    "preprocessor_ordinal.fit(x_train)\r\n",
    "x_train_ordinal = preprocessor_ordinal.transform(x_train)\r\n",
    "x_test_ordinal = preprocessor_ordinal.transform(x_test)\r\n",
    "print(f'x_train_ord: {x_train_ordinal.shape}\\ny_train_ord: {x_test_ordinal.shape}')"
   ]
  },
  {
   "cell_type": "code",
   "execution_count": null,
   "metadata": {},
   "outputs": [],
   "source": [
    "pipe_ordinal = Pipeline(\r\n",
    "    steps = [\r\n",
    "        ('preprocessor_ordinal', preprocessor_ordinal),\r\n",
    "        ('classifier', clf) # Dieses \"Classifier\" muss in den Params angegeben werden\r\n",
    "    ]\r\n",
    ")"
   ]
  },
  {
   "cell_type": "code",
   "execution_count": null,
   "metadata": {},
   "outputs": [],
   "source": [
    "pipe_ordinal"
   ]
  },
  {
   "cell_type": "code",
   "execution_count": null,
   "metadata": {},
   "outputs": [],
   "source": [
    "grid_ordinal = GridSearchCV(pipe_ordinal, params, cv=3)\r\n",
    "grid_results_oridnal = grid_ordinal.fit(x_train, y_train)\r\n",
    "print_grid_cv_results(grid_results_oridnal)"
   ]
  },
  {
   "cell_type": "markdown",
   "metadata": {},
   "source": [
    "# OneHot Features"
   ]
  },
  {
   "cell_type": "code",
   "execution_count": null,
   "metadata": {},
   "outputs": [],
   "source": [
    "categorical_features = [1, 2, 3, 4, 5, 6, 7, 9]\r\n",
    "numerical_features = [0, 8]\r\n",
    "\r\n",
    "numeric_transformer = Pipeline(\r\n",
    "    steps = [\r\n",
    "        ('scaler', StandardScaler())\r\n",
    "    ]\r\n",
    ")\r\n",
    "\r\n",
    "categorical_transformer = Pipeline(\r\n",
    "    steps = [\r\n",
    "        ('onehot', OneHotEncoder(handle_unknown='ignore', sparse=False))\r\n",
    "    ]\r\n",
    ")\r\n",
    "\r\n",
    "preprocessor_onehot = ColumnTransformer(\r\n",
    "    transformers = [ \r\n",
    "        ('numeric', numeric_transformer, numerical_features),\r\n",
    "        ('categorical', categorical_transformer, categorical_features)\r\n",
    "    ]\r\n",
    ")"
   ]
  },
  {
   "cell_type": "code",
   "execution_count": null,
   "metadata": {},
   "outputs": [],
   "source": [
    "preprocessor_onehot"
   ]
  },
  {
   "cell_type": "code",
   "execution_count": null,
   "metadata": {},
   "outputs": [],
   "source": [
    "preprocessor_onehot.fit(x_train)\r\n",
    "x_train_onehot = preprocessor_onehot.transform(x_train)\r\n",
    "x_test_onehot = preprocessor_onehot.transform(x_test)\r\n",
    "\r\n",
    "print(f'x_train_onehot: {x_train_onehot.shape}\\nx_test_onehot: {x_test_onehot.shape}')\r\n"
   ]
  },
  {
   "cell_type": "code",
   "execution_count": null,
   "metadata": {},
   "outputs": [],
   "source": [
    "pipe_onehot = Pipeline(\r\n",
    "    steps = [\r\n",
    "        ('preprocessor_onehot', preprocessor_ordinal),\r\n",
    "        ('classifier', clf) # Dieses \"Classifier\" muss in den Params angegeben werden\r\n",
    "    ]\r\n",
    ")"
   ]
  },
  {
   "cell_type": "code",
   "execution_count": null,
   "metadata": {},
   "outputs": [],
   "source": [
    "pipe_onehot"
   ]
  },
  {
   "cell_type": "code",
   "execution_count": null,
   "metadata": {},
   "outputs": [],
   "source": [
    "grid_ordinal = GridSearchCV(pipe_onehot, params, cv=3)\r\n",
    "grid_results_onehot = grid_ordinal.fit(x_train, y_train)\r\n",
    "print_grid_cv_results(grid_results_onehot)"
   ]
  },
  {
   "cell_type": "markdown",
   "metadata": {},
   "source": [
    "# TensorFlow Model"
   ]
  },
  {
   "cell_type": "code",
   "execution_count": null,
   "metadata": {},
   "outputs": [],
   "source": [
    "from tensorflow.keras.layers import Activation\r\n",
    "from tensorflow.keras.layers import Dense\r\n",
    "from tensorflow.keras.models import Sequential\r\n",
    "from tensorflow.keras.optimizers import SGD"
   ]
  },
  {
   "cell_type": "code",
   "execution_count": null,
   "metadata": {},
   "outputs": [],
   "source": [
    "y_train = y_train.reshape(-1, 1)\r\n",
    "y_test = y_test.reshape(-1, 1)"
   ]
  },
  {
   "cell_type": "code",
   "execution_count": null,
   "metadata": {},
   "outputs": [],
   "source": [
    "def build_model(input_dim, output_dim):\r\n",
    "    model = Sequential()\r\n",
    "    model.add(Dense(units=128, input_dim=input_dim))\r\n",
    "    model.add(Activation('relu'))\r\n",
    "    model.add(Dense(units=64))\r\n",
    "    model.add(Activation('relu'))\r\n",
    "    model.add(Dense(units=output_dim))\r\n",
    "    model.add(Activation('sigmoid'))\r\n",
    "    return model"
   ]
  },
  {
   "cell_type": "markdown",
   "metadata": {},
   "source": [
    "## NN with ordinal features"
   ]
  },
  {
   "cell_type": "code",
   "execution_count": null,
   "metadata": {},
   "outputs": [],
   "source": [
    "model = build_model(\r\n",
    "    input_dim=x_train_ordinal.shape[1],\r\n",
    "    output_dim=y_train.shape[1]\r\n",
    ")\r\n",
    "\r\n",
    "model.compile(\r\n",
    "    loss='binary_crossentropy',\r\n",
    "    optimizer=SGD(learning_rate=0.001),\r\n",
    "    metrics=['binary_accuracy']\r\n",
    ")\r\n",
    "\r\n",
    "history_ordinal = model.fit(\r\n",
    "    x=x_train_ordinal,\r\n",
    "    y=y_train,\r\n",
    "    epochs=20,\r\n",
    "    validation_data=(x_test_ordinal, y_test)\r\n",
    ")"
   ]
  },
  {
   "cell_type": "code",
   "execution_count": null,
   "metadata": {},
   "outputs": [],
   "source": [
    "val_binary_accuracy = history_ordinal.history['val_binary_accuracy']\r\n",
    "plt.plot(range(len(val_binary_accuracy)), val_binary_accuracy)\r\n",
    "plt.show()"
   ]
  },
  {
   "cell_type": "markdown",
   "metadata": {},
   "source": [
    "## NN with onehot features"
   ]
  },
  {
   "cell_type": "code",
   "execution_count": null,
   "metadata": {},
   "outputs": [],
   "source": [
    "model = build_model(\r\n",
    "    input_dim=x_train_onehot.shape[1],\r\n",
    "    output_dim=y_train.shape[1]\r\n",
    ")\r\n",
    "\r\n",
    "model.compile(\r\n",
    "    loss='binary_crossentropy',\r\n",
    "    optimizer=SGD(learning_rate=0.001),\r\n",
    "    metrics=['binary_accuracy']\r\n",
    ")\r\n",
    "\r\n",
    "history_onehot = model.fit(\r\n",
    "    x=x_train_onehot,\r\n",
    "    y=y_train,\r\n",
    "    epochs=20,\r\n",
    "    validation_data=(x_test_onehot, y_test)\r\n",
    ")"
   ]
  },
  {
   "cell_type": "code",
   "execution_count": null,
   "metadata": {},
   "outputs": [],
   "source": [
    "val_binary_accuracy = history_onehot.history['val_binary_accuracy']\r\n",
    "plt.plot(range(len(val_binary_accuracy)), val_binary_accuracy)\r\n",
    "plt.show()"
   ]
  },
  {
   "cell_type": "markdown",
   "metadata": {},
   "source": [
    "## Pass in user-data"
   ]
  },
  {
   "cell_type": "code",
   "execution_count": null,
   "metadata": {},
   "outputs": [],
   "source": [
    "pipe_ordinal.fit(x_train, y_train)\r\n",
    "score = pipe_ordinal.score(x_test, y_test)\r\n",
    "\r\n",
    "print(f'score: {score}')"
   ]
  },
  {
   "cell_type": "code",
   "execution_count": null,
   "metadata": {},
   "outputs": [],
   "source": [
    "x_sample = [\r\n",
    "    25,\r\n",
    "    'Private',\r\n",
    "    '11th',\r\n",
    "    'Never-married',\r\n",
    "    'Machine-op-inspct',\r\n",
    "    'Own-child',\r\n",
    "    'Black',\r\n",
    "    'Male',\r\n",
    "    40,\r\n",
    "    'United-States'\r\n",
    "]\r\n",
    "y_sample = 0\r\n",
    "\r\n",
    "y_pred_sample = pipe_ordinal.predict([x_sample])\r\n",
    "print(f'y_sample: {y_sample}\\ny_pred: {y_pred_sample}')"
   ]
  }
 ],
 "metadata": {
  "kernelspec": {
   "display_name": "Python 3.7.2 64-bit",
   "metadata": {
    "interpreter": {
     "hash": "eb5e4990910e14dd45c435c2968b5a5f5ce800b4f8a2bb72e1f77e313f787063"
    }
   },
   "name": "python3"
  },
  "language_info": {
   "codemirror_mode": {
    "name": "ipython",
    "version": 3
   },
   "file_extension": ".py",
   "mimetype": "text/x-python",
   "name": "python",
   "nbconvert_exporter": "python",
   "pygments_lexer": "ipython3",
   "version": "3.7.2"
  },
  "orig_nbformat": 2
 },
 "nbformat": 4,
 "nbformat_minor": 2
}