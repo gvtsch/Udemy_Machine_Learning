{
 "cells": [
  {
   "cell_type": "code",
   "execution_count": 19,
   "metadata": {},
   "outputs": [],
   "source": [
    "import numpy as np\r\n",
    "import pandas as pd"
   ]
  },
  {
   "cell_type": "code",
   "execution_count": 20,
   "metadata": {},
   "outputs": [
    {
     "data": {
      "text/html": "<div>\n<style scoped>\n    .dataframe tbody tr th:only-of-type {\n        vertical-align: middle;\n    }\n\n    .dataframe tbody tr th {\n        vertical-align: top;\n    }\n\n    .dataframe thead th {\n        text-align: right;\n    }\n</style>\n<table border=\"1\" class=\"dataframe\">\n  <thead>\n    <tr style=\"text-align: right;\">\n      <th></th>\n      <th>Unnamed: 0</th>\n      <th>id</th>\n      <th>groups</th>\n      <th>age</th>\n      <th>healthy_eating</th>\n      <th>active_lifestyle</th>\n      <th>salary</th>\n    </tr>\n  </thead>\n  <tbody>\n    <tr>\n      <th>0</th>\n      <td>0</td>\n      <td>0</td>\n      <td>A</td>\n      <td>36</td>\n      <td>5</td>\n      <td>5</td>\n      <td>2297</td>\n    </tr>\n    <tr>\n      <th>1</th>\n      <td>1</td>\n      <td>1</td>\n      <td>A</td>\n      <td>55</td>\n      <td>3</td>\n      <td>5</td>\n      <td>1134</td>\n    </tr>\n    <tr>\n      <th>2</th>\n      <td>2</td>\n      <td>2</td>\n      <td>A</td>\n      <td>61</td>\n      <td>8</td>\n      <td>1</td>\n      <td>4969</td>\n    </tr>\n    <tr>\n      <th>3</th>\n      <td>3</td>\n      <td>3</td>\n      <td>O</td>\n      <td>29</td>\n      <td>3</td>\n      <td>6</td>\n      <td>902</td>\n    </tr>\n    <tr>\n      <th>4</th>\n      <td>4</td>\n      <td>4</td>\n      <td>O</td>\n      <td>34</td>\n      <td>6</td>\n      <td>2</td>\n      <td>3574</td>\n    </tr>\n  </tbody>\n</table>\n</div>",
      "text/plain": "   Unnamed: 0  id groups  age  healthy_eating  active_lifestyle  salary\n0           0   0      A   36               5                 5    2297\n1           1   1      A   55               3                 5    1134\n2           2   2      A   61               8                 1    4969\n3           3   3      O   29               3                 6     902\n4           4   4      O   34               6                 2    3574"
     },
     "execution_count": 20,
     "metadata": {},
     "output_type": "execute_result"
    }
   ],
   "source": [
    "DATA_PATH = r'C:\\Users\\christoph.Kempkes\\OneDrive - Magna\\01_Fortbildungen\\04_Udemy\\Machine Learning mit Python\\Chapter13_CaseStudies\\employee_data.csv'\r\n",
    "df = pd.read_csv(DATA_PATH)\r\n",
    "df.head()"
   ]
  },
  {
   "cell_type": "code",
   "execution_count": 21,
   "metadata": {},
   "outputs": [
    {
     "data": {
      "text/html": "<div>\n<style scoped>\n    .dataframe tbody tr th:only-of-type {\n        vertical-align: middle;\n    }\n\n    .dataframe tbody tr th {\n        vertical-align: top;\n    }\n\n    .dataframe thead th {\n        text-align: right;\n    }\n</style>\n<table border=\"1\" class=\"dataframe\">\n  <thead>\n    <tr style=\"text-align: right;\">\n      <th></th>\n      <th>groups</th>\n      <th>age</th>\n      <th>healthy_eating</th>\n      <th>active_lifestyle</th>\n      <th>salary</th>\n    </tr>\n  </thead>\n  <tbody>\n    <tr>\n      <th>0</th>\n      <td>A</td>\n      <td>36</td>\n      <td>5</td>\n      <td>5</td>\n      <td>2297</td>\n    </tr>\n    <tr>\n      <th>1</th>\n      <td>A</td>\n      <td>55</td>\n      <td>3</td>\n      <td>5</td>\n      <td>1134</td>\n    </tr>\n    <tr>\n      <th>2</th>\n      <td>A</td>\n      <td>61</td>\n      <td>8</td>\n      <td>1</td>\n      <td>4969</td>\n    </tr>\n    <tr>\n      <th>3</th>\n      <td>O</td>\n      <td>29</td>\n      <td>3</td>\n      <td>6</td>\n      <td>902</td>\n    </tr>\n    <tr>\n      <th>4</th>\n      <td>O</td>\n      <td>34</td>\n      <td>6</td>\n      <td>2</td>\n      <td>3574</td>\n    </tr>\n  </tbody>\n</table>\n</div>",
      "text/plain": "  groups  age  healthy_eating  active_lifestyle  salary\n0      A   36               5                 5    2297\n1      A   55               3                 5    1134\n2      A   61               8                 1    4969\n3      O   29               3                 6     902\n4      O   34               6                 2    3574"
     },
     "execution_count": 21,
     "metadata": {},
     "output_type": "execute_result"
    }
   ],
   "source": [
    "df = df.drop('Unnamed: 0', axis=1) # Spalte droppen / löschen\r\n",
    "df = df.drop('id', axis=1) # Spalte droppen / löschen\r\n",
    "df.head()"
   ]
  },
  {
   "cell_type": "code",
   "execution_count": 26,
   "metadata": {},
   "outputs": [
    {
     "name": "stdout",
     "output_type": "stream",
     "text": [
      "x-shape: (1000, 4)\n",
      "y-shape: (1000,)\n"
     ]
    }
   ],
   "source": [
    "data = df.to_numpy()\r\n",
    "x = data[:, :-1]\r\n",
    "y = data[:, -1]\r\n",
    "\r\n",
    "categorical_features = [0]\r\n",
    "numerical_features = [1, 2, 3]\r\n",
    "\r\n",
    "print(f'x-shape: {x.shape}\\ny-shape: {y.shape}')"
   ]
  },
  {
   "cell_type": "code",
   "execution_count": 23,
   "metadata": {},
   "outputs": [],
   "source": [
    "# Feature groups ist noch ein string und muss noch umgeformt werden\r\n",
    "from sklearn.compose import ColumnTransformer\r\n",
    "from sklearn.preprocessing import OrdinalEncoder\r\n",
    "from sklearn.preprocessing import StandardScaler\r\n",
    "from sklearn.model_selection import train_test_split\r\n",
    "from sklearn.ensemble import RandomForestRegressor\r\n",
    "from sklearn.pipeline import Pipeline"
   ]
  },
  {
   "cell_type": "code",
   "execution_count": 24,
   "metadata": {},
   "outputs": [],
   "source": [
    "x_train, x_test, y_train, y_test = train_test_split(x, y, test_size=0.3)"
   ]
  },
  {
   "cell_type": "code",
   "execution_count": 25,
   "metadata": {},
   "outputs": [],
   "source": [
    "regr = RandomForestRegressor(n_estimators=100)"
   ]
  },
  {
   "cell_type": "code",
   "execution_count": 29,
   "metadata": {},
   "outputs": [],
   "source": [
    "numeric_transformer = Pipeline(\r\n",
    "    steps = [\r\n",
    "        ('scaler', StandardScaler())\r\n",
    "    ]\r\n",
    ")\r\n",
    "\r\n",
    "categorical_transformer = Pipeline(\r\n",
    "    steps = [\r\n",
    "        ('oridnal', OrdinalEncoder())\r\n",
    "    ]\r\n",
    ")\r\n",
    "\r\n",
    "preprocessor_ordinal = ColumnTransformer(\r\n",
    "    transformers = [\r\n",
    "        ('numeric', numeric_transformer, numerical_features),\r\n",
    "        ('categorical', categorical_transformer, categorical_features)\r\n",
    "    ]\r\n",
    ")"
   ]
  },
  {
   "cell_type": "code",
   "execution_count": 31,
   "metadata": {},
   "outputs": [],
   "source": [
    "pipe_ordinal = Pipeline(\r\n",
    "    steps = [\r\n",
    "        ('preprocessor_ordinal', preprocessor_ordinal),\r\n",
    "        ('regressor', regr) # Dieses \"Classifier\" muss in den Params angegeben werden\r\n",
    "    ]\r\n",
    ")"
   ]
  },
  {
   "cell_type": "code",
   "execution_count": 34,
   "metadata": {},
   "outputs": [
    {
     "name": "stdout",
     "output_type": "stream",
     "text": [
      "0.9951368592534707\n"
     ]
    }
   ],
   "source": [
    "pipe_ordinal.fit(x_train, y_train)\r\n",
    "score = pipe_ordinal.score(x_test, y_test)\r\n",
    "\r\n",
    "print(score)"
   ]
  },
  {
   "cell_type": "code",
   "execution_count": 41,
   "metadata": {},
   "outputs": [],
   "source": [
    "# Abspeichern des Modells\r\n",
    "import pickle \r\n",
    "\r\n",
    "pickle.dump(regr, open('model.pkl', 'wb'))\r\n",
    "regr = pickle.load(open('model.pkl', 'rb'))"
   ]
  },
  {
   "cell_type": "code",
   "execution_count": 42,
   "metadata": {},
   "outputs": [
    {
     "name": "stdout",
     "output_type": "stream",
     "text": [
      "[4163.92]\n"
     ]
    }
   ],
   "source": [
    "x_sample = np.array([0, 40, 10, 10])\r\n",
    "y_pred = regr.predict([x_sample])\r\n",
    "print(y_pred)"
   ]
  }
 ],
 "metadata": {
  "kernelspec": {
   "display_name": "Python 3.7.2 64-bit",
   "metadata": {
    "interpreter": {
     "hash": "eb5e4990910e14dd45c435c2968b5a5f5ce800b4f8a2bb72e1f77e313f787063"
    }
   },
   "name": "python3"
  },
  "language_info": {
   "codemirror_mode": {
    "name": "ipython",
    "version": 3
   },
   "file_extension": ".py",
   "mimetype": "text/x-python",
   "name": "python",
   "nbconvert_exporter": "python",
   "pygments_lexer": "ipython3",
   "version": "3.7.2"
  },
  "orig_nbformat": 2
 },
 "nbformat": 4,
 "nbformat_minor": 2
}