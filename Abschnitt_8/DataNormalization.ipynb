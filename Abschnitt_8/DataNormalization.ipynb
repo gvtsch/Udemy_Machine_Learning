{
 "cells": [
  {
   "cell_type": "markdown",
   "metadata": {},
   "source": [
    "# Dataset"
   ]
  },
  {
   "cell_type": "code",
   "execution_count": 2,
   "metadata": {},
   "outputs": [],
   "source": [
    "import numpy as np\r\n",
    "np.random.seed(42)\r\n",
    "\r\n",
    "import matplotlib.pyplot as plt\r\n",
    "from sklearn import datasets\r\n",
    "from sklearn.model_selection import train_test_split"
   ]
  },
  {
   "cell_type": "code",
   "execution_count": 10,
   "metadata": {},
   "outputs": [],
   "source": [
    "boston = datasets.load_boston()\r\n",
    "x, y = boston.data[:, 1:3], boston.target\r\n",
    "x_train, x_test, y_train, y_test = train_test_split(x, y, test_size = 0.3)"
   ]
  },
  {
   "cell_type": "code",
   "execution_count": 12,
   "metadata": {},
   "outputs": [
    {
     "data": {
      "image/png": "[encoded data removed]",
      "text/plain": "<Figure size 432x288 with 1 Axes>"
     },
     "metadata": {},
     "output_type": "display_data"
    },
    {
     "name": "stdout",
     "output_type": "stream",
     "text": [
      "Min: [0.   0.46]\n",
      "Max: [95.   25.65]\n",
      "Mean: [11.84210526 10.91763158]\n",
      "Std:[24.62911875  6.71750519]\n"
     ]
    }
   ],
   "source": [
    "plt.scatter(x_test[:, 0], x_test[:, 1])\r\n",
    "plt.show()\r\n",
    "\r\n",
    "print(f\"Min: {np.min(x_test, axis = 0)}\")\r\n",
    "print(f\"Max: {np.max(x_test, axis = 0)}\")\r\n",
    "print(f\"Mean: {np.mean(x_test, axis = 0)}\")\r\n",
    "print(f\"Std:{np.std(x_test, axis = 0)}\")"
   ]
  },
  {
   "cell_type": "markdown",
   "metadata": {},
   "source": [
    "## MinMaxScaler"
   ]
  },
  {
   "cell_type": "code",
   "execution_count": 16,
   "metadata": {},
   "outputs": [],
   "source": [
    "class MinMaxScaler:\r\n",
    "    def __init__(self):\r\n",
    "        self.data_min: np.ndarray = None\r\n",
    "        self.data_max: np.ndarray = None\r\n",
    "    \r\n",
    "    def fit(self, x: np.ndarray):\r\n",
    "        self.data_min = np.min(x, axis = 0)\r\n",
    "        self.data_max = np.max(x, axis = 0)\r\n",
    "\r\n",
    "    def transform(self, x: np.ndarray):\r\n",
    "        x_transformed = (x - self.data_min) / (self.data_max - self.data_min)\r\n",
    "        return x_transformed"
   ]
  },
  {
   "cell_type": "code",
   "execution_count": 22,
   "metadata": {},
   "outputs": [],
   "source": [
    "scaler = MinMaxScaler()\r\n",
    "scaler.fit(x)\r\n",
    "x_train_transformed = scaler.transform(x)\r\n",
    "x_test_transformed = scaler.transform(x)"
   ]
  },
  {
   "cell_type": "code",
   "execution_count": 23,
   "metadata": {},
   "outputs": [
    {
     "data": {
      "image/png": "[encoded data removed]",
      "text/plain": "<Figure size 432x288 with 1 Axes>"
     },
     "metadata": {},
     "output_type": "display_data"
    },
    {
     "name": "stdout",
     "output_type": "stream",
     "text": [
      "Min: [0. 0.]\n",
      "Max: [1. 1.]\n",
      "Mean: [0.11363636 0.39137752]\n",
      "Std:[0.23299396 0.25123059]\n"
     ]
    }
   ],
   "source": [
    "plt.scatter(x_test_transformed[:, 0], x_test_transformed[:, 1])\r\n",
    "plt.show()\r\n",
    "\r\n",
    "print(f\"Min: {np.min(x_test_transformed, axis = 0)}\")\r\n",
    "print(f\"Max: {np.max(x_test_transformed, axis = 0)}\")\r\n",
    "print(f\"Mean: {np.mean(x_test_transformed, axis = 0)}\")\r\n",
    "print(f\"Std:{np.std(x_test_transformed, axis = 0)}\")"
   ]
  },
  {
   "cell_type": "markdown",
   "metadata": {},
   "source": [
    "## Standard-Scaler"
   ]
  },
  {
   "cell_type": "code",
   "execution_count": 29,
   "metadata": {},
   "outputs": [],
   "source": [
    "class StandardScaler:\r\n",
    "    def __init__(self):\r\n",
    "        self.mean_: np.ndarray = None\r\n",
    "        self.scale_: np.ndarray = None\r\n",
    "    \r\n",
    "    def fit(self, x: np.ndarray):\r\n",
    "        self.mean_ = np.mean(x, axis = 0)\r\n",
    "        self.scale_ = np.std(x, axis = 0)\r\n",
    "\r\n",
    "    def transform(self, x: np.ndarray):\r\n",
    "        x_transformed = (x - self.mean_) / (self.scale_) # Division durch 0? --> Exception\r\n",
    "        return x_transformed"
   ]
  },
  {
   "cell_type": "code",
   "execution_count": 34,
   "metadata": {},
   "outputs": [],
   "source": [
    "scaler = StandardScaler()\r\n",
    "scaler.fit(x_train)\r\n",
    "x_train_transformed = scaler.transform(x_train)\r\n",
    "x_test_transformed = scaler.transform(x_test)"
   ]
  },
  {
   "cell_type": "code",
   "execution_count": 35,
   "metadata": {},
   "outputs": [
    {
     "data": {
      "image/png": "[encoded data removed]",
      "text/plain": "<Figure size 432x288 with 1 Axes>"
     },
     "metadata": {},
     "output_type": "display_data"
    },
    {
     "name": "stdout",
     "output_type": "stream",
     "text": [
      "Min: [-0.49151868 -1.55895417]\n",
      "Max: [3.69323401 2.08699409]\n",
      "Mean: [ 0.03012639 -0.0453383 ]\n",
      "Std:[1.08491338 0.97227774]\n"
     ]
    }
   ],
   "source": [
    "plt.scatter(x_test_transformed[:, 0], x_test_transformed[:, 1])\r\n",
    "plt.show()\r\n",
    "\r\n",
    "print(f\"Min: {np.min(x_test_transformed, axis = 0)}\")\r\n",
    "print(f\"Max: {np.max(x_test_transformed, axis = 0)}\")\r\n",
    "print(f\"Mean: {np.mean(x_test_transformed, axis = 0)}\")\r\n",
    "print(f\"Std:{np.std(x_test_transformed, axis = 0)}\")"
   ]
  }
 ],
 "metadata": {
  "kernelspec": {
   "display_name": "Python 3.7.2 64-bit",
   "metadata": {
    "interpreter": {
     "hash": "eb5e4990910e14dd45c435c2968b5a5f5ce800b4f8a2bb72e1f77e313f787063"
    }
   },
   "name": "python3"
  },
  "language_info": {
   "codemirror_mode": {
    "name": "ipython",
    "version": 3
   },
   "file_extension": ".py",
   "mimetype": "text/x-python",
   "name": "python",
   "nbconvert_exporter": "python",
   "pygments_lexer": "ipython3",
   "version": "3.7.2"
  },
  "orig_nbformat": 2
 },
 "nbformat": 4,
 "nbformat_minor": 2
}