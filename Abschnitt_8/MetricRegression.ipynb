{
 "cells": [
  {
   "cell_type": "code",
   "execution_count": 31,
   "metadata": {},
   "outputs": [],
   "source": [
    "import numpy as np\r\n",
    "np.random.seed(42)"
   ]
  },
  {
   "cell_type": "code",
   "execution_count": 32,
   "metadata": {},
   "outputs": [],
   "source": [
    "from sklearn.linear_model import LinearRegression\r\n",
    "from sklearn.model_selection import train_test_split\r\n",
    "from sklearn.datasets import load_boston"
   ]
  },
  {
   "cell_type": "code",
   "execution_count": 33,
   "metadata": {},
   "outputs": [],
   "source": [
    "dataset = load_boston()\r\n",
    "x = dataset.data\r\n",
    "y = dataset.target\r\n",
    "\r\n",
    "x_train, x_test, y_train, y_test = train_test_split(x, y, test_size = 0.30)"
   ]
  },
  {
   "cell_type": "code",
   "execution_count": 34,
   "metadata": {},
   "outputs": [],
   "source": [
    "regr = LinearRegression()\r\n",
    "regr.fit(x_train, y_train)\r\n",
    "\r\n",
    "y_pred = regr.predict(x_test)\r\n",
    "y_true = y_test"
   ]
  },
  {
   "cell_type": "code",
   "execution_count": 61,
   "metadata": {},
   "outputs": [],
   "source": [
    "def r_squared(y_true: np.ndarray, y_pred: np.ndarray) -> float:\r\n",
    "    r_squared = 1.0 - (np.sum((y_true - y_pred)**2))/(np.sum((y_true - np.mean(y_true))**2))\r\n",
    "    # Als List-Comprehension:\r\n",
    "    n = len(y_pred)\r\n",
    "    numerator = np.sum([(y_true[i] - y_pred[i])**2 for i in range(n)])\r\n",
    "    denumerator = np.sum([(y_true[i] - np.mean(y_true))**2 for i in range(n)]) # np.mean(y_true) ohne [i]! Mittelwert wird nicht iteriert\r\n",
    "    print(f\"Als List-Comprehension: {1.0 - numerator/denumerator}\")\r\n",
    "    return r_squared"
   ]
  },
  {
   "cell_type": "code",
   "execution_count": 36,
   "metadata": {},
   "outputs": [],
   "source": [
    "def mape(y_true: np.ndarray, y_pred: np.ndarray) -> float:\r\n",
    "    return 100/len(y_true) * np.sum(np.abs((y_true - y_pred) / y_true))"
   ]
  },
  {
   "cell_type": "code",
   "execution_count": 64,
   "metadata": {},
   "outputs": [
    {
     "name": "stdout",
     "output_type": "stream",
     "text": [
      "Als List-Comprehension: 0.7112260057484909\n",
      "R² selbst programmiert: 0.7112260057484909\n",
      "R² aus Bibliothek: 0.7112260057484909\n",
      "MAPE: 16.521221680468372\n",
      "Im Durchschnitt weichen wir um 16.521221680468372% vom realen Wert ab\n"
     ]
    }
   ],
   "source": [
    "print(f\"R² selbst programmiert: {r_squared(y_true, y_pred)}\")\r\n",
    "print(f\"R² aus Bibliothek: {regr.score(x_test, y_test)}\")\r\n",
    "print(f\"MAPE: {mape(y_true, y_pred)}\\nIm Durchschnitt weichen wir um {mape(y_true, y_pred)}% vom realen Wert ab\")"
   ]
  }
 ],
 "metadata": {
  "kernelspec": {
   "display_name": "Python 3.7.2 64-bit",
   "metadata": {
    "interpreter": {
     "hash": "eb5e4990910e14dd45c435c2968b5a5f5ce800b4f8a2bb72e1f77e313f787063"
    }
   },
   "name": "python3"
  },
  "language_info": {
   "codemirror_mode": {
    "name": "ipython",
    "version": 3
   },
   "file_extension": ".py",
   "mimetype": "text/x-python",
   "name": "python",
   "nbconvert_exporter": "python",
   "pygments_lexer": "ipython3",
   "version": "3.7.2"
  },
  "orig_nbformat": 2
 },
 "nbformat": 4,
 "nbformat_minor": 2
}
