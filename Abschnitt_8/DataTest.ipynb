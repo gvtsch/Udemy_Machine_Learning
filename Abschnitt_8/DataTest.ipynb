{
 "cells": [
  {
   "cell_type": "code",
   "execution_count": 9,
   "metadata": {},
   "outputs": [],
   "source": [
    "import numpy as np\r\n",
    "np.random.seed(42)\r\n",
    "import matplotlib.pyplot as plt\r\n",
    "from sklearn import datasets\r\n",
    "from sklearn.model_selection import train_test_split\r\n",
    "from sklearn.preprocessing import StandardScaler\r\n",
    "from sklearn.preprocessing import MinMaxScaler\r\n",
    "from sklearn.linear_model import LinearRegression\r\n",
    "from sklearn.neighbors import KNeighborsRegressor"
   ]
  },
  {
   "cell_type": "code",
   "execution_count": 10,
   "metadata": {},
   "outputs": [],
   "source": [
    "boston = datasets.load_boston()\r\n",
    "x, y = boston.data, boston.target\r\n",
    "x_train, x_test, y_train, y_test = train_test_split(x, y, test_size = 0.3)"
   ]
  },
  {
   "cell_type": "markdown",
   "metadata": {},
   "source": [
    "## Ohne Scaler"
   ]
  },
  {
   "cell_type": "code",
   "execution_count": 12,
   "metadata": {},
   "outputs": [
    {
     "name": "stdout",
     "output_type": "stream",
     "text": [
      "R2: 0.6222229853585531\n"
     ]
    }
   ],
   "source": [
    "regr = KNeighborsRegressor(n_neighbors = 3)\r\n",
    "regr.fit(x_train, y_train)\r\n",
    "print(f\"R2: {regr.score(x_test, y_test)}\")"
   ]
  },
  {
   "cell_type": "markdown",
   "metadata": {},
   "source": [
    "## StandardScaler"
   ]
  },
  {
   "cell_type": "code",
   "execution_count": 13,
   "metadata": {},
   "outputs": [
    {
     "name": "stdout",
     "output_type": "stream",
     "text": [
      "R2: 0.766599074886692\n"
     ]
    }
   ],
   "source": [
    "scaler = StandardScaler()\r\n",
    "scaler.fit(x_train)\r\n",
    "x_train_transformed = scaler.transform(x_train)\r\n",
    "x_test_transformed = scaler.transform(x_test)\r\n",
    "\r\n",
    "regr = KNeighborsRegressor(n_neighbors = 3)\r\n",
    "regr.fit(x_train_transformed, y_train)\r\n",
    "print(f\"R2: {regr.score(x_test_transformed, y_test)}\")"
   ]
  },
  {
   "cell_type": "markdown",
   "metadata": {},
   "source": [
    "## MinMaxScaler"
   ]
  },
  {
   "cell_type": "code",
   "execution_count": 14,
   "metadata": {},
   "outputs": [
    {
     "name": "stdout",
     "output_type": "stream",
     "text": [
      "R2: 0.7467324779328905\n"
     ]
    }
   ],
   "source": [
    "scaler = MinMaxScaler()\r\n",
    "scaler.fit(x_train)\r\n",
    "x_train_transformed = scaler.transform(x_train)\r\n",
    "x_test_transformed = scaler.transform(x_test)\r\n",
    "\r\n",
    "regr = KNeighborsRegressor(n_neighbors = 3)\r\n",
    "regr.fit(x_train_transformed, y_train)\r\n",
    "print(f\"R2: {regr.score(x_test_transformed, y_test)}\")"
   ]
  }
 ],
 "metadata": {
  "kernelspec": {
   "display_name": "Python 3.7.2 64-bit",
   "metadata": {
    "interpreter": {
     "hash": "eb5e4990910e14dd45c435c2968b5a5f5ce800b4f8a2bb72e1f77e313f787063"
    }
   },
   "name": "python3"
  },
  "language_info": {
   "codemirror_mode": {
    "name": "ipython",
    "version": 3
   },
   "file_extension": ".py",
   "mimetype": "text/x-python",
   "name": "python",
   "nbconvert_exporter": "python",
   "pygments_lexer": "ipython3",
   "version": "3.7.2"
  },
  "orig_nbformat": 2
 },
 "nbformat": 4,
 "nbformat_minor": 2
}