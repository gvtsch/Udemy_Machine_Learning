{
 "cells": [
  {
   "cell_type": "code",
   "execution_count": 13,
   "metadata": {},
   "outputs": [],
   "source": [
    "import numpy as np\r\n",
    "np.random.seed(42)"
   ]
  },
  {
   "cell_type": "code",
   "execution_count": 14,
   "metadata": {},
   "outputs": [],
   "source": [
    "def get_dataset():\r\n",
    "    # ODER-Datensatz\r\n",
    "    x = np.array([[0, 0], [0, 1], [1, 0], [1, 1]], dtype=np.float32)\r\n",
    "    y = np.array([0, 1, 1, 1], dtype=np.float32)\r\n",
    "    return x, y"
   ]
  },
  {
   "cell_type": "code",
   "execution_count": 15,
   "metadata": {},
   "outputs": [],
   "source": [
    "class Perceptron():\r\n",
    "    def __init__(self, learning_rate: float = 0.001, max_iter: int = 1) -> None:\r\n",
    "        self.max_iter = max_iter\r\n",
    "        self.learning_rate = learning_rate\r\n",
    "        self.w: np.ndarray = None\r\n",
    "\r\n",
    "    def _activation(self, signal: np.ndarray) -> np.ndarray:\r\n",
    "        return(signal > 0.0).astype(np.float32) # Gibt 0 oder 1 weiter\r\n",
    "\r\n",
    "    def _forward(self, x: np.ndarray):\r\n",
    "        return self._activation(np.dot(x, self.w)) # Gibt nur weiter, wenn > 0.0?\r\n",
    "\r\n",
    "    def _update_weights(self, x: np.ndarray, y: np.ndarray, y_pred: np.ndarray) -> np.ndarray:\r\n",
    "        # Hier werden hauptsächlich die Formeln umgesetzt\r\n",
    "        loss = y - y_pred\r\n",
    "        gradient = np.dot(loss, x) # .dot --> dot product of two arrays bzw. Skalarprodukt\r\n",
    "        self.w = self.w + self.learning_rate * gradient\r\n",
    "    \r\n",
    "    def fit(self, x: np.ndarray, y: np.ndarray) -> None:\r\n",
    "        _, dim = x.shape\r\n",
    "        self.w = np.random.normal(loc = 0.0, scale = 0.01, size = (dim,)) # Beim Start werden unsere Gewichte erstmal randomisiert erzeugt\r\n",
    "        for _ in range(self.max_iter):\r\n",
    "            y_pred = self._forward(x) # y_pred = Sigma (x*w)\r\n",
    "            self._update_weights(x, y, y_pred) # Haben wir einen Fehler mit unseren Gewichten gemacht? Dann Gewichte updaten\r\n",
    "\r\n",
    "    def predict(self, x: np.ndarray) -> np.ndarray:\r\n",
    "        return self._forward(x)\r\n",
    "\r\n",
    "    def score(self, x: np.ndarray, y: np.ndarray) -> np.ndarray:\r\n",
    "        y_pred = self.predict(x)\r\n",
    "        return np.mean(y == y_pred)"
   ]
  },
  {
   "cell_type": "code",
   "execution_count": 16,
   "metadata": {},
   "outputs": [
    {
     "name": "stdout",
     "output_type": "stream",
     "text": [
      "Acc: 1.0\n"
     ]
    }
   ],
   "source": [
    "x, y = get_dataset()\r\n",
    "clf = Perceptron(max_iter = 10, learning_rate = 0.5)\r\n",
    "clf.fit(x, y)\r\n",
    "score = clf.score(x, y)\r\n",
    "print(f'Acc: {score}')"
   ]
  }
 ],
 "metadata": {
  "kernelspec": {
   "display_name": "Python 3.7.2 64-bit",
   "metadata": {
    "interpreter": {
     "hash": "eb5e4990910e14dd45c435c2968b5a5f5ce800b4f8a2bb72e1f77e313f787063"
    }
   },
   "name": "python3"
  },
  "language_info": {
   "codemirror_mode": {
    "name": "ipython",
    "version": 3
   },
   "file_extension": ".py",
   "mimetype": "text/x-python",
   "name": "python",
   "nbconvert_exporter": "python",
   "pygments_lexer": "ipython3",
   "version": "3.7.2"
  },
  "orig_nbformat": 2
 },
 "nbformat": 4,
 "nbformat_minor": 2
}