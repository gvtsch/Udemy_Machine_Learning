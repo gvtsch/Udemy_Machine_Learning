{
 "cells": [
  {
   "cell_type": "code",
   "execution_count": 35,
   "metadata": {},
   "outputs": [],
   "source": [
    "import numpy as np\r\n",
    "np.random.seed(42)\r\n",
    "import tensorflow as tf\r\n",
    "tf.random.set_seed(42)"
   ]
  },
  {
   "cell_type": "code",
   "execution_count": 36,
   "metadata": {},
   "outputs": [],
   "source": [
    "from sklearn.datasets import load_digits\r\n",
    "from sklearn.model_selection import train_test_split\r\n",
    "from tensorflow.keras.models import Sequential\r\n",
    "from tensorflow.keras.layers import Activation\r\n",
    "from tensorflow.keras.layers import Dense\r\n",
    "from tensorflow.keras.optimizers import SGD\r\n",
    "from tensorflow.keras.utils import to_categorical"
   ]
  },
  {
   "cell_type": "code",
   "execution_count": 37,
   "metadata": {},
   "outputs": [],
   "source": [
    "dataset = load_digits()\r\n",
    "x, y = dataset.data, dataset.target\r\n",
    "# y = np.reshape(y, newshape=(-1, 1)) # TF Modelle erwarten min. (:,1) Arrays\r\n",
    "y = to_categorical(y, num_classes=10) # Shape (-1, 1) --> (-1, 10), weil wir ja 10 mögliche Ausgänge bzw. Ziffern haben\r\n",
    "x_train, x_test, y_train, y_test = train_test_split(x, y, test_size=0.3)"
   ]
  },
  {
   "cell_type": "code",
   "execution_count": 38,
   "metadata": {},
   "outputs": [
    {
     "name": "stdout",
     "output_type": "stream",
     "text": [
      "x_train shape: (1257, 64)\n",
      "y_train shape: (1257, 10)\n"
     ]
    }
   ],
   "source": [
    "print(f'x_train shape: {x_train.shape}')\r\n",
    "print(f'y_train shape: {y_train.shape}')"
   ]
  },
  {
   "cell_type": "code",
   "execution_count": 39,
   "metadata": {},
   "outputs": [],
   "source": [
    "model = Sequential()\r\n",
    "model.add(Dense(units=512, input_dim=x.shape[1])) \r\n",
    "    # Dense-Layer ist wie die lineare Regression\r\n",
    "    # Units --> Größe Output-Layer; \"Units\" kann auch weggelassen werden\r\n",
    "    # Von Layer 1 nach Layer 2 hat es so nun 64*512 Verbindungen\r\n",
    "model.add(Activation('relu'))\r\n",
    "model.add(Dense(258))\r\n",
    "model.add(Activation('relu'))\r\n",
    "model.add(Dense(y.shape[1])) # Auf Output-Gröpe shapen\r\n",
    "model.add(Activation('softmax')) # Softmax macht aus den Werten Wahrscheinlichkeiten"
   ]
  },
  {
   "cell_type": "code",
   "execution_count": 40,
   "metadata": {},
   "outputs": [
    {
     "name": "stdout",
     "output_type": "stream",
     "text": [
      "Model: \"sequential_9\"\n",
      "_________________________________________________________________\n",
      "Layer (type)                 Output Shape              Param #   \n",
      "=================================================================\n",
      "dense_21 (Dense)             (None, 512)               33280     \n",
      "_________________________________________________________________\n",
      "activation_14 (Activation)   (None, 512)               0         \n",
      "_________________________________________________________________\n",
      "dense_22 (Dense)             (None, 258)               132354    \n",
      "_________________________________________________________________\n",
      "activation_15 (Activation)   (None, 258)               0         \n",
      "_________________________________________________________________\n",
      "dense_23 (Dense)             (None, 10)                2590      \n",
      "_________________________________________________________________\n",
      "activation_16 (Activation)   (None, 10)                0         \n",
      "=================================================================\n",
      "Total params: 168,224\n",
      "Trainable params: 168,224\n",
      "Non-trainable params: 0\n",
      "_________________________________________________________________\n"
     ]
    }
   ],
   "source": [
    "model.summary()"
   ]
  },
  {
   "cell_type": "code",
   "execution_count": 41,
   "metadata": {},
   "outputs": [],
   "source": [
    "model.compile(\r\n",
    "    loss = 'categorical_crossentropy',\r\n",
    "    optimizer = SGD(),\r\n",
    "    metrics = ['accuracy']\r\n",
    ")"
   ]
  },
  {
   "cell_type": "code",
   "execution_count": 42,
   "metadata": {},
   "outputs": [
    {
     "name": "stdout",
     "output_type": "stream",
     "text": [
      "Epoch 1/30\n",
      "40/40 [==============================] - 1s 8ms/step - loss: 2.1495 - accuracy: 0.5600 - val_loss: 0.2412 - val_accuracy: 0.9352\n",
      "Epoch 2/30\n",
      "40/40 [==============================] - 0s 4ms/step - loss: 0.2477 - accuracy: 0.9445 - val_loss: 0.1923 - val_accuracy: 0.9407\n",
      "Epoch 3/30\n",
      "40/40 [==============================] - 0s 4ms/step - loss: 0.1271 - accuracy: 0.9716 - val_loss: 0.1671 - val_accuracy: 0.9500\n",
      "Epoch 4/30\n",
      "40/40 [==============================] - 0s 4ms/step - loss: 0.0924 - accuracy: 0.9784 - val_loss: 0.1463 - val_accuracy: 0.9593\n",
      "Epoch 5/30\n",
      "40/40 [==============================] - 0s 5ms/step - loss: 0.0703 - accuracy: 0.9874 - val_loss: 0.1162 - val_accuracy: 0.9648\n",
      "Epoch 6/30\n",
      "40/40 [==============================] - 0s 3ms/step - loss: 0.0564 - accuracy: 0.9914 - val_loss: 0.1589 - val_accuracy: 0.9444\n",
      "Epoch 7/30\n",
      "40/40 [==============================] - 0s 4ms/step - loss: 0.0505 - accuracy: 0.9921 - val_loss: 0.0979 - val_accuracy: 0.9759\n",
      "Epoch 8/30\n",
      "40/40 [==============================] - 0s 4ms/step - loss: 0.0449 - accuracy: 0.9954 - val_loss: 0.0894 - val_accuracy: 0.9759\n",
      "Epoch 9/30\n",
      "40/40 [==============================] - 0s 3ms/step - loss: 0.0391 - accuracy: 0.9931 - val_loss: 0.0867 - val_accuracy: 0.9759\n",
      "Epoch 10/30\n",
      "40/40 [==============================] - 0s 5ms/step - loss: 0.0322 - accuracy: 0.9948 - val_loss: 0.1311 - val_accuracy: 0.9611\n",
      "Epoch 11/30\n",
      "40/40 [==============================] - 0s 3ms/step - loss: 0.0314 - accuracy: 0.9983 - val_loss: 0.0924 - val_accuracy: 0.9722\n",
      "Epoch 12/30\n",
      "40/40 [==============================] - 0s 3ms/step - loss: 0.0255 - accuracy: 0.9996 - val_loss: 0.0805 - val_accuracy: 0.9815\n",
      "Epoch 13/30\n",
      "40/40 [==============================] - 0s 4ms/step - loss: 0.0230 - accuracy: 1.0000 - val_loss: 0.1364 - val_accuracy: 0.9593\n",
      "Epoch 14/30\n",
      "40/40 [==============================] - 0s 3ms/step - loss: 0.0265 - accuracy: 0.9967 - val_loss: 0.0762 - val_accuracy: 0.9796\n",
      "Epoch 15/30\n",
      "40/40 [==============================] - 0s 3ms/step - loss: 0.0169 - accuracy: 0.9999 - val_loss: 0.0809 - val_accuracy: 0.9778\n",
      "Epoch 16/30\n",
      "40/40 [==============================] - 0s 5ms/step - loss: 0.0165 - accuracy: 1.0000 - val_loss: 0.0785 - val_accuracy: 0.9833\n",
      "Epoch 17/30\n",
      "40/40 [==============================] - 0s 4ms/step - loss: 0.0153 - accuracy: 1.0000 - val_loss: 0.0858 - val_accuracy: 0.9852\n",
      "Epoch 18/30\n",
      "40/40 [==============================] - 0s 4ms/step - loss: 0.0164 - accuracy: 1.0000 - val_loss: 0.0725 - val_accuracy: 0.9833\n",
      "Epoch 19/30\n",
      "40/40 [==============================] - 0s 4ms/step - loss: 0.0141 - accuracy: 1.0000 - val_loss: 0.0755 - val_accuracy: 0.9815\n",
      "Epoch 20/30\n",
      "40/40 [==============================] - 0s 4ms/step - loss: 0.0111 - accuracy: 1.0000 - val_loss: 0.0835 - val_accuracy: 0.9759\n",
      "Epoch 21/30\n",
      "40/40 [==============================] - 0s 3ms/step - loss: 0.0180 - accuracy: 0.9975 - val_loss: 0.0744 - val_accuracy: 0.9815\n",
      "Epoch 22/30\n",
      "40/40 [==============================] - 0s 4ms/step - loss: 0.0116 - accuracy: 1.0000 - val_loss: 0.0708 - val_accuracy: 0.9815\n",
      "Epoch 23/30\n",
      "40/40 [==============================] - 0s 3ms/step - loss: 0.0105 - accuracy: 1.0000 - val_loss: 0.0712 - val_accuracy: 0.9833\n",
      "Epoch 24/30\n",
      "40/40 [==============================] - 0s 4ms/step - loss: 0.0110 - accuracy: 1.0000 - val_loss: 0.0758 - val_accuracy: 0.9852\n",
      "Epoch 25/30\n",
      "40/40 [==============================] - 0s 3ms/step - loss: 0.0107 - accuracy: 1.0000 - val_loss: 0.0710 - val_accuracy: 0.9815\n",
      "Epoch 26/30\n",
      "40/40 [==============================] - 0s 3ms/step - loss: 0.0112 - accuracy: 1.0000 - val_loss: 0.0698 - val_accuracy: 0.9852\n",
      "Epoch 27/30\n",
      "40/40 [==============================] - 0s 3ms/step - loss: 0.0089 - accuracy: 1.0000 - val_loss: 0.0701 - val_accuracy: 0.9833\n",
      "Epoch 28/30\n",
      "40/40 [==============================] - 0s 3ms/step - loss: 0.0084 - accuracy: 1.0000 - val_loss: 0.0703 - val_accuracy: 0.9833\n",
      "Epoch 29/30\n",
      "40/40 [==============================] - 0s 3ms/step - loss: 0.0088 - accuracy: 1.0000 - val_loss: 0.0690 - val_accuracy: 0.9815\n",
      "Epoch 30/30\n",
      "40/40 [==============================] - 0s 3ms/step - loss: 0.0081 - accuracy: 1.0000 - val_loss: 0.0713 - val_accuracy: 0.9852\n"
     ]
    },
    {
     "data": {
      "text/plain": "<tensorflow.python.keras.callbacks.History at 0x13290d1c898>"
     },
     "execution_count": 42,
     "metadata": {},
     "output_type": "execute_result"
    }
   ],
   "source": [
    "model.fit(\r\n",
    "    x = x_train,\r\n",
    "    y = y_train,\r\n",
    "    epochs = 30,\r\n",
    "    validation_data = (x_test, y_test)\r\n",
    ")"
   ]
  }
 ],
 "metadata": {
  "kernelspec": {
   "display_name": "Python 3.7.2 64-bit",
   "metadata": {
    "interpreter": {
     "hash": "eb5e4990910e14dd45c435c2968b5a5f5ce800b4f8a2bb72e1f77e313f787063"
    }
   },
   "name": "python3"
  },
  "language_info": {
   "codemirror_mode": {
    "name": "ipython",
    "version": 3
   },
   "file_extension": ".py",
   "mimetype": "text/x-python",
   "name": "python",
   "nbconvert_exporter": "python",
   "pygments_lexer": "ipython3",
   "version": "3.7.2"
  },
  "orig_nbformat": 2
 },
 "nbformat": 4,
 "nbformat_minor": 2
}