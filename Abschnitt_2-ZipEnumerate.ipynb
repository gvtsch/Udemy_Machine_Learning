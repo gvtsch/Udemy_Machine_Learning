{
 "cells": [
  {
   "cell_type": "code",
   "execution_count": 2,
   "metadata": {},
   "outputs": [
    {
     "name": "stdout",
     "output_type": "stream",
     "text": [
      "0 100.0 False\n",
      "1 200.0 False\n",
      "2 -10.0 True\n",
      "\n",
      "100.0 False\n",
      "200.0 False\n",
      "-10.0 True\n",
      "\n",
      "0 100.0\n",
      "1 200.0\n",
      "2 -10.0\n",
      "\n",
      "0 100.0 False\n",
      "1 200.0 False\n",
      "2 -10.0 True\n"
     ]
    }
   ],
   "source": [
    "list_a = [100.0, 200.0, -10.0]\n",
    "list_b = [False, False, True]\n",
    "\n",
    "# index\n",
    "for idx in range(len(list_a)):\n",
    "    print(idx, list_a[idx], list_b[idx])\n",
    "\n",
    "print(\"\") # Zeilenumbruch\n",
    "\n",
    "# values for multiple iterables\n",
    "for val_a, val_b in zip(list_a, list_b):\n",
    "    print(val_a, val_b)\n",
    "    # Man kann sich die Zip Funktion wie einen Reißverschluss vorstellen. Eine Liste links, eine rechts. Und je Iteration wird je ein Eintrag zu einem Tupel zusammengeführt.\n",
    "    # Zip kann auch mehr als 2 Listen verwenden\n",
    "\n",
    "print(\"\")\n",
    "\n",
    "# index and value\n",
    "for idx, val in enumerate(list_a):\n",
    "    print(idx, val)\n",
    "\n",
    "print(\"\")\n",
    "\n",
    "# index and values for multiple iterables\n",
    "for idx, (val_a, val_b) in enumerate(zip(list_a, list_b)): # Funktion ruft eine weitere Funktion auf\n",
    "    print(idx, val_a, val_b)\n"
   ]
  },
  {
   "cell_type": "code",
   "execution_count": 3,
   "metadata": {},
   "outputs": [],
   "source": [
    "# Kommentar: Testen von Git Addon in VS Code"
   ]
  },
  {
   "cell_type": "code",
   "execution_count": null,
   "metadata": {},
   "outputs": [],
   "source": []
  }
 ],
 "metadata": {
  "kernelspec": {
   "display_name": "Python 3.7.2 64-bit",
   "metadata": {
    "interpreter": {
     "hash": "eb5e4990910e14dd45c435c2968b5a5f5ce800b4f8a2bb72e1f77e313f787063"
    }
   },
   "name": "python3"
  },
  "language_info": {
   "codemirror_mode": {
    "name": "ipython",
    "version": 3
   },
   "file_extension": ".py",
   "mimetype": "text/x-python",
   "name": "python",
   "nbconvert_exporter": "python",
   "pygments_lexer": "ipython3",
   "version": "3.9.7"
  },
  "orig_nbformat": 2
 },
 "nbformat": 4,
 "nbformat_minor": 2
}
