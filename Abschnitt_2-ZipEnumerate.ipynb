{
 "cells": [
  {
   "cell_type": "code",
   "execution_count": 1,
   "metadata": {},
   "outputs": [
    {
     "name": "stdout",
     "output_type": "stream",
     "text": [
      "0 100.0 False\n",
      "1 200.0 False\n",
      "2 -10.0 True\n",
      "\n",
      "100.0 False\n",
      "200.0 False\n",
      "-10.0 True\n",
      "\n",
      "0 100.0\n",
      "1 200.0\n",
      "2 -10.0\n",
      "\n",
      "0 100.0 False\n",
      "1 200.0 False\n",
      "2 -10.0 True\n"
     ]
    }
   ],
   "source": [
    "list_a = [100.0, 200.0, -10.0]\r\n",
    "list_b = [False, False, True]\r\n",
    "\r\n",
    "# index\r\n",
    "for idx in range(len(list_a)):\r\n",
    "    print(idx, list_a[idx], list_b[idx])\r\n",
    "\r\n",
    "print(\"\") # Zeilenumbruch\r\n",
    "\r\n",
    "# values for multiple iterables\r\n",
    "for val_a, val_b in zip(list_a, list_b):\r\n",
    "    print(val_a, val_b)\r\n",
    "    # Man kann sich die Zip Funktion wie einen Reißverschluss vorstellen. Eine Liste links, eine rechts. Und je Iteration wird je ein Eintrag zu einem Tupel zusammengeführt.\r\n",
    "    # Zip kann auch mehr als 2 Listen verwenden\r\n",
    "\r\n",
    "print(\"\")\r\n",
    "\r\n",
    "# index and value\r\n",
    "for idx, val in enumerate(list_a):\r\n",
    "    print(idx, val)\r\n",
    "\r\n",
    "print(\"\")\r\n",
    "\r\n",
    "# index and values for multiple iterables\r\n",
    "for idx, (val_a, val_b) in enumerate(zip(list_a, list_b)): # Funktion ruft eine weitere Funktion auf\r\n",
    "    print(idx, val_a, val_b)\r\n"
   ]
  }
 ],
 "metadata": {
  "kernelspec": {
   "display_name": "Python 3.7.2 64-bit",
   "metadata": {
    "interpreter": {
     "hash": "eb5e4990910e14dd45c435c2968b5a5f5ce800b4f8a2bb72e1f77e313f787063"
    }
   },
   "name": "python3"
  },
  "language_info": {
   "name": "python",
   "nbconvert_exporter": "python",
   "version": "3.7.2"
  },
  "orig_nbformat": 2
 },
 "nbformat": 4,
 "nbformat_minor": 2
}