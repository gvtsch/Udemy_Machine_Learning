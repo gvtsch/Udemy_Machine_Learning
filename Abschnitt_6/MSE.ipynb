{
 "cells": [
  {
   "cell_type": "code",
   "execution_count": 22,
   "metadata": {},
   "outputs": [],
   "source": [
    "import numpy as np\r\n",
    "np.random.seed(42)\r\n",
    "import pandas as pd\r\n",
    "from sklearn.datasets import load_boston\r\n",
    "from sklearn.model_selection import train_test_split"
   ]
  },
  {
   "cell_type": "code",
   "execution_count": 23,
   "metadata": {},
   "outputs": [],
   "source": [
    "dataset = load_boston()\r\n",
    "x = dataset.data\r\n",
    "y = dataset.target\r\n",
    "x_train, x_test, y_train, y_test = train_test_split(x, y, test_size=0.3)"
   ]
  },
  {
   "cell_type": "code",
   "execution_count": 24,
   "metadata": {},
   "outputs": [
    {
     "name": "stdout",
     "output_type": "stream",
     "text": [
      "r2: 0.7112260057484909\n"
     ]
    }
   ],
   "source": [
    "from sklearn.linear_model import LinearRegression\r\n",
    "regr = LinearRegression()\r\n",
    "regr.fit(x_train, y_train)\r\n",
    "r2 = regr.score(x_test, y_test)\r\n",
    "print(f\"r2: {r2}\")"
   ]
  },
  {
   "cell_type": "markdown",
   "metadata": {},
   "source": [
    "# Mean Squared Error (MSE)"
   ]
  },
  {
   "cell_type": "code",
   "execution_count": 25,
   "metadata": {},
   "outputs": [],
   "source": [
    "def own_mean_squared_error(y_true, y_pred):\r\n",
    "    # n = len(y_true)\r\n",
    "    # se = np.array([(y_true[i] - y_pred[i])**2 for i in range(n)])\r\n",
    "    # mse = np.mean(se)\r\n",
    "    mse = np.mean([(y_true[i] - y_pred[i])**2 for i in range (len(y_true))])\r\n",
    "    return mse"
   ]
  },
  {
   "cell_type": "code",
   "execution_count": 26,
   "metadata": {},
   "outputs": [
    {
     "name": "stdout",
     "output_type": "stream",
     "text": [
      "21.517444231177386\n"
     ]
    }
   ],
   "source": [
    "y_pred_test = regr.predict(x_test)\r\n",
    "mse = own_mean_squared_error(y_test, y_pred_test)\r\n",
    "print(mse)"
   ]
  },
  {
   "cell_type": "code",
   "execution_count": 27,
   "metadata": {},
   "outputs": [
    {
     "data": {
      "text/plain": "21.517444231177386"
     },
     "execution_count": 27,
     "metadata": {},
     "output_type": "execute_result"
    }
   ],
   "source": [
    "# sklearn Implementierung\r\n",
    "from sklearn.metrics import mean_squared_error\r\n",
    "y_pred_test = regr.predict(x_test)\r\n",
    "mean_squared_error(y_test, y_pred_test)"
   ]
  },
  {
   "cell_type": "markdown",
   "metadata": {},
   "source": [
    "# Mean Absolute Error (MAE)"
   ]
  },
  {
   "cell_type": "code",
   "execution_count": 28,
   "metadata": {},
   "outputs": [],
   "source": [
    "def own_mean_abs_error(y_true, y_pred):\r\n",
    "    mae = np.mean([np.abs(y_true[i] - y_pred[i]) for i in range (len(y_true))])\r\n",
    "    return mae"
   ]
  },
  {
   "cell_type": "code",
   "execution_count": 29,
   "metadata": {},
   "outputs": [
    {
     "name": "stdout",
     "output_type": "stream",
     "text": [
      "3.162709871457423\n"
     ]
    }
   ],
   "source": [
    "y_pred_test = regr.predict(x_test)\r\n",
    "mae = own_mean_abs_error(y_test, y_pred_test)\r\n",
    "print(mae)"
   ]
  },
  {
   "cell_type": "code",
   "execution_count": 30,
   "metadata": {},
   "outputs": [
    {
     "data": {
      "text/plain": "3.162709871457423"
     },
     "execution_count": 30,
     "metadata": {},
     "output_type": "execute_result"
    }
   ],
   "source": [
    "# sklearn Implementierung\r\n",
    "from sklearn.metrics import mean_absolute_error\r\n",
    "y_pred_test = regr.predict(x_test)\r\n",
    "mean_absolute_error(y_test, y_pred_test)"
   ]
  }
 ],
 "metadata": {
  "kernelspec": {
   "display_name": "Python 3.7.2 64-bit",
   "metadata": {
    "interpreter": {
     "hash": "eb5e4990910e14dd45c435c2968b5a5f5ce800b4f8a2bb72e1f77e313f787063"
    }
   },
   "name": "python3"
  },
  "language_info": {
   "codemirror_mode": {
    "name": "ipython",
    "version": 3
   },
   "file_extension": ".py",
   "mimetype": "text/x-python",
   "name": "python",
   "nbconvert_exporter": "python",
   "pygments_lexer": "ipython3",
   "version": "3.7.2"
  },
  "orig_nbformat": 2
 },
 "nbformat": 4,
 "nbformat_minor": 2
}
