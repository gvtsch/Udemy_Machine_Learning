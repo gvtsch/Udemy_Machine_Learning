{
 "cells": [
  {
   "cell_type": "markdown",
   "metadata": {},
   "source": [
    "# Modell Evaluierung\r\n",
    "Wie sollen die Hyperparameter ausgewählt werden?\r\n",
    "- Grid-Search: Man definiert eine endliche Menge von Werten die durchprobiert werden\r\n",
    "- Random-Search: Man wählt eine Zufallsverteilung und testet diese Samples\r\n",
    "- Kreuzvalidierung / Cross Validation\r\n",
    "  - Bei großen Datensätzen sind die Daten ausreichend um auf eine Kreuzvalidierung zu verzichten"
   ]
  },
  {
   "cell_type": "markdown",
   "metadata": {},
   "source": [
    "## Data preparation"
   ]
  },
  {
   "cell_type": "code",
   "execution_count": 34,
   "metadata": {},
   "outputs": [],
   "source": [
    "import numpy as np\r\n",
    "np.random.seed(42)\r\n",
    "\r\n",
    "import matplotlib.pyplot as plt\r\n",
    "from sklearn.neighbors import KNeighborsClassifier\r\n",
    "from sklearn.model_selection import train_test_split\r\n",
    "from sklearn.datasets import load_breast_cancer"
   ]
  },
  {
   "cell_type": "code",
   "execution_count": 35,
   "metadata": {},
   "outputs": [
    {
     "name": "stdout",
     "output_type": "stream",
     "text": [
      "x_train shape: (455, 30)\n",
      "x_test shape: (114, 30)\n"
     ]
    }
   ],
   "source": [
    "dataset = load_breast_cancer()\r\n",
    "x = dataset.data\r\n",
    "y = dataset.target\r\n",
    "\r\n",
    "x_train, x_test, y_train, y_test = train_test_split(x, y, test_size = 0.2)\r\n",
    "print(f\"x_train shape: {x_train.shape}\\nx_test shape: {x_test.shape}\")"
   ]
  },
  {
   "cell_type": "markdown",
   "metadata": {},
   "source": [
    "## Cross Validation"
   ]
  },
  {
   "cell_type": "code",
   "execution_count": 36,
   "metadata": {},
   "outputs": [],
   "source": [
    "from sklearn.model_selection import KFold\r\n",
    "from sklearn.model_selection import cross_val_score\r\n",
    "from sklearn.model_selection import cross_val_predict"
   ]
  },
  {
   "cell_type": "code",
   "execution_count": 37,
   "metadata": {},
   "outputs": [
    {
     "name": "stdout",
     "output_type": "stream",
     "text": [
      "Accuracies: [0.95652174 0.93478261 0.93478261 0.93478261 0.89130435 0.95555556\n",
      " 0.88888889 0.95555556 0.91111111 0.91111111]\n",
      "Mean Score: 0.9274396135265702\n",
      "Std Score: 0.024318093954401817\n"
     ]
    }
   ],
   "source": [
    "kf = KFold(n_splits = 10, shuffle = True)\r\n",
    "clf = KNeighborsClassifier(n_neighbors = 3)\r\n",
    "\r\n",
    "scores = cross_val_score(clf, x_train, y_train, cv = kf, n_jobs = -1)\r\n",
    "predictions = cross_val_predict(clf, x_train, y_train, cv = kf, n_jobs = -1)\r\n",
    "mean_score = np.mean(scores)\r\n",
    "std_score = np.std(scores)\r\n",
    "\r\n",
    "print(f\"Accuracies: {scores}\")\r\n",
    "print(f\"Mean Score: {mean_score}\")\r\n",
    "print(f\"Std Score: {std_score}\")"
   ]
  },
  {
   "cell_type": "code",
   "execution_count": 38,
   "metadata": {},
   "outputs": [
    {
     "data": {
      "image/png": "[encoded data removed]",
      "text/plain": "<Figure size 432x288 with 1 Axes>"
     },
     "metadata": {},
     "output_type": "display_data"
    }
   ],
   "source": [
    "plt.plot(range(len(scores)), scores, color = \"blue\")\r\n",
    "plt.xlim(0, 10)\r\n",
    "plt.ylim(0.85, 1)\r\n",
    "plt.axhline(mean_score, linestyle = \"-\", color = \"red\")\r\n",
    "plt.legend([\"Validation Scores\", \"Mean Score\"])\r\n",
    "plt.show()"
   ]
  }
 ],
 "metadata": {
  "kernelspec": {
   "display_name": "Python 3.7.2 64-bit",
   "metadata": {
    "interpreter": {
     "hash": "eb5e4990910e14dd45c435c2968b5a5f5ce800b4f8a2bb72e1f77e313f787063"
    }
   },
   "name": "python3"
  },
  "language_info": {
   "codemirror_mode": {
    "name": "ipython",
    "version": 3
   },
   "file_extension": ".py",
   "mimetype": "text/x-python",
   "name": "python",
   "nbconvert_exporter": "python",
   "pygments_lexer": "ipython3",
   "version": "3.7.2"
  },
  "orig_nbformat": 2
 },
 "nbformat": 4,
 "nbformat_minor": 2
}