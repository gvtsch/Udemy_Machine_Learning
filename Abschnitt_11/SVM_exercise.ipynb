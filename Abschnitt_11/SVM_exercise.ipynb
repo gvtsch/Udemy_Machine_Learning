{
 "cells": [
  {
   "cell_type": "markdown",
   "metadata": {},
   "source": [
    "# Programmieraufgabe"
   ]
  },
  {
   "cell_type": "code",
   "execution_count": 1,
   "metadata": {},
   "outputs": [],
   "source": [
    "import numpy as np\n",
    "np.random.seed(42)"
   ]
  },
  {
   "cell_type": "code",
   "execution_count": 2,
   "metadata": {},
   "outputs": [],
   "source": [
    "import time\n",
    "import matplotlib.pyplot as plt\n",
    "from sklearn.svm import SVC\n",
    "from sklearn.metrics import confusion_matrix\n",
    "from sklearn.datasets import load_digits\n",
    "from sklearn.model_selection import GridSearchCV\n",
    "from sklearn.decomposition import PCA\n",
    "from sklearn.preprocessing import StandardScaler\n",
    "from sklearn.model_selection import train_test_split"
   ]
  },
  {
   "cell_type": "code",
   "execution_count": 3,
   "metadata": {},
   "outputs": [
    {
     "name": "stdout",
     "output_type": "stream",
     "text": [
      "Bilder: 1797\n",
      "Features: 64\n"
     ]
    }
   ],
   "source": [
    "mnist = load_digits()\n",
    "x, y = mnist.data.astype(np.float32), mnist.target.astype(np.float32)\n",
    "n_samples, n_features = x.shape\n",
    "print(f\"Bilder: {n_samples}\\nFeatures: {n_features}\")"
   ]
  },
  {
   "cell_type": "code",
   "execution_count": 4,
   "metadata": {},
   "outputs": [
    {
     "data": {
      "image/png": "[encoded data removed]",
      "text/plain": [
       "<Figure size 432x288 with 10 Axes>"
      ]
     },
     "metadata": {
      "needs_background": "light"
     },
     "output_type": "display_data"
    }
   ],
   "source": [
    "# Ein paar zufällige Bilder plotten\n",
    "for index, (image, label) in enumerate(zip(x[:10], y[:10])):\n",
    "    plt.subplot(2, 5, index + 1)\n",
    "    plt.axis('off')\n",
    "    plt.imshow(image.reshape((8, 8)), cmap=plt.cm.gray_r, interpolation='nearest')\n",
    "    plt.title(f'Train: {label+1}')"
   ]
  },
  {
   "cell_type": "code",
   "execution_count": 5,
   "metadata": {},
   "outputs": [],
   "source": [
    "x_train, x_test, y_train, y_test = train_test_split(x, y, test_size=0.3)"
   ]
  },
  {
   "cell_type": "code",
   "execution_count": 6,
   "metadata": {},
   "outputs": [],
   "source": [
    "scaler = StandardScaler()\n",
    "scaler.fit(x_train)\n",
    "\n",
    "x_train = scaler.transform(x_train)\n",
    "x_test = scaler.transform(x_test)"
   ]
  },
  {
   "cell_type": "markdown",
   "metadata": {},
   "source": [
    "## Aufgabe 1\n",
    "SVM mit GridSearch programmieren\n",
    "Was fällt beim Training auf?"
   ]
  },
  {
   "cell_type": "code",
   "execution_count": 7,
   "metadata": {},
   "outputs": [
    {
     "name": "stdout",
     "output_type": "stream",
     "text": [
      "Training wurde nach 4.293277263641357s beendet\n",
      "Bestes Parameter-Set: {'gamma': 0.01, 'kernel': 'rbf'}\n"
     ]
    }
   ],
   "source": [
    "parameters = {\n",
    "    'kernel': ['rbf', 'poly', 'linear', 'sigmoid'], # Verschiedene Kernel\n",
    "    'gamma': [0.01, 0.001]  # Einer der Hyperparameter\n",
    "}\n",
    "\n",
    "clf = SVC()\n",
    "start_time = time.time()\n",
    "grid_cv = GridSearchCV(clf, parameters, cv = 10, n_jobs=-1)\n",
    "grid_cv.fit(x_train, y_train)\n",
    "end_time = time.time()\n",
    "print(f\"Training wurde nach {end_time-start_time}s beendet\")\n",
    "print(f\"Bestes Parameter-Set: {grid_cv.best_params_}\")"
   ]
  },
  {
   "cell_type": "markdown",
   "metadata": {},
   "source": [
    "## Aufgabe 2\n",
    "Genauigkeit und Confusion-Matrix"
   ]
  },
  {
   "cell_type": "code",
   "execution_count": 8,
   "metadata": {},
   "outputs": [
    {
     "name": "stdout",
     "output_type": "stream",
     "text": [
      "Score: 0.975925925925926\n",
      "Confusion-Matrix:\n",
      "[[53  0  0  0  0  0  0  0  0  0]\n",
      " [ 0 50  0  0  0  0  0  0  0  0]\n",
      " [ 0  0 47  0  0  0  0  0  0  0]\n",
      " [ 0  0  1 50  0  1  0  0  2  0]\n",
      " [ 0  0  0  0 60  0  0  0  0  0]\n",
      " [ 0  0  0  0  0 65  1  0  0  0]\n",
      " [ 0  0  0  0  0  1 52  0  0  0]\n",
      " [ 0  0  0  0  0  0  0 54  0  1]\n",
      " [ 0  0  1  1  0  0  0  0 41  0]\n",
      " [ 0  0  0  1  0  1  1  0  1 55]]\n"
     ]
    }
   ],
   "source": [
    "y_pred = grid_cv.predict(x_test)\n",
    "score = grid_cv.score(x_test, y_test)\n",
    "cm = confusion_matrix(y_test, y_pred)\n",
    "\n",
    "print(f\"Score: {score}\")\n",
    "print(f\"Confusion-Matrix:\\n{cm}\")"
   ]
  },
  {
   "cell_type": "markdown",
   "metadata": {},
   "source": [
    "# Aufgabe 3\n",
    "- PCA um Feature-Dimensionen zu verringern\n",
    "- Min 90% der Varianz behalten\n",
    "- Anschließend SVM mit GridSearch\n",
    "- Was fällt auf?"
   ]
  },
  {
   "cell_type": "code",
   "execution_count": 16,
   "metadata": {},
   "outputs": [
    {
     "name": "stdout",
     "output_type": "stream",
     "text": [
      "Dimensionen vorher: 64\n",
      "Dimensionen nach PCA: 31\n",
      "Explained variance: 0.9033050439320505\n"
     ]
    }
   ],
   "source": [
    "pca = PCA(n_components = 0.90)\n",
    "pca.fit(x_train)\n",
    "x_train_transformed = pca.transform(x_train)\n",
    "x_test_transformed = pca.transform(x_test)\n",
    "\n",
    "print(f\"Dimensionen vorher: {x_train.shape[1]}\")\n",
    "print(f\"Dimensionen nach PCA: {x_train_transformed.shape[1]}\")\n",
    "print(f\"Explained variance: {sum(pca.explained_variance_ratio_)}\")"
   ]
  },
  {
   "cell_type": "code",
   "execution_count": 20,
   "metadata": {},
   "outputs": [
    {
     "name": "stdout",
     "output_type": "stream",
     "text": [
      "Training wurde nach 0.7172739505767822s beendet\n",
      "Bestes Parameter-Set: {'gamma': 0.01, 'kernel': 'rbf'}\n"
     ]
    }
   ],
   "source": [
    "parameters = {\n",
    "    'kernel': ['rbf', 'poly', 'linear', 'sigmoid'],\n",
    "    'gamma': [0.01, 0.001]\n",
    "}\n",
    "\n",
    "clf = SVC()\n",
    "start_time = time.time()\n",
    "grid_cv = GridSearchCV(clf, parameters, cv = 10, n_jobs=-1)\n",
    "grid_cv.fit(x_train_transformed, y_train)  \n",
    "end_time = time.time()\n",
    "print(f\"Training wurde nach {end_time-start_time}s beendet\")\n",
    "print(f\"Bestes Parameter-Set: {grid_cv.best_params_}\")\n"
   ]
  },
  {
   "cell_type": "markdown",
   "metadata": {},
   "source": [
    "# Aufgabe 4\n",
    "CM und Acc vom besten Parametersatz"
   ]
  },
  {
   "cell_type": "code",
   "execution_count": 22,
   "metadata": {},
   "outputs": [
    {
     "name": "stdout",
     "output_type": "stream",
     "text": [
      "Score: 0.9722222222222222\n",
      "Confusion-Matrix:\n",
      "[[53  0  0  0  0  0  0  0  0  0]\n",
      " [ 0 49  1  0  0  0  0  0  0  0]\n",
      " [ 0  0 47  0  0  0  0  0  0  0]\n",
      " [ 0  0  1 50  0  1  0  0  2  0]\n",
      " [ 0  0  0  0 60  0  0  0  0  0]\n",
      " [ 0  0  0  0  0 64  1  0  0  1]\n",
      " [ 0  0  0  0  0  1 52  0  0  0]\n",
      " [ 0  0  0  0  0  0  0 54  0  1]\n",
      " [ 0  0  1  1  0  0  0  0 41  0]\n",
      " [ 0  0  0  0  0  1  1  0  2 55]]\n"
     ]
    }
   ],
   "source": [
    "y_pred = grid_cv.predict(x_test_transformed)\n",
    "score = grid_cv.score(x_test_transformed, y_test)\n",
    "cm = confusion_matrix(y_test, y_pred)\n",
    "\n",
    "print(f\"Score: {score}\")\n",
    "print(f\"Confusion-Matrix:\\n{cm}\")"
   ]
  }
 ],
 "metadata": {
  "interpreter": {
   "hash": "b39aff1b61fe85f4118496f45c760b71b839e4135989d9e0580dffbd2a86ce87"
  },
  "kernelspec": {
   "display_name": "Python 3.8.12 64-bit ('tensor_gpu': conda)",
   "language": "python",
   "name": "python3"
  },
  "language_info": {
   "codemirror_mode": {
    "name": "ipython",
    "version": 3
   },
   "file_extension": ".py",
   "mimetype": "text/x-python",
   "name": "python",
   "nbconvert_exporter": "python",
   "pygments_lexer": "ipython3",
   "version": "3.8.12"
  },
  "orig_nbformat": 4
 },
 "nbformat": 4,
 "nbformat_minor": 2
}
