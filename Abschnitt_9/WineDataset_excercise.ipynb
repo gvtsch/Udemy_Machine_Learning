{
 "cells": [
  {
   "cell_type": "code",
   "execution_count": 1,
   "metadata": {},
   "outputs": [],
   "source": [
    "import numpy as np\r\n",
    "np.random.seed(42)\r\n",
    "import pandas as pd\r\n",
    "from sklearn.datasets import load_wine\r\n",
    "from sklearn.tree import DecisionTreeClassifier\r\n",
    "from sklearn.model_selection import GridSearchCV\r\n",
    "from sklearn.model_selection import train_test_split"
   ]
  },
  {
   "cell_type": "code",
   "execution_count": 2,
   "metadata": {},
   "outputs": [],
   "source": [
    "dataset = load_wine()\r\n",
    "x, y = dataset.data, dataset.target"
   ]
  },
  {
   "cell_type": "code",
   "execution_count": 3,
   "metadata": {},
   "outputs": [
    {
     "data": {
      "text/html": "<div>\n<style scoped>\n    .dataframe tbody tr th:only-of-type {\n        vertical-align: middle;\n    }\n\n    .dataframe tbody tr th {\n        vertical-align: top;\n    }\n\n    .dataframe thead th {\n        text-align: right;\n    }\n</style>\n<table border=\"1\" class=\"dataframe\">\n  <thead>\n    <tr style=\"text-align: right;\">\n      <th></th>\n      <th>alcohol</th>\n      <th>malic_acid</th>\n      <th>ash</th>\n      <th>alcalinity_of_ash</th>\n      <th>magnesium</th>\n      <th>total_phenols</th>\n      <th>flavanoids</th>\n      <th>nonflavanoid_phenols</th>\n      <th>proanthocyanins</th>\n      <th>color_intensity</th>\n      <th>hue</th>\n      <th>od280/od315_of_diluted_wines</th>\n      <th>proline</th>\n      <th>y</th>\n    </tr>\n  </thead>\n  <tbody>\n    <tr>\n      <th>0</th>\n      <td>14.23</td>\n      <td>1.71</td>\n      <td>2.43</td>\n      <td>15.6</td>\n      <td>127.0</td>\n      <td>2.80</td>\n      <td>3.06</td>\n      <td>0.28</td>\n      <td>2.29</td>\n      <td>5.64</td>\n      <td>1.04</td>\n      <td>3.92</td>\n      <td>1065.0</td>\n      <td>0</td>\n    </tr>\n    <tr>\n      <th>1</th>\n      <td>13.20</td>\n      <td>1.78</td>\n      <td>2.14</td>\n      <td>11.2</td>\n      <td>100.0</td>\n      <td>2.65</td>\n      <td>2.76</td>\n      <td>0.26</td>\n      <td>1.28</td>\n      <td>4.38</td>\n      <td>1.05</td>\n      <td>3.40</td>\n      <td>1050.0</td>\n      <td>0</td>\n    </tr>\n    <tr>\n      <th>2</th>\n      <td>13.16</td>\n      <td>2.36</td>\n      <td>2.67</td>\n      <td>18.6</td>\n      <td>101.0</td>\n      <td>2.80</td>\n      <td>3.24</td>\n      <td>0.30</td>\n      <td>2.81</td>\n      <td>5.68</td>\n      <td>1.03</td>\n      <td>3.17</td>\n      <td>1185.0</td>\n      <td>0</td>\n    </tr>\n    <tr>\n      <th>3</th>\n      <td>14.37</td>\n      <td>1.95</td>\n      <td>2.50</td>\n      <td>16.8</td>\n      <td>113.0</td>\n      <td>3.85</td>\n      <td>3.49</td>\n      <td>0.24</td>\n      <td>2.18</td>\n      <td>7.80</td>\n      <td>0.86</td>\n      <td>3.45</td>\n      <td>1480.0</td>\n      <td>0</td>\n    </tr>\n    <tr>\n      <th>4</th>\n      <td>13.24</td>\n      <td>2.59</td>\n      <td>2.87</td>\n      <td>21.0</td>\n      <td>118.0</td>\n      <td>2.80</td>\n      <td>2.69</td>\n      <td>0.39</td>\n      <td>1.82</td>\n      <td>4.32</td>\n      <td>1.04</td>\n      <td>2.93</td>\n      <td>735.0</td>\n      <td>0</td>\n    </tr>\n  </tbody>\n</table>\n</div>",
      "text/plain": "   alcohol  malic_acid   ash  alcalinity_of_ash  magnesium  total_phenols  \\\n0    14.23        1.71  2.43               15.6      127.0           2.80   \n1    13.20        1.78  2.14               11.2      100.0           2.65   \n2    13.16        2.36  2.67               18.6      101.0           2.80   \n3    14.37        1.95  2.50               16.8      113.0           3.85   \n4    13.24        2.59  2.87               21.0      118.0           2.80   \n\n   flavanoids  nonflavanoid_phenols  proanthocyanins  color_intensity   hue  \\\n0        3.06                  0.28             2.29             5.64  1.04   \n1        2.76                  0.26             1.28             4.38  1.05   \n2        3.24                  0.30             2.81             5.68  1.03   \n3        3.49                  0.24             2.18             7.80  0.86   \n4        2.69                  0.39             1.82             4.32  1.04   \n\n   od280/od315_of_diluted_wines  proline  y  \n0                          3.92   1065.0  0  \n1                          3.40   1050.0  0  \n2                          3.17   1185.0  0  \n3                          3.45   1480.0  0  \n4                          2.93    735.0  0  "
     },
     "execution_count": 3,
     "metadata": {},
     "output_type": "execute_result"
    }
   ],
   "source": [
    "df = pd.DataFrame(x, columns = dataset.feature_names)\r\n",
    "df[\"y\"] = y\r\n",
    "df.head()"
   ]
  },
  {
   "cell_type": "markdown",
   "metadata": {},
   "source": [
    "## Cart Classifier"
   ]
  },
  {
   "cell_type": "code",
   "execution_count": 4,
   "metadata": {},
   "outputs": [],
   "source": [
    "x_train, x_test, y_train, y_test = train_test_split(x, y, test_size = 0.3)\r\n"
   ]
  },
  {
   "cell_type": "code",
   "execution_count": 9,
   "metadata": {},
   "outputs": [
    {
     "name": "stderr",
     "output_type": "stream",
     "text": [
      "C:\\Tools\\Python-Extra-PyPI\\site-packages\\sklearn\\model_selection\\_search.py:921: UserWarning: One or more of the test scores are non-finite: [       nan 0.91346154 0.86410256        nan 0.87884615 0.88846154\n",
      "        nan 0.93461538 0.90512821        nan 0.94358974 0.88076923\n",
      "        nan 0.93525641 0.89423077        nan 0.86987179 0.89551282\n",
      "        nan 0.83974359 0.83910256        nan 0.78461538 0.85641026\n",
      "        nan 0.79294872 0.8474359         nan 0.78333333 0.82628205\n",
      "        nan 0.86410256 0.84615385        nan 0.87115385 0.83205128\n",
      "        nan 0.90448718 0.87307692        nan 0.90320513 0.88846154\n",
      "        nan 0.90384615 0.84807692        nan 0.88012821 0.86346154\n",
      "        nan 0.88076923 0.88653846        nan 0.90320513 0.83205128\n",
      "        nan 0.84038462 0.92051282        nan 0.88846154 0.87820513\n",
      "        nan 0.90448718 0.85641026        nan 0.87051282 0.88076923\n",
      "        nan 0.91282051 0.92820513        nan 0.93525641 0.85448718\n",
      "        nan 0.88589744 0.8974359         nan 0.9275641  0.91282051\n",
      "        nan 0.9275641  0.87115385        nan 0.89551282 0.88782051\n",
      "        nan 0.94358974 0.87948718        nan 0.91089744 0.87051282\n",
      "        nan 0.91923077 0.89679487        nan 0.89487179 0.85320513\n",
      "        nan 0.92564103 0.87179487        nan 0.8974359  0.89615385\n",
      "        nan 0.91089744 0.92115385        nan 0.84615385 0.87051282\n",
      "        nan 0.83012821 0.84166667        nan 0.8        0.88012821\n",
      "        nan 0.82564103 0.83269231        nan 0.87179487 0.81538462\n",
      "        nan 0.82307692 0.84679487        nan 0.87820513 0.825\n",
      "        nan 0.86217949 0.84871795        nan 0.90448718 0.90961538\n",
      "        nan 0.88717949 0.89487179        nan 0.86282051 0.87051282\n",
      "        nan 0.88782051 0.83205128        nan 0.91153846 0.91987179\n",
      "        nan 0.91923077 0.90384615        nan 0.91923077 0.92948718\n",
      "        nan 0.91025641 0.93653846        nan 0.88782051 0.87820513\n",
      "        nan 0.91153846 0.88653846        nan 0.90384615 0.89615385\n",
      "        nan 0.87884615 0.87884615        nan 0.87115385 0.91025641\n",
      "        nan 0.93461538 0.8724359         nan 0.8775641  0.91153846\n",
      "        nan 0.8974359  0.93525641        nan 0.87115385 0.88910256]\n",
      "  category=UserWarning\n"
     ]
    },
    {
     "data": {
      "text/plain": "GridSearchCV(cv=10, estimator=DecisionTreeClassifier(), n_jobs=-1,\n             param_grid={'criterion': ['gini', 'entropy'],\n                         'max_depth': [None, 2, 4, 8, 10],\n                         'max_features': ['auto', 'sqrt', 'log2'],\n                         'min_samples_leaf': [1, 2],\n                         'min_samples_split': [1, 2, 4]})"
     },
     "execution_count": 9,
     "metadata": {},
     "output_type": "execute_result"
    }
   ],
   "source": [
    "parameters = {\r\n",
    "    'criterion': ['gini', 'entropy'],\r\n",
    "    'max_depth': [None, 2, 4, 8, 10],\r\n",
    "    'min_samples_split': [1, 2, 4], # Wie viele Samples müssen noch in diesen Split gehen, um diesen zu erstellen?\r\n",
    "    'min_samples_leaf': [1, 2],\r\n",
    "    'max_features': ['auto', 'sqrt', 'log2']\r\n",
    "}\r\n",
    "\r\n",
    "clf = DecisionTreeClassifier()\r\n",
    "grid_cv = GridSearchCV(clf, parameters, cv = 10, n_jobs = -1)\r\n",
    "grid_cv.fit(x_train, y_train)"
   ]
  },
  {
   "cell_type": "code",
   "execution_count": 6,
   "metadata": {},
   "outputs": [
    {
     "name": "stdout",
     "output_type": "stream",
     "text": [
      "Parameters of best model: {'criterion': 'entropy', 'max_depth': 10, 'max_features': 'sqrt', 'min_samples_leaf': 1, 'min_samples_split': 4}\n",
      "Score of best model: 0.9525641025641025\n"
     ]
    }
   ],
   "source": [
    "print(f\"Parameters of best model: {grid_cv.best_params_}\")\r\n",
    "print(f\"Score of best model: {grid_cv.best_score_}\")"
   ]
  },
  {
   "cell_type": "code",
   "execution_count": 33,
   "metadata": {},
   "outputs": [
    {
     "name": "stdout",
     "output_type": "stream",
     "text": [
      "Accuracy: 0.8888888888888888\n"
     ]
    }
   ],
   "source": [
    "# Train best model\r\n",
    "clf = DecisionTreeClassifier(\r\n",
    "    criterion='entropy', \r\n",
    "    max_depth=8, \r\n",
    "    max_features='auto', \r\n",
    "    min_samples_leaf=2, \r\n",
    "    min_samples_split=4)\r\n",
    "clf.fit(x_train, y_train)\r\n",
    "score = clf.score(x_test, y_test)\r\n",
    "print(f\"Accuracy: {score}\")"
   ]
  }
 ],
 "metadata": {
  "kernelspec": {
   "display_name": "Python 3.7.2 64-bit",
   "metadata": {
    "interpreter": {
     "hash": "eb5e4990910e14dd45c435c2968b5a5f5ce800b4f8a2bb72e1f77e313f787063"
    }
   },
   "name": "python3"
  },
  "language_info": {
   "codemirror_mode": {
    "name": "ipython",
    "version": 3
   },
   "file_extension": ".py",
   "mimetype": "text/x-python",
   "name": "python",
   "nbconvert_exporter": "python",
   "pygments_lexer": "ipython3",
   "version": "3.7.2"
  },
  "orig_nbformat": 2
 },
 "nbformat": 4,
 "nbformat_minor": 2
}