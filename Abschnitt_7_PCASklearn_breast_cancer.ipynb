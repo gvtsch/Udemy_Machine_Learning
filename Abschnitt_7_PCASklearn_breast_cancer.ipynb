{
 "cells": [
  {
   "cell_type": "markdown",
   "metadata": {},
   "source": [
    "#### Dataset"
   ]
  },
  {
   "cell_type": "code",
   "execution_count": 1,
   "metadata": {},
   "outputs": [],
   "source": [
    "import numpy as np\n",
    "np.random.seed(42)"
   ]
  },
  {
   "cell_type": "code",
   "execution_count": 2,
   "metadata": {},
   "outputs": [],
   "source": [
    "import matplotlib.pyplot as plt\n",
    "from sklearn.datasets import load_breast_cancer"
   ]
  },
  {
   "cell_type": "code",
   "execution_count": 3,
   "metadata": {},
   "outputs": [],
   "source": [
    "dataset = load_breast_cancer()\r\n",
    "\r\n",
    "#print(f\"ClassNames: {dataset.target_names}\")\r\n",
    "# print(f\"DESCR:\\n{dataset.DESCR}\")"
   ]
  },
  {
   "cell_type": "code",
   "execution_count": 4,
   "metadata": {},
   "outputs": [
    {
     "name": "stdout",
     "output_type": "stream",
     "text": [
      "x-shape: (569, 30)\n"
     ]
    }
   ],
   "source": [
    "x = dataset.data\r\n",
    "y = dataset.target\r\n",
    "\r\n",
    "print(f\"x-shape: {x.shape}\")"
   ]
  },
  {
   "cell_type": "markdown",
   "metadata": {},
   "source": [
    "#### PCA"
   ]
  },
  {
   "cell_type": "code",
   "execution_count": 5,
   "metadata": {},
   "outputs": [],
   "source": [
    "from sklearn.preprocessing import StandardScaler\n",
    "from sklearn.decomposition import PCA"
   ]
  },
  {
   "cell_type": "code",
   "execution_count": 6,
   "metadata": {},
   "outputs": [],
   "source": [
    "scaler = StandardScaler() # ZUm Normalisieren der Daten\r\n",
    "scaler.fit(x)\r\n",
    "\r\n",
    "# StandardScaler.fit(x)\r\n",
    "x_mean = np.mean(x, axis=0)\r\n",
    "x_std = np.std(x, axis=0)\r\n",
    "# print(f\"x mean:\\n{x_mean}\")\r\n",
    "# print(f\"x std:\\n{x_std}\")\r\n",
    "\r\n",
    "x_standardized = scaler.transform(x)\r\n",
    "# print(x_standardized[0])\r\n",
    "\r\n",
    "# StandardScaler.transform(x)\r\n",
    "x_ = (x - x_mean) / x_std\r\n",
    "# print(x_[0])"
   ]
  },
  {
   "cell_type": "code",
   "execution_count": 7,
   "metadata": {},
   "outputs": [],
   "source": [
    "n_components = 15\n",
    "pca = PCA(n_components=n_components, copy=True)\n",
    "pca.fit(x_standardized)\n",
    "x_pca = pca.transform(x_standardized)"
   ]
  },
  {
   "cell_type": "code",
   "execution_count": 8,
   "metadata": {},
   "outputs": [],
   "source": [
    "# print(f\"Components:\\n{pca.components_}\")\r\n",
    "# print(f\"Explained Variance:\\n{pca.explained_variance_}\")\r\n",
    "# print(f\"Explained Variance Ratio:\\n{pca.explained_variance_ratio_}\")\r\n",
    "# print(f\"Sum of Exmplained Variance Ratio:\\n{sum(pca.explained_variance_ratio_)}\")"
   ]
  },
  {
   "cell_type": "code",
   "execution_count": 9,
   "metadata": {},
   "outputs": [
    {
     "data": {
      "image/png": "[encoded data removed]",
      "text/plain": "<Figure size 432x288 with 1 Axes>"
     },
     "metadata": {},
     "output_type": "display_data"
    }
   ],
   "source": [
    "colors = [\"red\", \"blue\"]\n",
    "for index, point in enumerate(x_pca):\n",
    "    plt.scatter(point[0], point[1], color=colors[y[index]])\n",
    "plt.show()"
   ]
  },
  {
   "cell_type": "markdown",
   "metadata": {},
   "source": [
    "# Aufgabe 1\n",
    "\n",
    "Finde die Anzahl an Dimensionen, um 90% der Varianz \"zu erklären\""
   ]
  },
  {
   "cell_type": "code",
   "execution_count": 10,
   "metadata": {},
   "outputs": [
    {
     "name": "stdout",
     "output_type": "stream",
     "text": [
      "n_components: 7\n",
      "Explained Variance: 0.9100953006940762\n",
      "Explained Variance: 0.9100953006967308 with n_components: 7\n"
     ]
    }
   ],
   "source": [
    "for n_components in range (1, len(x[1])+1):\r\n",
    "    pca = PCA(n_components = n_components, copy=True)\r\n",
    "    pca.fit(x_standardized)\r\n",
    "    x_pca = pca.transform(x_standardized)\r\n",
    "\r\n",
    "    if sum(pca.explained_variance_ratio_) >= 0.90:\r\n",
    "        print(f\"n_components: {n_components}\")\r\n",
    "        # print(f\"Components:\\n{pca.components_}\")\r\n",
    "        print(f\"Explained Variance: {sum(pca.explained_variance_ratio_)}\")\r\n",
    "        break\r\n",
    "\r\n",
    "# Man kann die for-Schleife auch umgehen bzw. die 90% direkt angeben:\r\n",
    "pca = PCA(n_components = 0.90)\r\n",
    "pca.fit(x_standardized)\r\n",
    "explained_var_ratio = sum(pca.explained_variance_ratio_)\r\n",
    "print(f\"Explained Variance: {sum(pca.explained_variance_ratio_)} with n_components: {n_components}\")"
   ]
  },
  {
   "cell_type": "markdown",
   "metadata": {},
   "source": [
    "# Aufgabe 2\n",
    "\n",
    "Wende das gefundene Setup auf die Daten an"
   ]
  },
  {
   "cell_type": "code",
   "execution_count": 11,
   "metadata": {},
   "outputs": [],
   "source": [
    "x_pca = pca.transform(x_standardized)"
   ]
  },
  {
   "cell_type": "markdown",
   "metadata": {},
   "source": [
    "# Aufgabe 3\n",
    "\n",
    "Split das Dataset in ein Train and Testset"
   ]
  },
  {
   "cell_type": "code",
   "execution_count": 12,
   "metadata": {},
   "outputs": [],
   "source": [
    "from sklearn.model_selection import train_test_split\r\n",
    "x_train, x_test, y_train, y_test = train_test_split(x_pca, y, test_size=0.30)"
   ]
  },
  {
   "cell_type": "markdown",
   "metadata": {},
   "source": [
    "# Aufgabe 4\n",
    "\n",
    "Wende den KNN-Classifier auf den transformierten Daten an.  \n",
    "Du kannst dabei auch mit einer For-Schleife die optimale Anzahl an Nachbarn bestimmen."
   ]
  },
  {
   "cell_type": "code",
   "execution_count": 20,
   "metadata": {},
   "outputs": [
    {
     "name": "stdout",
     "output_type": "stream",
     "text": [
      "1\n",
      "Neighbors: 1, Score: 0.9357\n",
      "2\n",
      "3\n",
      "Neighbors: 3, Score: 0.9474\n",
      "4\n",
      "Neighbors: 4, Score: 0.9591\n",
      "5\n",
      "6\n",
      "7\n",
      "8\n",
      "9\n",
      "10\n"
     ]
    }
   ],
   "source": [
    "from sklearn.neighbors import KNeighborsClassifier\r\n",
    "\r\n",
    "best_score = 0.0\r\n",
    "for n_neighbor in range(1, 11):\r\n",
    "    clf = KNeighborsClassifier(\r\n",
    "        n_neighbors=n_neighbor\r\n",
    "    )\r\n",
    "    clf.fit(x_train, y_train)\r\n",
    "    accuracy = clf.score(x_test, y_test)\r\n",
    "\r\n",
    "    if accuracy > best_score:\r\n",
    "        best_score = accuracy\r\n",
    "        print(f\"Neighbors: {n_neighbor}, Score: {accuracy:.4}\")"
   ]
  },
  {
   "cell_type": "markdown",
   "metadata": {},
   "source": [
    "# Aufgabe 5\n",
    "\n",
    "Wende den KNN-Classifier auf den Standardisierten (aber nicht PCA transofrmierten) Daten an.  \n",
    "Teste auch hier wieder, welche Anzahl an Nachbarn optimal ist.  \n",
    "Was für Performance-Unterschiede sind zu beobachten?"
   ]
  },
  {
   "cell_type": "code",
   "execution_count": 14,
   "metadata": {},
   "outputs": [
    {
     "name": "stdout",
     "output_type": "stream",
     "text": [
      "Neighbors: 1, Score: 0.9357\n",
      "Neighbors: 3, Score: 0.9474\n",
      "Neighbors: 4, Score: 0.9591\n"
     ]
    }
   ],
   "source": [
    "x_train, x_test, y_train, y_test = train_test_split(x_standardized, y, test_size=0.30)\r\n",
    "\r\n",
    "best_score = 0.0\r\n",
    "for n_neighbor in range(1, 10+1):\r\n",
    "    clf = KNeighborsClassifier(\r\n",
    "        n_neighbors=n_neighbor\r\n",
    "    )\r\n",
    "    clf.fit(x_train, y_train)\r\n",
    "    accuracy = clf.score(x_test, y_test)\r\n",
    "\r\n",
    "    if accuracy > best_score:\r\n",
    "        best_score = accuracy\r\n",
    "        print(f\"Neighbors: {n_neighbor}, Score: {accuracy:.4}\")"
   ]
  }
 ],
 "metadata": {
  "kernelspec": {
   "display_name": "Python 3.7.2 64-bit",
   "metadata": {
    "interpreter": {
     "hash": "eb5e4990910e14dd45c435c2968b5a5f5ce800b4f8a2bb72e1f77e313f787063"
    }
   },
   "name": "python3"
  },
  "language_info": {
   "codemirror_mode": {
    "name": "ipython",
    "version": 3
   },
   "file_extension": ".py",
   "mimetype": "text/x-python",
   "name": "python",
   "nbconvert_exporter": "python",
   "pygments_lexer": "ipython3",
   "version": "3.7.2"
  },
  "orig_nbformat": 2
 },
 "nbformat": 4,
 "nbformat_minor": 2
}